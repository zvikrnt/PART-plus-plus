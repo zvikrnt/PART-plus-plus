{
 "cells": [
  {
   "cell_type": "code",
   "execution_count": 1,
   "id": "5bd2a0e6-69e8-498d-be7a-d0c13ab19f99",
   "metadata": {},
   "outputs": [
    {
     "name": "stdout",
     "output_type": "stream",
     "text": [
      "True\n"
     ]
    },
    {
     "name": "stderr",
     "output_type": "stream",
     "text": [
      "C:\\Users\\pc\\anaconda3\\envs\\clean_env\\lib\\site-packages\\tqdm\\auto.py:21: TqdmWarning: IProgress not found. Please update jupyter and ipywidgets. See https://ipywidgets.readthedocs.io/en/stable/user_install.html\n",
      "  from .autonotebook import tqdm as notebook_tqdm\n"
     ]
    }
   ],
   "source": [
    "import torch\n",
    "print(torch.cuda.is_available())\n"
   ]
  },
  {
   "cell_type": "code",
   "execution_count": 5,
   "id": "664012bd-0be2-4327-ae93-5255a4c82d5d",
   "metadata": {},
   "outputs": [
    {
     "name": "stderr",
     "output_type": "stream",
     "text": [
      "2025-04-13 17:29:37,014 - INFO - Starting Pixel-reweighted Adversarial Training with Ensemble CAM...\n",
      "2025-04-13 17:29:37,016 - INFO - Arguments parsed successfully\n",
      "2025-04-13 17:29:37,016 - INFO - Setting up with seed 1\n",
      "2025-04-13 17:29:37,017 - INFO - Random seed 1 set successfully\n",
      "2025-04-13 17:29:37,017 - INFO - Using device: cuda\n",
      "2025-04-13 17:29:37,018 - INFO - CUDA devices set to 0,1,2,3\n",
      "2025-04-13 17:29:37,018 - INFO - Loading CIFAR10 dataset...\n"
     ]
    },
    {
     "name": "stdout",
     "output_type": "stream",
     "text": [
      "Logging configured. Log file: logs/training_20250413_172937.log\n",
      "Starting Pixel-reweighted Adversarial Training with Ensemble CAM...\n",
      "Arguments parsed successfully\n",
      "Setting up with seed 1\n",
      "Random seed 1 set successfully\n",
      "Using device: cuda\n",
      "CUDA devices set to 0,1,2,3\n",
      "Loading CIFAR10 dataset...\n",
      "Files already downloaded and verified\n",
      "Files already downloaded and verified\n"
     ]
    },
    {
     "name": "stderr",
     "output_type": "stream",
     "text": [
      "2025-04-13 17:29:38,205 - INFO - CIFAR10 dataset loaded successfully\n",
      "2025-04-13 17:29:38,275 - INFO - ResNet18 model initialized for CIFAR10\n",
      "2025-04-13 17:29:38,276 - INFO - Using existing model directory: ./checkpoint/CIFAR10/ResNet_18/PART_Ensemble\n",
      "2025-04-13 17:29:38,277 - INFO - Model parallelized across multiple GPUs\n",
      "2025-04-13 17:29:38,278 - INFO - cudnn.benchmark enabled\n",
      "2025-04-13 17:29:38,278 - INFO - Optimizer configured with lr=0.01, momentum=0.9, weight_decay=0.0002\n",
      "2025-04-13 17:29:38,279 - INFO - Starting warm-up training for 3 epochs\n",
      "2025-04-13 17:29:38,279 - INFO - Warm-up Epoch 1/3 started\n",
      "2025-04-13 17:29:38,280 - INFO - Starting standard training for warm-up epoch 1\n"
     ]
    },
    {
     "name": "stdout",
     "output_type": "stream",
     "text": [
      "CIFAR10 dataset loaded successfully\n",
      "ResNet18 model initialized for CIFAR10\n",
      "Using existing model directory: ./checkpoint/CIFAR10/ResNet_18/PART_Ensemble\n",
      "Model parallelized across multiple GPUs\n",
      "cudnn.benchmark enabled\n",
      "Optimizer configured with lr=0.01, momentum=0.9, weight_decay=0.0002\n",
      "Starting warm-up training for 3 epochs\n",
      "Warm-up Epoch 1/3 started\n",
      "Starting standard training for warm-up epoch 1\n"
     ]
    },
    {
     "name": "stderr",
     "output_type": "stream",
     "text": [
      "2025-04-13 17:29:38,722 - INFO - Warm-up Epoch: 1 [256/50000 (0.51%)]\tLoss: 2.495690 Avg Loss: 2.495690 Accuracy: 8.59%\n"
     ]
    },
    {
     "name": "stdout",
     "output_type": "stream",
     "text": [
      "Warm-up Epoch: 1 [256/50000 (0.51%)]\tLoss: 2.495690 Avg Loss: 2.495690 Accuracy: 8.59%\n"
     ]
    },
    {
     "name": "stderr",
     "output_type": "stream",
     "text": [
      "2025-04-13 17:29:53,438 - INFO - Warm-up Epoch: 1 [25856/50000 (51.53%)]\tLoss: 1.465158 Avg Loss: 1.681361 Accuracy: 37.34%\n"
     ]
    },
    {
     "name": "stdout",
     "output_type": "stream",
     "text": [
      "Warm-up Epoch: 1 [25856/50000 (51.53%)]\tLoss: 1.465158 Avg Loss: 1.681361 Accuracy: 37.34%\n"
     ]
    },
    {
     "name": "stderr",
     "output_type": "stream",
     "text": [
      "2025-04-13 17:30:07,122 - INFO - Warm-up Epoch 1 completed: Average Loss: 1.484460, Accuracy: 45.23%\n",
      "2025-04-13 17:30:07,123 - INFO - Warm-up Epoch 1 stats - Loss: 1.484460, Accuracy: 45.23%\n",
      "2025-04-13 17:30:07,123 - INFO - Warm-up Epoch 2/3 started\n",
      "2025-04-13 17:30:07,124 - INFO - Starting standard training for warm-up epoch 2\n",
      "2025-04-13 17:30:07,273 - INFO - Warm-up Epoch: 2 [256/50000 (0.51%)]\tLoss: 1.245375 Avg Loss: 1.245375 Accuracy: 54.69%\n"
     ]
    },
    {
     "name": "stdout",
     "output_type": "stream",
     "text": [
      "Warm-up Epoch 1 completed: Average Loss: 1.484460, Accuracy: 45.23%\n",
      "Warm-up Epoch 1 stats - Loss: 1.484460, Accuracy: 45.23%\n",
      "Warm-up Epoch 2/3 started\n",
      "Starting standard training for warm-up epoch 2\n",
      "Warm-up Epoch: 2 [256/50000 (0.51%)]\tLoss: 1.245375 Avg Loss: 1.245375 Accuracy: 54.69%\n"
     ]
    },
    {
     "name": "stderr",
     "output_type": "stream",
     "text": [
      "2025-04-13 17:30:21,640 - INFO - Warm-up Epoch: 2 [25856/50000 (51.53%)]\tLoss: 0.983930 Avg Loss: 1.077768 Accuracy: 61.33%\n"
     ]
    },
    {
     "name": "stdout",
     "output_type": "stream",
     "text": [
      "Warm-up Epoch: 2 [25856/50000 (51.53%)]\tLoss: 0.983930 Avg Loss: 1.077768 Accuracy: 61.33%\n"
     ]
    },
    {
     "name": "stderr",
     "output_type": "stream",
     "text": [
      "2025-04-13 17:30:35,346 - INFO - Warm-up Epoch 2 completed: Average Loss: 1.012613, Accuracy: 63.74%\n",
      "2025-04-13 17:30:35,347 - INFO - Warm-up Epoch 2 stats - Loss: 1.012613, Accuracy: 63.74%\n",
      "2025-04-13 17:30:35,403 - INFO - Saved model checkpoint to ./checkpoint/CIFAR10/ResNet_18/PART_Ensemble\\pre_part_epoch2.pth\n",
      "2025-04-13 17:30:35,404 - INFO - ================================================================\n",
      "2025-04-13 17:30:35,404 - INFO - Warm-up Epoch 3/3 started\n",
      "2025-04-13 17:30:35,405 - INFO - Starting standard training for warm-up epoch 3\n"
     ]
    },
    {
     "name": "stdout",
     "output_type": "stream",
     "text": [
      "Warm-up Epoch 2 completed: Average Loss: 1.012613, Accuracy: 63.74%\n",
      "Warm-up Epoch 2 stats - Loss: 1.012613, Accuracy: 63.74%\n",
      "Saved model checkpoint to ./checkpoint/CIFAR10/ResNet_18/PART_Ensemble\\pre_part_epoch2.pth\n",
      "================================================================\n",
      "Warm-up Epoch 3/3 started\n",
      "Starting standard training for warm-up epoch 3\n"
     ]
    },
    {
     "name": "stderr",
     "output_type": "stream",
     "text": [
      "2025-04-13 17:30:35,554 - INFO - Warm-up Epoch: 3 [256/50000 (0.51%)]\tLoss: 0.942117 Avg Loss: 0.942117 Accuracy: 65.62%\n"
     ]
    },
    {
     "name": "stdout",
     "output_type": "stream",
     "text": [
      "Warm-up Epoch: 3 [256/50000 (0.51%)]\tLoss: 0.942117 Avg Loss: 0.942117 Accuracy: 65.62%\n"
     ]
    },
    {
     "name": "stderr",
     "output_type": "stream",
     "text": [
      "2025-04-13 17:30:50,320 - INFO - Warm-up Epoch: 3 [25856/50000 (51.53%)]\tLoss: 0.721702 Avg Loss: 0.828073 Accuracy: 70.68%\n"
     ]
    },
    {
     "name": "stdout",
     "output_type": "stream",
     "text": [
      "Warm-up Epoch: 3 [25856/50000 (51.53%)]\tLoss: 0.721702 Avg Loss: 0.828073 Accuracy: 70.68%\n"
     ]
    },
    {
     "name": "stderr",
     "output_type": "stream",
     "text": [
      "2025-04-13 17:31:04,060 - INFO - Warm-up Epoch 3 completed: Average Loss: 0.788156, Accuracy: 72.21%\n",
      "2025-04-13 17:31:04,061 - INFO - Warm-up Epoch 3 stats - Loss: 0.788156, Accuracy: 72.21%\n",
      "2025-04-13 17:31:04,062 - INFO - Warm-up training completed successfully\n",
      "2025-04-13 17:31:04,063 - INFO - Initializing CAM Ensemble...\n",
      "2025-04-13 17:31:04,064 - INFO - CAM Ensemble initialized successfully\n",
      "2025-04-13 17:31:04,064 - INFO - Starting adversarial training with Ensemble CAM for 7 epochs\n",
      "2025-04-13 17:31:04,065 - INFO - Adversarial Training Epoch 1/7\n",
      "2025-04-13 17:31:04,066 - INFO - Adjusting learning rate for epoch 1\n",
      "2025-04-13 17:31:04,067 - INFO - Learning rate adjusted to 0.01\n",
      "2025-04-13 17:31:04,069 - INFO - Starting adversarial training for epoch 1 with Ensemble CAM\n"
     ]
    },
    {
     "name": "stdout",
     "output_type": "stream",
     "text": [
      "Warm-up Epoch 3 completed: Average Loss: 0.788156, Accuracy: 72.21%\n",
      "Warm-up Epoch 3 stats - Loss: 0.788156, Accuracy: 72.21%\n",
      "Warm-up training completed successfully\n",
      "Initializing CAM Ensemble...\n",
      "CAM Ensemble initialized successfully\n",
      "Starting adversarial training with Ensemble CAM for 7 epochs\n",
      "Adversarial Training Epoch 1/7\n",
      "Adjusting learning rate for epoch 1\n",
      "Learning rate adjusted to 0.01\n",
      "Starting adversarial training for epoch 1 with Ensemble CAM\n"
     ]
    },
    {
     "name": "stderr",
     "output_type": "stream",
     "text": [
      "2025-04-13 17:31:06,298 - INFO - Train Epoch: 1 [0/50000 (0%)]\tLoss: 7.272755 | Avg Loss: 7.272755 | Acc: 0.39%\n"
     ]
    },
    {
     "name": "stdout",
     "output_type": "stream",
     "text": [
      "Train Epoch: 1 [0/50000 (0%)]\tLoss: 7.272755 | Avg Loss: 7.272755 | Acc: 0.39%\n"
     ]
    },
    {
     "name": "stderr",
     "output_type": "stream",
     "text": [
      "2025-04-13 17:34:48,792 - INFO - Train Epoch: 1 [25600/50000 (51%)]\tLoss: 1.942510 | Avg Loss: 2.091855 | Acc: 25.34%\n"
     ]
    },
    {
     "name": "stdout",
     "output_type": "stream",
     "text": [
      "Train Epoch: 1 [25600/50000 (51%)]\tLoss: 1.942510 | Avg Loss: 2.091855 | Acc: 25.34%\n"
     ]
    },
    {
     "name": "stderr",
     "output_type": "stream",
     "text": [
      "2025-04-13 17:38:18,347 - INFO - Epoch 1 Complete: Avg Loss 1.9891 | Acc 27.08%\n",
      "2025-04-13 17:38:18,348 - INFO - Adversarial Training Epoch 1 stats - Loss: 1.989106, Accuracy: 27.08%\n",
      "2025-04-13 17:38:18,349 - INFO - ================================================================\n",
      "2025-04-13 17:38:18,350 - INFO - Adversarial Training Epoch 2/7\n",
      "2025-04-13 17:38:18,350 - INFO - Adjusting learning rate for epoch 2\n",
      "2025-04-13 17:38:18,351 - INFO - Learning rate adjusted to 0.01\n",
      "2025-04-13 17:38:18,351 - INFO - Starting adversarial training for epoch 2 with Ensemble CAM\n"
     ]
    },
    {
     "name": "stdout",
     "output_type": "stream",
     "text": [
      "Epoch 1 Complete: Avg Loss 1.9891 | Acc 27.08%\n",
      "Adversarial Training Epoch 1 stats - Loss: 1.989106, Accuracy: 27.08%\n",
      "================================================================\n",
      "Adversarial Training Epoch 2/7\n",
      "Adjusting learning rate for epoch 2\n",
      "Learning rate adjusted to 0.01\n",
      "Starting adversarial training for epoch 2 with Ensemble CAM\n"
     ]
    },
    {
     "name": "stderr",
     "output_type": "stream",
     "text": [
      "2025-04-13 17:38:20,582 - INFO - Train Epoch: 2 [0/50000 (0%)]\tLoss: 1.857031 | Avg Loss: 1.857031 | Acc: 31.25%\n"
     ]
    },
    {
     "name": "stdout",
     "output_type": "stream",
     "text": [
      "Train Epoch: 2 [0/50000 (0%)]\tLoss: 1.857031 | Avg Loss: 1.857031 | Acc: 31.25%\n"
     ]
    },
    {
     "name": "stderr",
     "output_type": "stream",
     "text": [
      "2025-04-13 17:42:04,434 - INFO - Train Epoch: 2 [25600/50000 (51%)]\tLoss: 1.885553 | Avg Loss: 1.825442 | Acc: 30.38%\n"
     ]
    },
    {
     "name": "stdout",
     "output_type": "stream",
     "text": [
      "Train Epoch: 2 [25600/50000 (51%)]\tLoss: 1.885553 | Avg Loss: 1.825442 | Acc: 30.38%\n"
     ]
    },
    {
     "name": "stderr",
     "output_type": "stream",
     "text": [
      "2025-04-13 17:45:33,496 - INFO - Epoch 2 Complete: Avg Loss 1.8059 | Acc 31.32%\n",
      "2025-04-13 17:45:33,496 - INFO - Adversarial Training Epoch 2 stats - Loss: 1.805911, Accuracy: 31.32%\n",
      "2025-04-13 17:45:33,559 - INFO - Saved model checkpoint to ./checkpoint/CIFAR10/ResNet_18/PART_Ensemble\\part_ensemble_epoch2.pth\n",
      "2025-04-13 17:45:33,565 - INFO - ================================================================\n",
      "2025-04-13 17:45:33,565 - INFO - Adversarial Training Epoch 3/7\n",
      "2025-04-13 17:45:33,565 - INFO - Adjusting learning rate for epoch 3\n",
      "2025-04-13 17:45:33,567 - INFO - Learning rate adjusted to 0.01\n",
      "2025-04-13 17:45:33,567 - INFO - Starting adversarial training for epoch 3 with Ensemble CAM\n"
     ]
    },
    {
     "name": "stdout",
     "output_type": "stream",
     "text": [
      "Epoch 2 Complete: Avg Loss 1.8059 | Acc 31.32%\n",
      "Adversarial Training Epoch 2 stats - Loss: 1.805911, Accuracy: 31.32%\n",
      "Saved model checkpoint to ./checkpoint/CIFAR10/ResNet_18/PART_Ensemble\\part_ensemble_epoch2.pth\n",
      "================================================================\n",
      "Adversarial Training Epoch 3/7\n",
      "Adjusting learning rate for epoch 3\n",
      "Learning rate adjusted to 0.01\n",
      "Starting adversarial training for epoch 3 with Ensemble CAM\n"
     ]
    },
    {
     "name": "stderr",
     "output_type": "stream",
     "text": [
      "2025-04-13 17:45:35,777 - INFO - Train Epoch: 3 [0/50000 (0%)]\tLoss: 1.772653 | Avg Loss: 1.772653 | Acc: 34.38%\n"
     ]
    },
    {
     "name": "stdout",
     "output_type": "stream",
     "text": [
      "Train Epoch: 3 [0/50000 (0%)]\tLoss: 1.772653 | Avg Loss: 1.772653 | Acc: 34.38%\n"
     ]
    },
    {
     "name": "stderr",
     "output_type": "stream",
     "text": [
      "2025-04-13 17:49:16,278 - INFO - Train Epoch: 3 [25600/50000 (51%)]\tLoss: 1.766233 | Avg Loss: 1.759641 | Acc: 32.80%\n"
     ]
    },
    {
     "name": "stdout",
     "output_type": "stream",
     "text": [
      "Train Epoch: 3 [25600/50000 (51%)]\tLoss: 1.766233 | Avg Loss: 1.759641 | Acc: 32.80%\n"
     ]
    },
    {
     "name": "stderr",
     "output_type": "stream",
     "text": [
      "2025-04-13 17:52:44,259 - INFO - Epoch 3 Complete: Avg Loss 1.7582 | Acc 33.04%\n",
      "2025-04-13 17:52:44,259 - INFO - Adversarial Training Epoch 3 stats - Loss: 1.758204, Accuracy: 33.04%\n",
      "2025-04-13 17:52:44,259 - INFO - ================================================================\n",
      "2025-04-13 17:52:44,259 - INFO - Adversarial Training Epoch 4/7\n",
      "2025-04-13 17:52:44,259 - INFO - Adjusting learning rate for epoch 4\n",
      "2025-04-13 17:52:44,271 - INFO - Learning rate adjusted to 0.01\n",
      "2025-04-13 17:52:44,271 - INFO - Starting adversarial training for epoch 4 with Ensemble CAM\n"
     ]
    },
    {
     "name": "stdout",
     "output_type": "stream",
     "text": [
      "Epoch 3 Complete: Avg Loss 1.7582 | Acc 33.04%\n",
      "Adversarial Training Epoch 3 stats - Loss: 1.758204, Accuracy: 33.04%\n",
      "================================================================\n",
      "Adversarial Training Epoch 4/7\n",
      "Adjusting learning rate for epoch 4\n",
      "Learning rate adjusted to 0.01\n",
      "Starting adversarial training for epoch 4 with Ensemble CAM\n"
     ]
    },
    {
     "name": "stderr",
     "output_type": "stream",
     "text": [
      "2025-04-13 17:52:46,478 - INFO - Train Epoch: 4 [0/50000 (0%)]\tLoss: 1.709046 | Avg Loss: 1.709046 | Acc: 35.55%\n"
     ]
    },
    {
     "name": "stdout",
     "output_type": "stream",
     "text": [
      "Train Epoch: 4 [0/50000 (0%)]\tLoss: 1.709046 | Avg Loss: 1.709046 | Acc: 35.55%\n"
     ]
    },
    {
     "name": "stderr",
     "output_type": "stream",
     "text": [
      "2025-04-13 17:56:26,918 - INFO - Train Epoch: 4 [25600/50000 (51%)]\tLoss: 1.694740 | Avg Loss: 1.714913 | Acc: 34.71%\n"
     ]
    },
    {
     "name": "stdout",
     "output_type": "stream",
     "text": [
      "Train Epoch: 4 [25600/50000 (51%)]\tLoss: 1.694740 | Avg Loss: 1.714913 | Acc: 34.71%\n"
     ]
    },
    {
     "name": "stderr",
     "output_type": "stream",
     "text": [
      "2025-04-13 17:59:54,915 - INFO - Epoch 4 Complete: Avg Loss 1.7089 | Acc 34.90%\n",
      "2025-04-13 17:59:54,915 - INFO - Adversarial Training Epoch 4 stats - Loss: 1.708944, Accuracy: 34.90%\n",
      "2025-04-13 17:59:54,973 - INFO - Saved model checkpoint to ./checkpoint/CIFAR10/ResNet_18/PART_Ensemble\\part_ensemble_epoch4.pth\n",
      "2025-04-13 17:59:54,973 - INFO - ================================================================\n",
      "2025-04-13 17:59:54,974 - INFO - Adversarial Training Epoch 5/7\n",
      "2025-04-13 17:59:54,974 - INFO - Adjusting learning rate for epoch 5\n",
      "2025-04-13 17:59:54,974 - INFO - Learning rate adjusted to 0.01\n",
      "2025-04-13 17:59:54,975 - INFO - Starting adversarial training for epoch 5 with Ensemble CAM\n"
     ]
    },
    {
     "name": "stdout",
     "output_type": "stream",
     "text": [
      "Epoch 4 Complete: Avg Loss 1.7089 | Acc 34.90%\n",
      "Adversarial Training Epoch 4 stats - Loss: 1.708944, Accuracy: 34.90%\n",
      "Saved model checkpoint to ./checkpoint/CIFAR10/ResNet_18/PART_Ensemble\\part_ensemble_epoch4.pth\n",
      "================================================================\n",
      "Adversarial Training Epoch 5/7\n",
      "Adjusting learning rate for epoch 5\n",
      "Learning rate adjusted to 0.01\n",
      "Starting adversarial training for epoch 5 with Ensemble CAM\n"
     ]
    },
    {
     "name": "stderr",
     "output_type": "stream",
     "text": [
      "2025-04-13 17:59:57,179 - INFO - Train Epoch: 5 [0/50000 (0%)]\tLoss: 1.525207 | Avg Loss: 1.525207 | Acc: 43.75%\n"
     ]
    },
    {
     "name": "stdout",
     "output_type": "stream",
     "text": [
      "Train Epoch: 5 [0/50000 (0%)]\tLoss: 1.525207 | Avg Loss: 1.525207 | Acc: 43.75%\n"
     ]
    },
    {
     "name": "stderr",
     "output_type": "stream",
     "text": [
      "2025-04-13 18:03:37,644 - INFO - Train Epoch: 5 [25600/50000 (51%)]\tLoss: 1.657188 | Avg Loss: 1.679472 | Acc: 35.90%\n"
     ]
    },
    {
     "name": "stdout",
     "output_type": "stream",
     "text": [
      "Train Epoch: 5 [25600/50000 (51%)]\tLoss: 1.657188 | Avg Loss: 1.679472 | Acc: 35.90%\n"
     ]
    },
    {
     "name": "stderr",
     "output_type": "stream",
     "text": [
      "2025-04-13 18:07:05,695 - INFO - Epoch 5 Complete: Avg Loss 1.6790 | Acc 35.96%\n",
      "2025-04-13 18:07:05,695 - INFO - Adversarial Training Epoch 5 stats - Loss: 1.678963, Accuracy: 35.96%\n",
      "2025-04-13 18:07:05,695 - INFO - ================================================================\n",
      "2025-04-13 18:07:05,695 - INFO - Adversarial Training Epoch 6/7\n",
      "2025-04-13 18:07:05,699 - INFO - Adjusting learning rate for epoch 6\n",
      "2025-04-13 18:07:05,699 - INFO - Learning rate adjusted to 0.01\n",
      "2025-04-13 18:07:05,700 - INFO - Starting adversarial training for epoch 6 with Ensemble CAM\n"
     ]
    },
    {
     "name": "stdout",
     "output_type": "stream",
     "text": [
      "Epoch 5 Complete: Avg Loss 1.6790 | Acc 35.96%\n",
      "Adversarial Training Epoch 5 stats - Loss: 1.678963, Accuracy: 35.96%\n",
      "================================================================\n",
      "Adversarial Training Epoch 6/7\n",
      "Adjusting learning rate for epoch 6\n",
      "Learning rate adjusted to 0.01\n",
      "Starting adversarial training for epoch 6 with Ensemble CAM\n"
     ]
    },
    {
     "name": "stderr",
     "output_type": "stream",
     "text": [
      "2025-04-13 18:07:07,908 - INFO - Train Epoch: 6 [0/50000 (0%)]\tLoss: 1.692701 | Avg Loss: 1.692701 | Acc: 36.72%\n"
     ]
    },
    {
     "name": "stdout",
     "output_type": "stream",
     "text": [
      "Train Epoch: 6 [0/50000 (0%)]\tLoss: 1.692701 | Avg Loss: 1.692701 | Acc: 36.72%\n"
     ]
    },
    {
     "name": "stderr",
     "output_type": "stream",
     "text": [
      "2025-04-13 18:10:48,369 - INFO - Train Epoch: 6 [25600/50000 (51%)]\tLoss: 1.615949 | Avg Loss: 1.641398 | Acc: 37.17%\n"
     ]
    },
    {
     "name": "stdout",
     "output_type": "stream",
     "text": [
      "Train Epoch: 6 [25600/50000 (51%)]\tLoss: 1.615949 | Avg Loss: 1.641398 | Acc: 37.17%\n"
     ]
    },
    {
     "name": "stderr",
     "output_type": "stream",
     "text": [
      "2025-04-13 18:14:16,390 - INFO - Epoch 6 Complete: Avg Loss 1.6487 | Acc 36.83%\n",
      "2025-04-13 18:14:16,390 - INFO - Adversarial Training Epoch 6 stats - Loss: 1.648730, Accuracy: 36.83%\n",
      "2025-04-13 18:14:16,420 - INFO - Saved model checkpoint to ./checkpoint/CIFAR10/ResNet_18/PART_Ensemble\\part_ensemble_epoch6.pth\n",
      "2025-04-13 18:14:16,420 - INFO - ================================================================\n",
      "2025-04-13 18:14:16,420 - INFO - Adversarial Training Epoch 7/7\n",
      "2025-04-13 18:14:16,420 - INFO - Adjusting learning rate for epoch 7\n",
      "2025-04-13 18:14:16,435 - INFO - Learning rate adjusted to 0.01\n",
      "2025-04-13 18:14:16,435 - INFO - Starting adversarial training for epoch 7 with Ensemble CAM\n"
     ]
    },
    {
     "name": "stdout",
     "output_type": "stream",
     "text": [
      "Epoch 6 Complete: Avg Loss 1.6487 | Acc 36.83%\n",
      "Adversarial Training Epoch 6 stats - Loss: 1.648730, Accuracy: 36.83%\n",
      "Saved model checkpoint to ./checkpoint/CIFAR10/ResNet_18/PART_Ensemble\\part_ensemble_epoch6.pth\n",
      "================================================================\n",
      "Adversarial Training Epoch 7/7\n",
      "Adjusting learning rate for epoch 7\n",
      "Learning rate adjusted to 0.01\n",
      "Starting adversarial training for epoch 7 with Ensemble CAM\n"
     ]
    },
    {
     "name": "stderr",
     "output_type": "stream",
     "text": [
      "2025-04-13 18:14:18,643 - INFO - Train Epoch: 7 [0/50000 (0%)]\tLoss: 1.654292 | Avg Loss: 1.654292 | Acc: 36.72%\n"
     ]
    },
    {
     "name": "stdout",
     "output_type": "stream",
     "text": [
      "Train Epoch: 7 [0/50000 (0%)]\tLoss: 1.654292 | Avg Loss: 1.654292 | Acc: 36.72%\n"
     ]
    },
    {
     "name": "stderr",
     "output_type": "stream",
     "text": [
      "2025-04-13 18:17:59,114 - INFO - Train Epoch: 7 [25600/50000 (51%)]\tLoss: 1.570158 | Avg Loss: 1.629789 | Acc: 37.39%\n"
     ]
    },
    {
     "name": "stdout",
     "output_type": "stream",
     "text": [
      "Train Epoch: 7 [25600/50000 (51%)]\tLoss: 1.570158 | Avg Loss: 1.629789 | Acc: 37.39%\n"
     ]
    },
    {
     "name": "stderr",
     "output_type": "stream",
     "text": [
      "2025-04-13 18:21:27,112 - INFO - Epoch 7 Complete: Avg Loss 1.6296 | Acc 37.55%\n",
      "2025-04-13 18:21:27,112 - INFO - Adversarial Training Epoch 7 stats - Loss: 1.629556, Accuracy: 37.55%\n",
      "2025-04-13 18:21:27,112 - INFO - ================================================================\n",
      "2025-04-13 18:21:27,115 - INFO - Starting final evaluation of the model\n",
      "2025-04-13 18:21:27,115 - INFO - PGD Evaluation =============================================================\n",
      "2025-04-13 18:21:27,115 - INFO - Starting evaluation with pgd attack...\n",
      "2025-04-13 18:21:27,165 - INFO - Eval with pgd: [256/10000 (2.50%)] Current Accuracy: 66.80%\n"
     ]
    },
    {
     "name": "stdout",
     "output_type": "stream",
     "text": [
      "Epoch 7 Complete: Avg Loss 1.6296 | Acc 37.55%\n",
      "Adversarial Training Epoch 7 stats - Loss: 1.629556, Accuracy: 37.55%\n",
      "================================================================\n",
      "Starting final evaluation of the model\n",
      "PGD Evaluation =============================================================\n",
      "Starting evaluation with pgd attack...\n",
      "Eval with pgd: [256/10000 (2.50%)] Current Accuracy: 66.80%\n"
     ]
    },
    {
     "name": "stderr",
     "output_type": "stream",
     "text": [
      "2025-04-13 18:21:29,136 - INFO - Evaluation with pgd completed: Average Loss: 1.090173, Accuracy: 63.57%\n",
      "2025-04-13 18:21:29,139 - INFO - PGD Evaluation results - Loss: 1.090173, Accuracy: 63.57%\n",
      "2025-04-13 18:21:29,139 - INFO - MMA Evaluation ==============================================================\n",
      "2025-04-13 18:21:29,141 - INFO - Starting evaluation with mma attack...\n",
      "2025-04-13 18:21:29,190 - INFO - Eval with mma: [256/10000 (2.50%)] Current Accuracy: 66.80%\n"
     ]
    },
    {
     "name": "stdout",
     "output_type": "stream",
     "text": [
      "Evaluation with pgd completed: Average Loss: 1.090173, Accuracy: 63.57%\n",
      "PGD Evaluation results - Loss: 1.090173, Accuracy: 63.57%\n",
      "MMA Evaluation ==============================================================\n",
      "Starting evaluation with mma attack...\n",
      "Eval with mma: [256/10000 (2.50%)] Current Accuracy: 66.80%\n"
     ]
    },
    {
     "name": "stderr",
     "output_type": "stream",
     "text": [
      "2025-04-13 18:21:30,973 - INFO - Evaluation with mma completed: Average Loss: 1.090173, Accuracy: 63.57%\n",
      "2025-04-13 18:21:30,973 - INFO - MMA Evaluation results - Loss: 1.090173, Accuracy: 63.57%\n",
      "2025-04-13 18:21:30,973 - INFO - Training and evaluation completed successfully!\n",
      "2025-04-13 18:21:30,973 - INFO - Full training log available at: logs/training_20250413_172937.log\n"
     ]
    },
    {
     "name": "stdout",
     "output_type": "stream",
     "text": [
      "Evaluation with mma completed: Average Loss: 1.090173, Accuracy: 63.57%\n",
      "MMA Evaluation results - Loss: 1.090173, Accuracy: 63.57%\n",
      "Training and evaluation completed successfully!\n",
      "Full training log available at: logs/training_20250413_172937.log\n"
     ]
    }
   ],
   "source": [
    "%run train_eval_part_plus.py --epochs 10 --warm-up 3 --save-freq 2 --batch-size 256"
   ]
  },
  {
   "cell_type": "code",
   "execution_count": 4,
   "id": "a93a6ba1-2b0e-4389-9043-47869d1f9aa5",
   "metadata": {},
   "outputs": [
    {
     "name": "stdout",
     "output_type": "stream",
     "text": [
      "Using device: cuda\n",
      "Loading CIFAR10 dataset...\n",
      "Files already downloaded and verified\n",
      "Using standard CIFAR-10 class names.\n",
      "CIFAR10 dataset loaded.\n",
      "Loading model architecture: resnet\n",
      "Loading checkpoint from: checkpoint/CIFAR10/ResNet_18/PART/part_epoch6.pth\n",
      "Model loaded and set to evaluation mode.\n",
      "Initializing CAM Ensemble...\n",
      "CAM Ensemble initialized.\n",
      "Starting visualization for 10 samples...\n",
      "\n",
      "Processing sample 1/10 (Label: cat)\n",
      "CAM and weighted epsilon calculated.\n",
      "Generated adversarial example using pgd.\n",
      "Original Pred: dog, Adversarial Pred: bird\n",
      "Saved visualization to ./attack_visualizations\\sample_1_label_3_pgd.png\n",
      "\n",
      "Processing sample 2/10 (Label: ship)\n",
      "CAM and weighted epsilon calculated.\n",
      "Generated adversarial example using pgd.\n",
      "Original Pred: ship, Adversarial Pred: ship\n",
      "Saved visualization to ./attack_visualizations\\sample_2_label_8_pgd.png\n",
      "\n",
      "Processing sample 3/10 (Label: ship)\n",
      "CAM and weighted epsilon calculated.\n",
      "Generated adversarial example using pgd.\n",
      "Original Pred: ship, Adversarial Pred: ship\n",
      "Saved visualization to ./attack_visualizations\\sample_3_label_8_pgd.png\n",
      "\n",
      "Processing sample 4/10 (Label: airplane)\n",
      "CAM and weighted epsilon calculated.\n",
      "Generated adversarial example using pgd.\n",
      "Original Pred: ship, Adversarial Pred: ship\n",
      "Saved visualization to ./attack_visualizations\\sample_4_label_0_pgd.png\n",
      "\n",
      "Processing sample 5/10 (Label: frog)\n",
      "CAM and weighted epsilon calculated.\n",
      "Generated adversarial example using pgd.\n",
      "Original Pred: deer, Adversarial Pred: deer\n",
      "Saved visualization to ./attack_visualizations\\sample_5_label_6_pgd.png\n",
      "\n",
      "Processing sample 6/10 (Label: frog)\n",
      "CAM and weighted epsilon calculated.\n",
      "Generated adversarial example using pgd.\n",
      "Original Pred: frog, Adversarial Pred: deer\n",
      "Saved visualization to ./attack_visualizations\\sample_6_label_6_pgd.png\n",
      "\n",
      "Processing sample 7/10 (Label: automobile)\n",
      "CAM and weighted epsilon calculated.\n",
      "Generated adversarial example using pgd.\n",
      "Original Pred: dog, Adversarial Pred: dog\n",
      "Saved visualization to ./attack_visualizations\\sample_7_label_1_pgd.png\n",
      "\n",
      "Processing sample 8/10 (Label: frog)\n",
      "CAM and weighted epsilon calculated.\n",
      "Generated adversarial example using pgd.\n",
      "Original Pred: deer, Adversarial Pred: bird\n",
      "Saved visualization to ./attack_visualizations\\sample_8_label_6_pgd.png\n",
      "\n",
      "Processing sample 9/10 (Label: cat)\n",
      "CAM and weighted epsilon calculated.\n",
      "Generated adversarial example using pgd.\n",
      "Original Pred: dog, Adversarial Pred: deer\n",
      "Saved visualization to ./attack_visualizations\\sample_9_label_3_pgd.png\n",
      "\n",
      "Processing sample 10/10 (Label: automobile)\n",
      "CAM and weighted epsilon calculated.\n",
      "Generated adversarial example using pgd.\n",
      "Original Pred: automobile, Adversarial Pred: ship\n",
      "Saved visualization to ./attack_visualizations\\sample_10_label_1_pgd.png\n",
      "\n",
      "Visualization complete.\n"
     ]
    },
    {
     "name": "stderr",
     "output_type": "stream",
     "text": [
      "C:\\Users\\pc\\anaconda3\\envs\\clean_env\\lib\\site-packages\\torch\\nn\\modules\\module.py:1117: UserWarning: Using a non-full backward hook when the forward contains multiple autograd Nodes is deprecated and will be removed in future versions. This hook will be missing some grad_input. Please use register_full_backward_hook to get the documented behavior.\n",
      "  warnings.warn(\"Using a non-full backward hook when the forward contains multiple autograd Nodes \"\n",
      "C:\\Users\\pc\\anaconda3\\envs\\clean_env\\lib\\site-packages\\torch\\nn\\modules\\module.py:1117: UserWarning: Using a non-full backward hook when the forward contains multiple autograd Nodes is deprecated and will be removed in future versions. This hook will be missing some grad_input. Please use register_full_backward_hook to get the documented behavior.\n",
      "  warnings.warn(\"Using a non-full backward hook when the forward contains multiple autograd Nodes \"\n"
     ]
    }
   ],
   "source": [
    "!python visualize_attacks.py \\\n",
    "    --checkpoint_path checkpoint/CIFAR10/ResNet_18/PART/part_epoch6.pth \\\n",
    "    --data CIFAR10 \\\n",
    "    --model resnet \\\n",
    "    --output_dir ./attack_visualizations \\\n",
    "    --num_samples 10 \\\n",
    "    --epsilon 8/255 \\\n",
    "    --low-epsilon 7/255 \\\n",
    "    --num-steps 10 \\\n",
    "    --step-size 2/255 \\\n",
    "    --tau 10.0\n"
   ]
  },
  {
   "cell_type": "code",
   "execution_count": 6,
   "id": "bee504b2-0761-407a-9ce5-d69f52599b1e",
   "metadata": {},
   "outputs": [
    {
     "name": "stdout",
     "output_type": "stream",
     "text": [
      "Using device: cuda\n",
      "Loading CIFAR10 dataset...\n",
      "Files already downloaded and verified\n",
      "Using standard CIFAR-10 class names.\n",
      "CIFAR10 dataset loaded.\n",
      "Loading model architecture: resnet\n",
      "Loading checkpoint from: checkpoint/CIFAR10/ResNet_18/PART/part_epoch6.pth\n",
      "Model loaded and set to evaluation mode.\n",
      "Initializing CAM Ensemble...\n",
      "CAM Ensemble initialized.\n",
      "Starting visualization for 10 samples...\n",
      "\n",
      "Processing sample 1/10 (Label: cat)\n",
      "CAM and weighted epsilon calculated.\n",
      "Generated adversarial example using pgd.\n",
      "Original Pred: dog, Adversarial Pred: bird\n",
      "Saved visualization to ./attack_visualizations/PART\\sample_1_label_3_pgd.png\n",
      "\n",
      "Processing sample 2/10 (Label: ship)\n",
      "CAM and weighted epsilon calculated.\n",
      "Generated adversarial example using pgd.\n",
      "Original Pred: ship, Adversarial Pred: ship\n",
      "Saved visualization to ./attack_visualizations/PART\\sample_2_label_8_pgd.png\n",
      "\n",
      "Processing sample 3/10 (Label: ship)\n",
      "CAM and weighted epsilon calculated.\n",
      "Generated adversarial example using pgd.\n",
      "Original Pred: ship, Adversarial Pred: ship\n",
      "Saved visualization to ./attack_visualizations/PART\\sample_3_label_8_pgd.png\n",
      "\n",
      "Processing sample 4/10 (Label: airplane)\n",
      "CAM and weighted epsilon calculated.\n",
      "Generated adversarial example using pgd.\n",
      "Original Pred: ship, Adversarial Pred: ship\n",
      "Saved visualization to ./attack_visualizations/PART\\sample_4_label_0_pgd.png\n",
      "\n",
      "Processing sample 5/10 (Label: frog)\n",
      "CAM and weighted epsilon calculated.\n",
      "Generated adversarial example using pgd.\n",
      "Original Pred: deer, Adversarial Pred: deer\n",
      "Saved visualization to ./attack_visualizations/PART\\sample_5_label_6_pgd.png\n",
      "\n",
      "Processing sample 6/10 (Label: frog)\n",
      "CAM and weighted epsilon calculated.\n",
      "Generated adversarial example using pgd.\n",
      "Original Pred: frog, Adversarial Pred: deer\n",
      "Saved visualization to ./attack_visualizations/PART\\sample_6_label_6_pgd.png\n",
      "\n",
      "Processing sample 7/10 (Label: automobile)\n",
      "CAM and weighted epsilon calculated.\n",
      "Generated adversarial example using pgd.\n",
      "Original Pred: dog, Adversarial Pred: dog\n",
      "Saved visualization to ./attack_visualizations/PART\\sample_7_label_1_pgd.png\n",
      "\n",
      "Processing sample 8/10 (Label: frog)\n",
      "CAM and weighted epsilon calculated.\n",
      "Generated adversarial example using pgd.\n",
      "Original Pred: deer, Adversarial Pred: bird\n",
      "Saved visualization to ./attack_visualizations/PART\\sample_8_label_6_pgd.png\n",
      "\n",
      "Processing sample 9/10 (Label: cat)\n",
      "CAM and weighted epsilon calculated.\n",
      "Generated adversarial example using pgd.\n",
      "Original Pred: dog, Adversarial Pred: deer\n",
      "Saved visualization to ./attack_visualizations/PART\\sample_9_label_3_pgd.png\n",
      "\n",
      "Processing sample 10/10 (Label: automobile)\n",
      "CAM and weighted epsilon calculated.\n",
      "Generated adversarial example using pgd.\n",
      "Original Pred: automobile, Adversarial Pred: ship\n",
      "Saved visualization to ./attack_visualizations/PART\\sample_10_label_1_pgd.png\n",
      "\n",
      "Visualization complete.\n"
     ]
    },
    {
     "name": "stderr",
     "output_type": "stream",
     "text": [
      "C:\\Users\\pc\\anaconda3\\envs\\clean_env\\lib\\site-packages\\torch\\nn\\modules\\module.py:1117: UserWarning: Using a non-full backward hook when the forward contains multiple autograd Nodes is deprecated and will be removed in future versions. This hook will be missing some grad_input. Please use register_full_backward_hook to get the documented behavior.\n",
      "  warnings.warn(\"Using a non-full backward hook when the forward contains multiple autograd Nodes \"\n",
      "C:\\Users\\pc\\anaconda3\\envs\\clean_env\\lib\\site-packages\\torch\\nn\\modules\\module.py:1117: UserWarning: Using a non-full backward hook when the forward contains multiple autograd Nodes is deprecated and will be removed in future versions. This hook will be missing some grad_input. Please use register_full_backward_hook to get the documented behavior.\n",
      "  warnings.warn(\"Using a non-full backward hook when the forward contains multiple autograd Nodes \"\n"
     ]
    }
   ],
   "source": [
    "!python visualize_attacks.py \\\n",
    "    --checkpoint_path checkpoint/CIFAR10/ResNet_18/PART/part_epoch6.pth \\\n",
    "    --data CIFAR10 \\\n",
    "    --model resnet \\\n",
    "    --output_dir ./attack_visualizations/PART \\\n",
    "    --num_samples 10 \\\n",
    "    --epsilon 8/255 \\\n",
    "    --low-epsilon 7/255 \\\n",
    "    --num-steps 10 \\\n",
    "    --step-size 2/255 \\\n",
    "    --tau 10.0\n"
   ]
  },
  {
   "cell_type": "code",
   "execution_count": 7,
   "id": "87ab45e2-f540-4770-84f2-ca41f69e6f88",
   "metadata": {},
   "outputs": [
    {
     "name": "stdout",
     "output_type": "stream",
     "text": [
      "Using device: cuda\n",
      "Loading CIFAR10 dataset...\n",
      "Files already downloaded and verified\n",
      "Using standard CIFAR-10 class names.\n",
      "CIFAR10 dataset loaded.\n",
      "Loading model architecture: resnet\n",
      "Loading checkpoint from: checkpoint/CIFAR10/ResNet_18/PART_M/model-epoch6.pth\n",
      "Model loaded and set to evaluation mode.\n",
      "Initializing CAM Ensemble...\n",
      "CAM Ensemble initialized.\n",
      "Starting visualization for 10 samples...\n",
      "\n",
      "Processing sample 1/10 (Label: cat)\n",
      "CAM and weighted epsilon calculated.\n",
      "Generated adversarial example using pgd.\n",
      "Original Pred: dog, Adversarial Pred: bird\n",
      "Saved visualization to ./attack_visualizations/PART_M\\sample_1_label_3_pgd.png\n",
      "\n",
      "Processing sample 2/10 (Label: ship)\n",
      "CAM and weighted epsilon calculated.\n",
      "Generated adversarial example using pgd.\n",
      "Original Pred: ship, Adversarial Pred: ship\n",
      "Saved visualization to ./attack_visualizations/PART_M\\sample_2_label_8_pgd.png\n",
      "\n",
      "Processing sample 3/10 (Label: ship)\n",
      "CAM and weighted epsilon calculated.\n",
      "Generated adversarial example using pgd.\n",
      "Original Pred: ship, Adversarial Pred: ship\n",
      "Saved visualization to ./attack_visualizations/PART_M\\sample_3_label_8_pgd.png\n",
      "\n",
      "Processing sample 4/10 (Label: airplane)\n",
      "CAM and weighted epsilon calculated.\n",
      "Generated adversarial example using pgd.\n",
      "Original Pred: airplane, Adversarial Pred: ship\n",
      "Saved visualization to ./attack_visualizations/PART_M\\sample_4_label_0_pgd.png\n",
      "\n",
      "Processing sample 5/10 (Label: frog)\n",
      "CAM and weighted epsilon calculated.\n",
      "Generated adversarial example using pgd.\n",
      "Original Pred: frog, Adversarial Pred: deer\n",
      "Saved visualization to ./attack_visualizations/PART_M\\sample_5_label_6_pgd.png\n",
      "\n",
      "Processing sample 6/10 (Label: frog)\n",
      "CAM and weighted epsilon calculated.\n",
      "Generated adversarial example using pgd.\n",
      "Original Pred: frog, Adversarial Pred: frog\n",
      "Saved visualization to ./attack_visualizations/PART_M\\sample_6_label_6_pgd.png\n",
      "\n",
      "Processing sample 7/10 (Label: automobile)\n",
      "CAM and weighted epsilon calculated.\n",
      "Generated adversarial example using pgd.\n",
      "Original Pred: dog, Adversarial Pred: dog\n",
      "Saved visualization to ./attack_visualizations/PART_M\\sample_7_label_1_pgd.png\n",
      "\n",
      "Processing sample 8/10 (Label: frog)\n",
      "CAM and weighted epsilon calculated.\n",
      "Generated adversarial example using pgd.\n",
      "Original Pred: frog, Adversarial Pred: frog\n",
      "Saved visualization to ./attack_visualizations/PART_M\\sample_8_label_6_pgd.png\n",
      "\n",
      "Processing sample 9/10 (Label: cat)\n",
      "CAM and weighted epsilon calculated.\n",
      "Generated adversarial example using pgd.\n",
      "Original Pred: dog, Adversarial Pred: dog\n",
      "Saved visualization to ./attack_visualizations/PART_M\\sample_9_label_3_pgd.png\n",
      "\n",
      "Processing sample 10/10 (Label: automobile)\n",
      "CAM and weighted epsilon calculated.\n",
      "Generated adversarial example using pgd.\n",
      "Original Pred: truck, Adversarial Pred: ship\n",
      "Saved visualization to ./attack_visualizations/PART_M\\sample_10_label_1_pgd.png\n",
      "\n",
      "Visualization complete.\n"
     ]
    },
    {
     "name": "stderr",
     "output_type": "stream",
     "text": [
      "C:\\Users\\pc\\anaconda3\\envs\\clean_env\\lib\\site-packages\\torch\\nn\\modules\\module.py:1117: UserWarning: Using a non-full backward hook when the forward contains multiple autograd Nodes is deprecated and will be removed in future versions. This hook will be missing some grad_input. Please use register_full_backward_hook to get the documented behavior.\n",
      "  warnings.warn(\"Using a non-full backward hook when the forward contains multiple autograd Nodes \"\n",
      "C:\\Users\\pc\\anaconda3\\envs\\clean_env\\lib\\site-packages\\torch\\nn\\modules\\module.py:1117: UserWarning: Using a non-full backward hook when the forward contains multiple autograd Nodes is deprecated and will be removed in future versions. This hook will be missing some grad_input. Please use register_full_backward_hook to get the documented behavior.\n",
      "  warnings.warn(\"Using a non-full backward hook when the forward contains multiple autograd Nodes \"\n"
     ]
    }
   ],
   "source": [
    "!python visualize_attacks.py \\\n",
    "    --checkpoint_path checkpoint/CIFAR10/ResNet_18/PART_M/model-epoch6.pth \\\n",
    "    --data CIFAR10 \\\n",
    "    --model resnet \\\n",
    "    --output_dir ./attack_visualizations/PART_M \\\n",
    "    --num_samples 10 \\\n",
    "    --epsilon 8/255 \\\n",
    "    --low-epsilon 7/255 \\\n",
    "    --num-steps 10 \\\n",
    "    --step-size 2/255 \\\n",
    "    --tau 10.0\n"
   ]
  },
  {
   "cell_type": "code",
   "execution_count": 8,
   "id": "3495b22f-46b4-4e32-a847-d22528a38c4f",
   "metadata": {},
   "outputs": [
    {
     "name": "stdout",
     "output_type": "stream",
     "text": [
      "Using device: cuda\n",
      "Loading CIFAR10 dataset...\n",
      "Files already downloaded and verified\n",
      "Using standard CIFAR-10 class names.\n",
      "CIFAR10 dataset loaded.\n",
      "Loading model architecture: resnet\n",
      "Loading checkpoint from: checkpoint/CIFAR10/ResNet_18/PART_T/model-epoch6.pth\n",
      "Model loaded and set to evaluation mode.\n",
      "Initializing CAM Ensemble...\n",
      "CAM Ensemble initialized.\n",
      "Starting visualization for 10 samples...\n",
      "\n",
      "Processing sample 1/10 (Label: cat)\n",
      "CAM and weighted epsilon calculated.\n",
      "Generated adversarial example using pgd.\n",
      "Original Pred: cat, Adversarial Pred: cat\n",
      "Saved visualization to ./attack_visualizations/PART_T\\sample_1_label_3_pgd.png\n",
      "\n",
      "Processing sample 2/10 (Label: ship)\n",
      "CAM and weighted epsilon calculated.\n",
      "Generated adversarial example using pgd.\n",
      "Original Pred: ship, Adversarial Pred: airplane\n",
      "Saved visualization to ./attack_visualizations/PART_T\\sample_2_label_8_pgd.png\n",
      "\n",
      "Processing sample 3/10 (Label: ship)\n",
      "CAM and weighted epsilon calculated.\n",
      "Generated adversarial example using pgd.\n",
      "Original Pred: ship, Adversarial Pred: airplane\n",
      "Saved visualization to ./attack_visualizations/PART_T\\sample_3_label_8_pgd.png\n",
      "\n",
      "Processing sample 4/10 (Label: airplane)\n",
      "CAM and weighted epsilon calculated.\n",
      "Generated adversarial example using pgd.\n",
      "Original Pred: airplane, Adversarial Pred: airplane\n",
      "Saved visualization to ./attack_visualizations/PART_T\\sample_4_label_0_pgd.png\n",
      "\n",
      "Processing sample 5/10 (Label: frog)\n",
      "CAM and weighted epsilon calculated.\n",
      "Generated adversarial example using pgd.\n",
      "Original Pred: frog, Adversarial Pred: deer\n",
      "Saved visualization to ./attack_visualizations/PART_T\\sample_5_label_6_pgd.png\n",
      "\n",
      "Processing sample 6/10 (Label: frog)\n",
      "CAM and weighted epsilon calculated.\n",
      "Generated adversarial example using pgd.\n",
      "Original Pred: frog, Adversarial Pred: frog\n",
      "Saved visualization to ./attack_visualizations/PART_T\\sample_6_label_6_pgd.png\n",
      "\n",
      "Processing sample 7/10 (Label: automobile)\n",
      "CAM and weighted epsilon calculated.\n",
      "Generated adversarial example using pgd.\n",
      "Original Pred: automobile, Adversarial Pred: cat\n",
      "Saved visualization to ./attack_visualizations/PART_T\\sample_7_label_1_pgd.png\n",
      "\n",
      "Processing sample 8/10 (Label: frog)\n",
      "CAM and weighted epsilon calculated.\n",
      "Generated adversarial example using pgd.\n",
      "Original Pred: deer, Adversarial Pred: deer\n",
      "Saved visualization to ./attack_visualizations/PART_T\\sample_8_label_6_pgd.png\n",
      "\n",
      "Processing sample 9/10 (Label: cat)\n",
      "CAM and weighted epsilon calculated.\n",
      "Generated adversarial example using pgd.\n",
      "Original Pred: cat, Adversarial Pred: dog\n",
      "Saved visualization to ./attack_visualizations/PART_T\\sample_9_label_3_pgd.png\n",
      "\n",
      "Processing sample 10/10 (Label: automobile)\n",
      "CAM and weighted epsilon calculated.\n",
      "Generated adversarial example using pgd.\n",
      "Original Pred: truck, Adversarial Pred: truck\n",
      "Saved visualization to ./attack_visualizations/PART_T\\sample_10_label_1_pgd.png\n",
      "\n",
      "Visualization complete.\n"
     ]
    },
    {
     "name": "stderr",
     "output_type": "stream",
     "text": [
      "C:\\Users\\pc\\anaconda3\\envs\\clean_env\\lib\\site-packages\\torch\\nn\\modules\\module.py:1117: UserWarning: Using a non-full backward hook when the forward contains multiple autograd Nodes is deprecated and will be removed in future versions. This hook will be missing some grad_input. Please use register_full_backward_hook to get the documented behavior.\n",
      "  warnings.warn(\"Using a non-full backward hook when the forward contains multiple autograd Nodes \"\n",
      "C:\\Users\\pc\\anaconda3\\envs\\clean_env\\lib\\site-packages\\torch\\nn\\modules\\module.py:1117: UserWarning: Using a non-full backward hook when the forward contains multiple autograd Nodes is deprecated and will be removed in future versions. This hook will be missing some grad_input. Please use register_full_backward_hook to get the documented behavior.\n",
      "  warnings.warn(\"Using a non-full backward hook when the forward contains multiple autograd Nodes \"\n"
     ]
    }
   ],
   "source": [
    "!python visualize_attacks.py \\\n",
    "    --checkpoint_path checkpoint/CIFAR10/ResNet_18/PART_T/model-epoch6.pth \\\n",
    "    --data CIFAR10 \\\n",
    "    --model resnet \\\n",
    "    --output_dir ./attack_visualizations/PART_T \\\n",
    "    --num_samples 10 \\\n",
    "    --epsilon 8/255 \\\n",
    "    --low-epsilon 7/255 \\\n",
    "    --num-steps 10 \\\n",
    "    --step-size 2/255 \\\n",
    "    --tau 10.0\n"
   ]
  },
  {
   "cell_type": "code",
   "execution_count": 9,
   "id": "20c9ca7b-588e-4fa7-88a4-fa39206606b5",
   "metadata": {},
   "outputs": [
    {
     "name": "stdout",
     "output_type": "stream",
     "text": [
      "Using device: cuda\n",
      "Loading CIFAR10 dataset...\n",
      "Files already downloaded and verified\n",
      "Using standard CIFAR-10 class names.\n",
      "CIFAR10 dataset loaded.\n",
      "Loading model architecture: resnet\n",
      "Loading checkpoint from: checkpoint/CIFAR10/ResNet_18/PART_Ensemble/part_ensemble_epoch6.pth\n",
      "Model loaded and set to evaluation mode.\n",
      "Initializing CAM Ensemble...\n",
      "CAM Ensemble initialized.\n",
      "Starting visualization for 10 samples...\n",
      "\n",
      "Processing sample 1/10 (Label: cat)\n",
      "CAM and weighted epsilon calculated.\n",
      "Generated adversarial example using pgd.\n",
      "Original Pred: cat, Adversarial Pred: frog\n",
      "Saved visualization to ./attack_visualizations/PART_Ensemble\\sample_1_label_3_pgd.png\n",
      "\n",
      "Processing sample 2/10 (Label: ship)\n",
      "CAM and weighted epsilon calculated.\n",
      "Generated adversarial example using pgd.\n",
      "Original Pred: ship, Adversarial Pred: ship\n",
      "Saved visualization to ./attack_visualizations/PART_Ensemble\\sample_2_label_8_pgd.png\n",
      "\n",
      "Processing sample 3/10 (Label: ship)\n",
      "CAM and weighted epsilon calculated.\n",
      "Generated adversarial example using pgd.\n",
      "Original Pred: ship, Adversarial Pred: automobile\n",
      "Saved visualization to ./attack_visualizations/PART_Ensemble\\sample_3_label_8_pgd.png\n",
      "\n",
      "Processing sample 4/10 (Label: airplane)\n",
      "CAM and weighted epsilon calculated.\n",
      "Generated adversarial example using pgd.\n",
      "Original Pred: airplane, Adversarial Pred: airplane\n",
      "Saved visualization to ./attack_visualizations/PART_Ensemble\\sample_4_label_0_pgd.png\n",
      "\n",
      "Processing sample 5/10 (Label: frog)\n",
      "CAM and weighted epsilon calculated.\n",
      "Generated adversarial example using pgd.\n",
      "Original Pred: frog, Adversarial Pred: frog\n",
      "Saved visualization to ./attack_visualizations/PART_Ensemble\\sample_5_label_6_pgd.png\n",
      "\n",
      "Processing sample 6/10 (Label: frog)\n",
      "CAM and weighted epsilon calculated.\n",
      "Generated adversarial example using pgd.\n",
      "Original Pred: frog, Adversarial Pred: frog\n",
      "Saved visualization to ./attack_visualizations/PART_Ensemble\\sample_6_label_6_pgd.png\n",
      "\n",
      "Processing sample 7/10 (Label: automobile)\n",
      "CAM and weighted epsilon calculated.\n",
      "Generated adversarial example using pgd.\n",
      "Original Pred: truck, Adversarial Pred: truck\n",
      "Saved visualization to ./attack_visualizations/PART_Ensemble\\sample_7_label_1_pgd.png\n",
      "\n",
      "Processing sample 8/10 (Label: frog)\n",
      "CAM and weighted epsilon calculated.\n",
      "Generated adversarial example using pgd.\n",
      "Original Pred: frog, Adversarial Pred: bird\n",
      "Saved visualization to ./attack_visualizations/PART_Ensemble\\sample_8_label_6_pgd.png\n",
      "\n",
      "Processing sample 9/10 (Label: cat)\n",
      "CAM and weighted epsilon calculated.\n",
      "Generated adversarial example using pgd.\n",
      "Original Pred: dog, Adversarial Pred: dog\n",
      "Saved visualization to ./attack_visualizations/PART_Ensemble\\sample_9_label_3_pgd.png\n",
      "\n",
      "Processing sample 10/10 (Label: automobile)\n",
      "CAM and weighted epsilon calculated.\n",
      "Generated adversarial example using pgd.\n",
      "Original Pred: truck, Adversarial Pred: truck\n",
      "Saved visualization to ./attack_visualizations/PART_Ensemble\\sample_10_label_1_pgd.png\n",
      "\n",
      "Visualization complete.\n"
     ]
    },
    {
     "name": "stderr",
     "output_type": "stream",
     "text": [
      "C:\\Users\\pc\\anaconda3\\envs\\clean_env\\lib\\site-packages\\torch\\nn\\modules\\module.py:1117: UserWarning: Using a non-full backward hook when the forward contains multiple autograd Nodes is deprecated and will be removed in future versions. This hook will be missing some grad_input. Please use register_full_backward_hook to get the documented behavior.\n",
      "  warnings.warn(\"Using a non-full backward hook when the forward contains multiple autograd Nodes \"\n",
      "C:\\Users\\pc\\anaconda3\\envs\\clean_env\\lib\\site-packages\\torch\\nn\\modules\\module.py:1117: UserWarning: Using a non-full backward hook when the forward contains multiple autograd Nodes is deprecated and will be removed in future versions. This hook will be missing some grad_input. Please use register_full_backward_hook to get the documented behavior.\n",
      "  warnings.warn(\"Using a non-full backward hook when the forward contains multiple autograd Nodes \"\n"
     ]
    }
   ],
   "source": [
    "!python visualize_attacks.py \\\n",
    "    --checkpoint_path checkpoint/CIFAR10/ResNet_18/PART_Ensemble/part_ensemble_epoch6.pth \\\n",
    "    --data CIFAR10 \\\n",
    "    --model resnet \\\n",
    "    --output_dir ./attack_visualizations/PART_Ensemble \\\n",
    "    --num_samples 10 \\\n",
    "    --epsilon 8/255 \\\n",
    "    --low-epsilon 7/255 \\\n",
    "    --num-steps 10 \\\n",
    "    --step-size 2/255 \\\n",
    "    --tau 10.0\n"
   ]
  },
  {
   "cell_type": "code",
   "execution_count": null,
   "id": "85a17d3e-bf18-41cd-b4db-cee54ef4b6dd",
   "metadata": {},
   "outputs": [],
   "source": []
  }
 ],
 "metadata": {
  "kernelspec": {
   "display_name": "Python 3 (ipykernel)",
   "language": "python",
   "name": "python3"
  },
  "language_info": {
   "codemirror_mode": {
    "name": "ipython",
    "version": 3
   },
   "file_extension": ".py",
   "mimetype": "text/x-python",
   "name": "python",
   "nbconvert_exporter": "python",
   "pygments_lexer": "ipython3",
   "version": "3.9.21"
  }
 },
 "nbformat": 4,
 "nbformat_minor": 5
}
