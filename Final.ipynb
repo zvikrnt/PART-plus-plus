{
 "cells": [
  {
   "cell_type": "code",
   "execution_count": 1,
   "id": "b0fef096-3b24-4169-8122-4d8c5d61f24d",
   "metadata": {},
   "outputs": [
    {
     "name": "stderr",
     "output_type": "stream",
     "text": [
      "C:\\Users\\pc\\anaconda3\\envs\\clean_env\\lib\\site-packages\\tqdm\\auto.py:21: TqdmWarning: IProgress not found. Please update jupyter and ipywidgets. See https://ipywidgets.readthedocs.io/en/stable/user_install.html\n",
      "  from .autonotebook import tqdm as notebook_tqdm\n"
     ]
    },
    {
     "name": "stdout",
     "output_type": "stream",
     "text": [
      "True\n"
     ]
    }
   ],
   "source": [
    "import torch\n",
    "print(torch.cuda.is_available())"
   ]
  },
  {
   "cell_type": "code",
   "execution_count": 2,
   "id": "047f4ea1-7346-4461-bf7d-9aa3b9ced4d7",
   "metadata": {},
   "outputs": [
    {
     "name": "stdout",
     "output_type": "stream",
     "text": [
      "Logging configured. Log file: logs/training_20250421_165310.log\n",
      "Starting Pixel-reweighted Adversarial Training...\n",
      "Arguments parsed successfully\n",
      "Setting up with seed 1\n",
      "Random seed 1 set successfully\n",
      "Using device: cuda\n",
      "CUDA devices set to 0,1,2,3\n",
      "Loading CIFAR10 dataset...\n",
      "Files already downloaded and verified\n",
      "Files already downloaded and verified\n",
      "CIFAR10 dataset loaded successfully\n",
      "ResNet18 model initialized for CIFAR10\n",
      "Using existing model directory: ./checkpoint/CIFAR10/ResNet_18/PART\n",
      "Model parallelized across multiple GPUs\n",
      "cudnn.benchmark enabled\n",
      "Optimizer configured with lr=0.01, momentum=0.9, weight_decay=0.0002\n",
      "Starting warm-up training for 5 epochs\n",
      "Warm-up Epoch 1/5 started\n",
      "Starting standard training for warm-up epoch 1\n",
      "Warm-up Epoch: 1 [256/50000 (0.51%)]\tLoss: 2.495690 Avg Loss: 2.495690 Accuracy: 8.59%\n",
      "Warm-up Epoch: 1 [25856/50000 (51.53%)]\tLoss: 1.471821 Avg Loss: 1.672334 Accuracy: 37.79%\n",
      "Warm-up Epoch 1 completed: Average Loss: 1.471266, Accuracy: 45.72%\n",
      "Warm-up Epoch 1 stats - Loss: 1.471266, Accuracy: 45.72%\n",
      "Warm-up Epoch 2/5 started\n",
      "Starting standard training for warm-up epoch 2\n",
      "Warm-up Epoch: 2 [256/50000 (0.51%)]\tLoss: 1.202394 Avg Loss: 1.202394 Accuracy: 50.78%\n",
      "Warm-up Epoch: 2 [25856/50000 (51.53%)]\tLoss: 0.986541 Avg Loss: 1.044427 Accuracy: 62.50%\n",
      "Warm-up Epoch 2 completed: Average Loss: 0.978322, Accuracy: 64.99%\n",
      "Warm-up Epoch 2 stats - Loss: 0.978322, Accuracy: 64.99%\n",
      "Saved model checkpoint to ./checkpoint/CIFAR10/ResNet_18/PART\\pre_part_epoch2.pth\n",
      "================================================================\n",
      "Warm-up Epoch 3/5 started\n",
      "Starting standard training for warm-up epoch 3\n",
      "Warm-up Epoch: 3 [256/50000 (0.51%)]\tLoss: 0.865322 Avg Loss: 0.865322 Accuracy: 72.66%\n",
      "Warm-up Epoch: 3 [25856/50000 (51.53%)]\tLoss: 0.661334 Avg Loss: 0.771774 Accuracy: 72.83%\n",
      "Warm-up Epoch 3 completed: Average Loss: 0.745809, Accuracy: 73.93%\n",
      "Warm-up Epoch 3 stats - Loss: 0.745809, Accuracy: 73.93%\n",
      "Warm-up Epoch 4/5 started\n",
      "Starting standard training for warm-up epoch 4\n",
      "Warm-up Epoch: 4 [256/50000 (0.51%)]\tLoss: 0.722616 Avg Loss: 0.722616 Accuracy: 73.44%\n",
      "Warm-up Epoch: 4 [25856/50000 (51.53%)]\tLoss: 0.661405 Avg Loss: 0.651715 Accuracy: 77.56%\n",
      "Warm-up Epoch 4 completed: Average Loss: 0.623733, Accuracy: 78.35%\n",
      "Warm-up Epoch 4 stats - Loss: 0.623733, Accuracy: 78.35%\n",
      "Saved model checkpoint to ./checkpoint/CIFAR10/ResNet_18/PART\\pre_part_epoch4.pth\n",
      "================================================================\n",
      "Warm-up Epoch 5/5 started\n",
      "Starting standard training for warm-up epoch 5\n",
      "Warm-up Epoch: 5 [256/50000 (0.51%)]\tLoss: 0.488412 Avg Loss: 0.488412 Accuracy: 83.20%\n",
      "Warm-up Epoch: 5 [25856/50000 (51.53%)]\tLoss: 0.661852 Avg Loss: 0.551073 Accuracy: 81.08%\n",
      "Warm-up Epoch 5 completed: Average Loss: 0.533788, Accuracy: 81.63%\n",
      "Warm-up Epoch 5 stats - Loss: 0.533788, Accuracy: 81.63%\n",
      "Warm-up training completed successfully\n",
      "Computing and saving CAM weights\n",
      "Computing and saving CAM weights...\n",
      "Processed CAM weights for batch 1/196\n",
      "Processed CAM weights for batch 101/196\n",
      "CAM weights computation completed\n",
      "CAM weights computed and saved successfully\n",
      "Starting adversarial training for 25 epochs\n",
      "Adversarial Training Epoch 1/25\n",
      "Adjusting learning rate for epoch 1\n",
      "Learning rate adjusted to 0.01\n",
      "Starting adversarial training for epoch 1\n",
      "Train Epoch: 1 [256/50000 (0.51%)]\tLoss: 9.554517 Avg Loss: 9.554517 Accuracy: 0.00%\n",
      "Train Epoch: 1 [25856/50000 (51.53%)]\tLoss: 1.919937 Avg Loss: 2.159839 Accuracy: 25.10%\n",
      "Epoch 1 completed: Average Loss: 2.018177, Accuracy: 26.94%\n",
      "Adversarial Training Epoch 1 stats - Loss: 2.018177, Accuracy: 26.94%\n",
      "================================================================\n",
      "Adversarial Training Epoch 2/25\n",
      "Updating CAM weights at epoch 2\n",
      "Computing and saving CAM weights...\n",
      "Processed CAM weights for batch 1/196\n",
      "Processed CAM weights for batch 101/196\n",
      "CAM weights computation completed\n",
      "CAM weights updated successfully\n",
      "Adjusting learning rate for epoch 2\n",
      "Learning rate adjusted to 0.01\n",
      "Starting adversarial training for epoch 2\n",
      "Train Epoch: 2 [256/50000 (0.51%)]\tLoss: 1.838621 Avg Loss: 1.838621 Accuracy: 32.42%\n",
      "Train Epoch: 2 [25856/50000 (51.53%)]\tLoss: 1.735402 Avg Loss: 1.803394 Accuracy: 31.67%\n",
      "Epoch 2 completed: Average Loss: 1.796502, Accuracy: 31.69%\n",
      "Adversarial Training Epoch 2 stats - Loss: 1.796502, Accuracy: 31.69%\n",
      "Saved model checkpoint to ./checkpoint/CIFAR10/ResNet_18/PART\\part_epoch2.pth\n",
      "================================================================\n",
      "Adversarial Training Epoch 3/25\n",
      "Updating CAM weights at epoch 3\n",
      "Computing and saving CAM weights...\n",
      "Processed CAM weights for batch 1/196\n",
      "Processed CAM weights for batch 101/196\n",
      "CAM weights computation completed\n",
      "CAM weights updated successfully\n",
      "Adjusting learning rate for epoch 3\n",
      "Learning rate adjusted to 0.01\n",
      "Starting adversarial training for epoch 3\n",
      "Train Epoch: 3 [256/50000 (0.51%)]\tLoss: 1.867997 Avg Loss: 1.867997 Accuracy: 26.17%\n",
      "Train Epoch: 3 [25856/50000 (51.53%)]\tLoss: 1.799237 Avg Loss: 1.738655 Accuracy: 33.22%\n",
      "Epoch 3 completed: Average Loss: 1.733891, Accuracy: 33.69%\n",
      "Adversarial Training Epoch 3 stats - Loss: 1.733891, Accuracy: 33.69%\n",
      "================================================================\n",
      "Adversarial Training Epoch 4/25\n",
      "Updating CAM weights at epoch 4\n",
      "Computing and saving CAM weights...\n",
      "Processed CAM weights for batch 1/196\n",
      "Processed CAM weights for batch 101/196\n",
      "CAM weights computation completed\n",
      "CAM weights updated successfully\n",
      "Adjusting learning rate for epoch 4\n",
      "Learning rate adjusted to 0.01\n",
      "Starting adversarial training for epoch 4\n",
      "Train Epoch: 4 [256/50000 (0.51%)]\tLoss: 1.687817 Avg Loss: 1.687817 Accuracy: 36.33%\n",
      "Train Epoch: 4 [25856/50000 (51.53%)]\tLoss: 1.727282 Avg Loss: 1.698635 Accuracy: 35.16%\n",
      "Epoch 4 completed: Average Loss: 1.692575, Accuracy: 35.39%\n",
      "Adversarial Training Epoch 4 stats - Loss: 1.692575, Accuracy: 35.39%\n",
      "Saved model checkpoint to ./checkpoint/CIFAR10/ResNet_18/PART\\part_epoch4.pth\n",
      "================================================================\n",
      "Adversarial Training Epoch 5/25\n",
      "Updating CAM weights at epoch 5\n",
      "Computing and saving CAM weights...\n",
      "Processed CAM weights for batch 1/196\n",
      "Processed CAM weights for batch 101/196\n",
      "CAM weights computation completed\n",
      "CAM weights updated successfully\n",
      "Adjusting learning rate for epoch 5\n",
      "Learning rate adjusted to 0.01\n",
      "Starting adversarial training for epoch 5\n",
      "Train Epoch: 5 [256/50000 (0.51%)]\tLoss: 1.559322 Avg Loss: 1.559322 Accuracy: 42.97%\n",
      "Train Epoch: 5 [25856/50000 (51.53%)]\tLoss: 1.618971 Avg Loss: 1.664746 Accuracy: 36.77%\n",
      "Epoch 5 completed: Average Loss: 1.659772, Accuracy: 36.70%\n",
      "Adversarial Training Epoch 5 stats - Loss: 1.659772, Accuracy: 36.70%\n",
      "================================================================\n",
      "Adversarial Training Epoch 6/25\n",
      "Updating CAM weights at epoch 6\n",
      "Computing and saving CAM weights...\n",
      "Processed CAM weights for batch 1/196\n",
      "Processed CAM weights for batch 101/196\n",
      "CAM weights computation completed\n",
      "CAM weights updated successfully\n",
      "Adjusting learning rate for epoch 6\n",
      "Learning rate adjusted to 0.01\n",
      "Starting adversarial training for epoch 6\n",
      "Train Epoch: 6 [256/50000 (0.51%)]\tLoss: 1.544314 Avg Loss: 1.544314 Accuracy: 41.02%\n",
      "Train Epoch: 6 [25856/50000 (51.53%)]\tLoss: 1.621571 Avg Loss: 1.635293 Accuracy: 37.77%\n",
      "Epoch 6 completed: Average Loss: 1.634462, Accuracy: 37.65%\n",
      "Adversarial Training Epoch 6 stats - Loss: 1.634462, Accuracy: 37.65%\n",
      "Saved model checkpoint to ./checkpoint/CIFAR10/ResNet_18/PART\\part_epoch6.pth\n",
      "================================================================\n",
      "Adversarial Training Epoch 7/25\n",
      "Updating CAM weights at epoch 7\n",
      "Computing and saving CAM weights...\n",
      "Processed CAM weights for batch 1/196\n",
      "Processed CAM weights for batch 101/196\n",
      "CAM weights computation completed\n",
      "CAM weights updated successfully\n",
      "Adjusting learning rate for epoch 7\n",
      "Learning rate adjusted to 0.01\n",
      "Starting adversarial training for epoch 7\n",
      "Train Epoch: 7 [256/50000 (0.51%)]\tLoss: 1.638852 Avg Loss: 1.638852 Accuracy: 37.89%\n",
      "Train Epoch: 7 [25856/50000 (51.53%)]\tLoss: 1.618201 Avg Loss: 1.611305 Accuracy: 38.87%\n",
      "Epoch 7 completed: Average Loss: 1.609203, Accuracy: 38.74%\n",
      "Adversarial Training Epoch 7 stats - Loss: 1.609203, Accuracy: 38.74%\n",
      "================================================================\n",
      "Adversarial Training Epoch 8/25\n",
      "Updating CAM weights at epoch 8\n",
      "Computing and saving CAM weights...\n",
      "Processed CAM weights for batch 1/196\n",
      "Processed CAM weights for batch 101/196\n",
      "CAM weights computation completed\n",
      "CAM weights updated successfully\n",
      "Adjusting learning rate for epoch 8\n",
      "Learning rate adjusted to 0.01\n",
      "Starting adversarial training for epoch 8\n",
      "Train Epoch: 8 [256/50000 (0.51%)]\tLoss: 1.525321 Avg Loss: 1.525321 Accuracy: 39.45%\n",
      "Train Epoch: 8 [25856/50000 (51.53%)]\tLoss: 1.611302 Avg Loss: 1.588266 Accuracy: 39.52%\n",
      "Epoch 8 completed: Average Loss: 1.588211, Accuracy: 39.44%\n",
      "Adversarial Training Epoch 8 stats - Loss: 1.588211, Accuracy: 39.44%\n",
      "Saved model checkpoint to ./checkpoint/CIFAR10/ResNet_18/PART\\part_epoch8.pth\n",
      "================================================================\n",
      "Adversarial Training Epoch 9/25\n",
      "Updating CAM weights at epoch 9\n",
      "Computing and saving CAM weights...\n",
      "Processed CAM weights for batch 1/196\n",
      "Processed CAM weights for batch 101/196\n",
      "CAM weights computation completed\n",
      "CAM weights updated successfully\n",
      "Adjusting learning rate for epoch 9\n",
      "Learning rate adjusted to 0.01\n",
      "Starting adversarial training for epoch 9\n",
      "Train Epoch: 9 [256/50000 (0.51%)]\tLoss: 1.578038 Avg Loss: 1.578038 Accuracy: 36.33%\n",
      "Train Epoch: 9 [25856/50000 (51.53%)]\tLoss: 1.563576 Avg Loss: 1.569081 Accuracy: 40.25%\n",
      "Epoch 9 completed: Average Loss: 1.559617, Accuracy: 40.42%\n",
      "Adversarial Training Epoch 9 stats - Loss: 1.559617, Accuracy: 40.42%\n",
      "================================================================\n",
      "Adversarial Training Epoch 10/25\n",
      "Updating CAM weights at epoch 10\n",
      "Computing and saving CAM weights...\n",
      "Processed CAM weights for batch 1/196\n",
      "Processed CAM weights for batch 101/196\n",
      "CAM weights computation completed\n",
      "CAM weights updated successfully\n",
      "Adjusting learning rate for epoch 10\n",
      "Learning rate adjusted to 0.01\n",
      "Starting adversarial training for epoch 10\n",
      "Train Epoch: 10 [256/50000 (0.51%)]\tLoss: 1.537017 Avg Loss: 1.537017 Accuracy: 40.62%\n",
      "Train Epoch: 10 [25856/50000 (51.53%)]\tLoss: 1.554100 Avg Loss: 1.551954 Accuracy: 40.50%\n",
      "Epoch 10 completed: Average Loss: 1.545197, Accuracy: 40.87%\n",
      "Adversarial Training Epoch 10 stats - Loss: 1.545197, Accuracy: 40.87%\n",
      "Saved model checkpoint to ./checkpoint/CIFAR10/ResNet_18/PART\\part_epoch10.pth\n",
      "================================================================\n",
      "Adversarial Training Epoch 11/25\n",
      "Updating CAM weights at epoch 11\n",
      "Computing and saving CAM weights...\n",
      "Processed CAM weights for batch 1/196\n",
      "Processed CAM weights for batch 101/196\n",
      "CAM weights computation completed\n",
      "CAM weights updated successfully\n",
      "Adjusting learning rate for epoch 11\n",
      "Learning rate adjusted to 0.01\n",
      "Starting adversarial training for epoch 11\n",
      "Train Epoch: 11 [256/50000 (0.51%)]\tLoss: 1.644911 Avg Loss: 1.644911 Accuracy: 37.11%\n",
      "Train Epoch: 11 [25856/50000 (51.53%)]\tLoss: 1.490890 Avg Loss: 1.530678 Accuracy: 41.48%\n",
      "Epoch 11 completed: Average Loss: 1.527321, Accuracy: 41.73%\n",
      "Adversarial Training Epoch 11 stats - Loss: 1.527321, Accuracy: 41.73%\n",
      "================================================================\n",
      "Adversarial Training Epoch 12/25\n",
      "Updating CAM weights at epoch 12\n",
      "Computing and saving CAM weights...\n",
      "Processed CAM weights for batch 1/196\n",
      "Processed CAM weights for batch 101/196\n",
      "CAM weights computation completed\n",
      "CAM weights updated successfully\n",
      "Adjusting learning rate for epoch 12\n",
      "Learning rate adjusted to 0.01\n",
      "Starting adversarial training for epoch 12\n",
      "Train Epoch: 12 [256/50000 (0.51%)]\tLoss: 1.419309 Avg Loss: 1.419309 Accuracy: 51.17%\n",
      "Train Epoch: 12 [25856/50000 (51.53%)]\tLoss: 1.473944 Avg Loss: 1.505874 Accuracy: 42.49%\n",
      "Epoch 12 completed: Average Loss: 1.507917, Accuracy: 42.31%\n",
      "Adversarial Training Epoch 12 stats - Loss: 1.507917, Accuracy: 42.31%\n",
      "Saved model checkpoint to ./checkpoint/CIFAR10/ResNet_18/PART\\part_epoch12.pth\n",
      "================================================================\n",
      "Adversarial Training Epoch 13/25\n",
      "Updating CAM weights at epoch 13\n",
      "Computing and saving CAM weights...\n",
      "Processed CAM weights for batch 1/196\n",
      "Processed CAM weights for batch 101/196\n",
      "CAM weights computation completed\n",
      "CAM weights updated successfully\n",
      "Adjusting learning rate for epoch 13\n",
      "Learning rate adjusted to 0.01\n",
      "Starting adversarial training for epoch 13\n",
      "Train Epoch: 13 [256/50000 (0.51%)]\tLoss: 1.552459 Avg Loss: 1.552459 Accuracy: 42.19%\n",
      "Train Epoch: 13 [25856/50000 (51.53%)]\tLoss: 1.531991 Avg Loss: 1.493994 Accuracy: 42.75%\n",
      "Epoch 13 completed: Average Loss: 1.491172, Accuracy: 42.89%\n",
      "Adversarial Training Epoch 13 stats - Loss: 1.491172, Accuracy: 42.89%\n",
      "================================================================\n",
      "Adversarial Training Epoch 14/25\n",
      "Updating CAM weights at epoch 14\n",
      "Computing and saving CAM weights...\n",
      "Processed CAM weights for batch 1/196\n",
      "Processed CAM weights for batch 101/196\n",
      "CAM weights computation completed\n",
      "CAM weights updated successfully\n",
      "Adjusting learning rate for epoch 14\n",
      "Learning rate adjusted to 0.01\n",
      "Starting adversarial training for epoch 14\n",
      "Train Epoch: 14 [256/50000 (0.51%)]\tLoss: 1.432661 Avg Loss: 1.432661 Accuracy: 42.97%\n",
      "Train Epoch: 14 [25856/50000 (51.53%)]\tLoss: 1.492642 Avg Loss: 1.482287 Accuracy: 43.15%\n",
      "Epoch 14 completed: Average Loss: 1.481910, Accuracy: 43.24%\n",
      "Adversarial Training Epoch 14 stats - Loss: 1.481910, Accuracy: 43.24%\n",
      "Saved model checkpoint to ./checkpoint/CIFAR10/ResNet_18/PART\\part_epoch14.pth\n",
      "================================================================\n",
      "Adversarial Training Epoch 15/25\n",
      "Updating CAM weights at epoch 15\n",
      "Computing and saving CAM weights...\n",
      "Processed CAM weights for batch 1/196\n",
      "Processed CAM weights for batch 101/196\n",
      "CAM weights computation completed\n",
      "CAM weights updated successfully\n",
      "Adjusting learning rate for epoch 15\n",
      "Learning rate adjusted to 0.01\n",
      "Starting adversarial training for epoch 15\n",
      "Train Epoch: 15 [256/50000 (0.51%)]\tLoss: 1.502349 Avg Loss: 1.502349 Accuracy: 40.23%\n",
      "Train Epoch: 15 [25856/50000 (51.53%)]\tLoss: 1.452402 Avg Loss: 1.457226 Accuracy: 44.33%\n",
      "Epoch 15 completed: Average Loss: 1.463546, Accuracy: 44.16%\n",
      "Adversarial Training Epoch 15 stats - Loss: 1.463546, Accuracy: 44.16%\n",
      "================================================================\n",
      "Adversarial Training Epoch 16/25\n",
      "Updating CAM weights at epoch 16\n",
      "Computing and saving CAM weights...\n",
      "Processed CAM weights for batch 1/196\n",
      "Processed CAM weights for batch 101/196\n",
      "CAM weights computation completed\n",
      "CAM weights updated successfully\n",
      "Adjusting learning rate for epoch 16\n",
      "Learning rate adjusted to 0.01\n",
      "Starting adversarial training for epoch 16\n",
      "Train Epoch: 16 [256/50000 (0.51%)]\tLoss: 1.409706 Avg Loss: 1.409706 Accuracy: 46.48%\n",
      "Train Epoch: 16 [25856/50000 (51.53%)]\tLoss: 1.428630 Avg Loss: 1.449719 Accuracy: 44.62%\n",
      "Epoch 16 completed: Average Loss: 1.455606, Accuracy: 44.35%\n",
      "Adversarial Training Epoch 16 stats - Loss: 1.455606, Accuracy: 44.35%\n",
      "Saved model checkpoint to ./checkpoint/CIFAR10/ResNet_18/PART\\part_epoch16.pth\n",
      "================================================================\n",
      "Adversarial Training Epoch 17/25\n",
      "Updating CAM weights at epoch 17\n",
      "Computing and saving CAM weights...\n",
      "Processed CAM weights for batch 1/196\n",
      "Processed CAM weights for batch 101/196\n",
      "CAM weights computation completed\n",
      "CAM weights updated successfully\n",
      "Adjusting learning rate for epoch 17\n",
      "Learning rate adjusted to 0.01\n",
      "Starting adversarial training for epoch 17\n",
      "Train Epoch: 17 [256/50000 (0.51%)]\tLoss: 1.460028 Avg Loss: 1.460028 Accuracy: 40.62%\n",
      "Train Epoch: 17 [25856/50000 (51.53%)]\tLoss: 1.482690 Avg Loss: 1.446326 Accuracy: 44.45%\n",
      "Epoch 17 completed: Average Loss: 1.440372, Accuracy: 44.87%\n",
      "Adversarial Training Epoch 17 stats - Loss: 1.440372, Accuracy: 44.87%\n",
      "================================================================\n",
      "Adversarial Training Epoch 18/25\n",
      "Updating CAM weights at epoch 18\n",
      "Computing and saving CAM weights...\n",
      "Processed CAM weights for batch 1/196\n",
      "Processed CAM weights for batch 101/196\n",
      "CAM weights computation completed\n",
      "CAM weights updated successfully\n",
      "Adjusting learning rate for epoch 18\n",
      "Learning rate adjusted to 0.01\n",
      "Starting adversarial training for epoch 18\n",
      "Train Epoch: 18 [256/50000 (0.51%)]\tLoss: 1.393256 Avg Loss: 1.393256 Accuracy: 44.14%\n",
      "Train Epoch: 18 [25856/50000 (51.53%)]\tLoss: 1.391141 Avg Loss: 1.419519 Accuracy: 45.21%\n",
      "Epoch 18 completed: Average Loss: 1.428668, Accuracy: 45.11%\n",
      "Adversarial Training Epoch 18 stats - Loss: 1.428668, Accuracy: 45.11%\n",
      "Saved model checkpoint to ./checkpoint/CIFAR10/ResNet_18/PART\\part_epoch18.pth\n",
      "================================================================\n",
      "Adversarial Training Epoch 19/25\n",
      "Updating CAM weights at epoch 19\n",
      "Computing and saving CAM weights...\n",
      "Processed CAM weights for batch 1/196\n",
      "Processed CAM weights for batch 101/196\n",
      "CAM weights computation completed\n",
      "CAM weights updated successfully\n",
      "Adjusting learning rate for epoch 19\n",
      "Learning rate adjusted to 0.01\n",
      "Starting adversarial training for epoch 19\n",
      "Train Epoch: 19 [256/50000 (0.51%)]\tLoss: 1.445616 Avg Loss: 1.445616 Accuracy: 45.70%\n",
      "Train Epoch: 19 [25856/50000 (51.53%)]\tLoss: 1.439654 Avg Loss: 1.417227 Accuracy: 45.68%\n",
      "Epoch 19 completed: Average Loss: 1.414872, Accuracy: 45.87%\n",
      "Adversarial Training Epoch 19 stats - Loss: 1.414872, Accuracy: 45.87%\n",
      "================================================================\n",
      "Adversarial Training Epoch 20/25\n",
      "Updating CAM weights at epoch 20\n",
      "Computing and saving CAM weights...\n",
      "Processed CAM weights for batch 1/196\n",
      "Processed CAM weights for batch 101/196\n",
      "CAM weights computation completed\n",
      "CAM weights updated successfully\n",
      "Adjusting learning rate for epoch 20\n",
      "Learning rate adjusted to 0.01\n",
      "Starting adversarial training for epoch 20\n",
      "Train Epoch: 20 [256/50000 (0.51%)]\tLoss: 1.278580 Avg Loss: 1.278580 Accuracy: 50.00%\n",
      "Train Epoch: 20 [25856/50000 (51.53%)]\tLoss: 1.409180 Avg Loss: 1.400960 Accuracy: 46.40%\n",
      "Epoch 20 completed: Average Loss: 1.404645, Accuracy: 46.03%\n",
      "Adversarial Training Epoch 20 stats - Loss: 1.404645, Accuracy: 46.03%\n",
      "Saved model checkpoint to ./checkpoint/CIFAR10/ResNet_18/PART\\part_epoch20.pth\n",
      "================================================================\n",
      "Adversarial Training Epoch 21/25\n",
      "Updating CAM weights at epoch 21\n",
      "Computing and saving CAM weights...\n",
      "Processed CAM weights for batch 1/196\n",
      "Processed CAM weights for batch 101/196\n",
      "CAM weights computation completed\n",
      "CAM weights updated successfully\n",
      "Adjusting learning rate for epoch 21\n",
      "Learning rate adjusted to 0.01\n",
      "Starting adversarial training for epoch 21\n",
      "Train Epoch: 21 [256/50000 (0.51%)]\tLoss: 1.336157 Avg Loss: 1.336157 Accuracy: 49.22%\n",
      "Train Epoch: 21 [25856/50000 (51.53%)]\tLoss: 1.405373 Avg Loss: 1.387261 Accuracy: 46.67%\n",
      "Epoch 21 completed: Average Loss: 1.392982, Accuracy: 46.45%\n",
      "Adversarial Training Epoch 21 stats - Loss: 1.392982, Accuracy: 46.45%\n",
      "================================================================\n",
      "Adversarial Training Epoch 22/25\n",
      "Updating CAM weights at epoch 22\n",
      "Computing and saving CAM weights...\n",
      "Processed CAM weights for batch 1/196\n",
      "Processed CAM weights for batch 101/196\n",
      "CAM weights computation completed\n",
      "CAM weights updated successfully\n",
      "Adjusting learning rate for epoch 22\n",
      "Learning rate adjusted to 0.01\n",
      "Starting adversarial training for epoch 22\n",
      "Train Epoch: 22 [256/50000 (0.51%)]\tLoss: 1.339895 Avg Loss: 1.339895 Accuracy: 45.31%\n",
      "Train Epoch: 22 [25856/50000 (51.53%)]\tLoss: 1.408259 Avg Loss: 1.379664 Accuracy: 46.71%\n",
      "Epoch 22 completed: Average Loss: 1.382952, Accuracy: 46.83%\n",
      "Adversarial Training Epoch 22 stats - Loss: 1.382952, Accuracy: 46.83%\n",
      "Saved model checkpoint to ./checkpoint/CIFAR10/ResNet_18/PART\\part_epoch22.pth\n",
      "================================================================\n",
      "Adversarial Training Epoch 23/25\n",
      "Updating CAM weights at epoch 23\n",
      "Computing and saving CAM weights...\n",
      "Processed CAM weights for batch 1/196\n",
      "Processed CAM weights for batch 101/196\n",
      "CAM weights computation completed\n",
      "CAM weights updated successfully\n",
      "Adjusting learning rate for epoch 23\n",
      "Learning rate adjusted to 0.01\n",
      "Starting adversarial training for epoch 23\n",
      "Train Epoch: 23 [256/50000 (0.51%)]\tLoss: 1.316999 Avg Loss: 1.316999 Accuracy: 46.09%\n",
      "Train Epoch: 23 [25856/50000 (51.53%)]\tLoss: 1.473162 Avg Loss: 1.374444 Accuracy: 46.72%\n",
      "Epoch 23 completed: Average Loss: 1.372527, Accuracy: 47.16%\n",
      "Adversarial Training Epoch 23 stats - Loss: 1.372527, Accuracy: 47.16%\n",
      "================================================================\n",
      "Adversarial Training Epoch 24/25\n",
      "Updating CAM weights at epoch 24\n",
      "Computing and saving CAM weights...\n",
      "Processed CAM weights for batch 1/196\n",
      "Processed CAM weights for batch 101/196\n",
      "CAM weights computation completed\n",
      "CAM weights updated successfully\n",
      "Adjusting learning rate for epoch 24\n",
      "Learning rate adjusted to 0.01\n",
      "Starting adversarial training for epoch 24\n",
      "Train Epoch: 24 [256/50000 (0.51%)]\tLoss: 1.409808 Avg Loss: 1.409808 Accuracy: 49.22%\n",
      "Train Epoch: 24 [25856/50000 (51.53%)]\tLoss: 1.426973 Avg Loss: 1.354146 Accuracy: 48.07%\n",
      "Epoch 24 completed: Average Loss: 1.358216, Accuracy: 47.96%\n",
      "Adversarial Training Epoch 24 stats - Loss: 1.358216, Accuracy: 47.96%\n",
      "Saved model checkpoint to ./checkpoint/CIFAR10/ResNet_18/PART\\part_epoch24.pth\n",
      "================================================================\n",
      "Adversarial Training Epoch 25/25\n",
      "Updating CAM weights at epoch 25\n",
      "Computing and saving CAM weights...\n",
      "Processed CAM weights for batch 1/196\n",
      "Processed CAM weights for batch 101/196\n",
      "CAM weights computation completed\n",
      "CAM weights updated successfully\n",
      "Adjusting learning rate for epoch 25\n",
      "Learning rate adjusted to 0.01\n",
      "Starting adversarial training for epoch 25\n",
      "Train Epoch: 25 [256/50000 (0.51%)]\tLoss: 1.326922 Avg Loss: 1.326922 Accuracy: 46.48%\n",
      "Train Epoch: 25 [25856/50000 (51.53%)]\tLoss: 1.327725 Avg Loss: 1.348130 Accuracy: 48.32%\n",
      "Epoch 25 completed: Average Loss: 1.351470, Accuracy: 48.12%\n",
      "Adversarial Training Epoch 25 stats - Loss: 1.351470, Accuracy: 48.12%\n",
      "================================================================\n",
      "Starting final evaluation of the model\n",
      "PGD Evaluation =============================================================\n",
      "Starting evaluation with pgd attack...\n",
      "Eval with pgd: [256/10000 (2.50%)] Current Accuracy: 75.78%\n",
      "Evaluation with pgd completed: Average Loss: 0.826472, Accuracy: 71.59%\n",
      "PGD Evaluation results - Loss: 0.826472, Accuracy: 71.59%\n",
      "MMA Evaluation ==============================================================\n",
      "Starting evaluation with mma attack...\n",
      "Eval with mma: [256/10000 (2.50%)] Current Accuracy: 75.78%\n",
      "Evaluation with mma completed: Average Loss: 0.826472, Accuracy: 71.59%\n",
      "MMA Evaluation results - Loss: 0.826472, Accuracy: 71.59%\n",
      "Training and evaluation completed successfully!\n",
      "Full training log available at: logs/training_20250421_165310.log\n"
     ]
    },
    {
     "name": "stderr",
     "output_type": "stream",
     "text": [
      "2025-04-21 16:53:10,775 - INFO - Starting Pixel-reweighted Adversarial Training...\n",
      "2025-04-21 16:53:10,775 - INFO - Arguments parsed successfully\n",
      "2025-04-21 16:53:10,775 - INFO - Setting up with seed 1\n",
      "2025-04-21 16:53:10,797 - INFO - Random seed 1 set successfully\n",
      "2025-04-21 16:53:10,803 - INFO - Using device: cuda\n",
      "2025-04-21 16:53:10,803 - INFO - CUDA devices set to 0,1,2,3\n",
      "2025-04-21 16:53:10,803 - INFO - Loading CIFAR10 dataset...\n",
      "2025-04-21 16:53:12,868 - INFO - CIFAR10 dataset loaded successfully\n",
      "2025-04-21 16:53:13,042 - INFO - ResNet18 model initialized for CIFAR10\n",
      "2025-04-21 16:53:13,042 - INFO - Using existing model directory: ./checkpoint/CIFAR10/ResNet_18/PART\n",
      "2025-04-21 16:53:13,056 - INFO - Model parallelized across multiple GPUs\n",
      "2025-04-21 16:53:13,056 - INFO - cudnn.benchmark enabled\n",
      "2025-04-21 16:53:13,056 - INFO - Optimizer configured with lr=0.01, momentum=0.9, weight_decay=0.0002\n",
      "2025-04-21 16:53:13,056 - INFO - Starting warm-up training for 5 epochs\n",
      "2025-04-21 16:53:13,056 - INFO - Warm-up Epoch 1/5 started\n",
      "2025-04-21 16:53:13,056 - INFO - Starting standard training for warm-up epoch 1\n",
      "2025-04-21 16:53:18,833 - INFO - Warm-up Epoch: 1 [256/50000 (0.51%)]\tLoss: 2.495690 Avg Loss: 2.495690 Accuracy: 8.59%\n",
      "2025-04-21 16:53:36,437 - INFO - Warm-up Epoch: 1 [25856/50000 (51.53%)]\tLoss: 1.471821 Avg Loss: 1.672334 Accuracy: 37.79%\n",
      "2025-04-21 16:53:53,767 - INFO - Warm-up Epoch 1 completed: Average Loss: 1.471266, Accuracy: 45.72%\n",
      "2025-04-21 16:53:53,767 - INFO - Warm-up Epoch 1 stats - Loss: 1.471266, Accuracy: 45.72%\n",
      "2025-04-21 16:53:53,767 - INFO - Warm-up Epoch 2/5 started\n",
      "2025-04-21 16:53:53,767 - INFO - Starting standard training for warm-up epoch 2\n",
      "2025-04-21 16:53:53,954 - INFO - Warm-up Epoch: 2 [256/50000 (0.51%)]\tLoss: 1.202394 Avg Loss: 1.202394 Accuracy: 50.78%\n",
      "2025-04-21 16:54:11,558 - INFO - Warm-up Epoch: 2 [25856/50000 (51.53%)]\tLoss: 0.986541 Avg Loss: 1.044427 Accuracy: 62.50%\n",
      "2025-04-21 16:54:28,107 - INFO - Warm-up Epoch 2 completed: Average Loss: 0.978322, Accuracy: 64.99%\n",
      "2025-04-21 16:54:28,107 - INFO - Warm-up Epoch 2 stats - Loss: 0.978322, Accuracy: 64.99%\n",
      "2025-04-21 16:54:28,252 - INFO - Saved model checkpoint to ./checkpoint/CIFAR10/ResNet_18/PART\\pre_part_epoch2.pth\n",
      "2025-04-21 16:54:28,252 - INFO - ================================================================\n",
      "2025-04-21 16:54:28,252 - INFO - Warm-up Epoch 3/5 started\n",
      "2025-04-21 16:54:28,252 - INFO - Starting standard training for warm-up epoch 3\n",
      "2025-04-21 16:54:28,429 - INFO - Warm-up Epoch: 3 [256/50000 (0.51%)]\tLoss: 0.865322 Avg Loss: 0.865322 Accuracy: 72.66%\n",
      "2025-04-21 16:54:46,256 - INFO - Warm-up Epoch: 3 [25856/50000 (51.53%)]\tLoss: 0.661334 Avg Loss: 0.771774 Accuracy: 72.83%\n",
      "2025-04-21 16:55:02,972 - INFO - Warm-up Epoch 3 completed: Average Loss: 0.745809, Accuracy: 73.93%\n",
      "2025-04-21 16:55:02,972 - INFO - Warm-up Epoch 3 stats - Loss: 0.745809, Accuracy: 73.93%\n",
      "2025-04-21 16:55:02,972 - INFO - Warm-up Epoch 4/5 started\n",
      "2025-04-21 16:55:02,972 - INFO - Starting standard training for warm-up epoch 4\n",
      "2025-04-21 16:55:03,158 - INFO - Warm-up Epoch: 4 [256/50000 (0.51%)]\tLoss: 0.722616 Avg Loss: 0.722616 Accuracy: 73.44%\n",
      "2025-04-21 16:55:20,815 - INFO - Warm-up Epoch: 4 [25856/50000 (51.53%)]\tLoss: 0.661405 Avg Loss: 0.651715 Accuracy: 77.56%\n",
      "2025-04-21 16:55:37,390 - INFO - Warm-up Epoch 4 completed: Average Loss: 0.623733, Accuracy: 78.35%\n",
      "2025-04-21 16:55:37,390 - INFO - Warm-up Epoch 4 stats - Loss: 0.623733, Accuracy: 78.35%\n",
      "2025-04-21 16:55:37,455 - INFO - Saved model checkpoint to ./checkpoint/CIFAR10/ResNet_18/PART\\pre_part_epoch4.pth\n",
      "2025-04-21 16:55:37,455 - INFO - ================================================================\n",
      "2025-04-21 16:55:37,455 - INFO - Warm-up Epoch 5/5 started\n",
      "2025-04-21 16:55:37,455 - INFO - Starting standard training for warm-up epoch 5\n",
      "2025-04-21 16:55:37,628 - INFO - Warm-up Epoch: 5 [256/50000 (0.51%)]\tLoss: 0.488412 Avg Loss: 0.488412 Accuracy: 83.20%\n",
      "2025-04-21 16:55:55,243 - INFO - Warm-up Epoch: 5 [25856/50000 (51.53%)]\tLoss: 0.661852 Avg Loss: 0.551073 Accuracy: 81.08%\n",
      "2025-04-21 16:56:11,900 - INFO - Warm-up Epoch 5 completed: Average Loss: 0.533788, Accuracy: 81.63%\n",
      "2025-04-21 16:56:11,916 - INFO - Warm-up Epoch 5 stats - Loss: 0.533788, Accuracy: 81.63%\n",
      "2025-04-21 16:56:11,916 - INFO - Warm-up training completed successfully\n",
      "2025-04-21 16:56:11,916 - INFO - Computing and saving CAM weights\n",
      "2025-04-21 16:56:11,916 - INFO - Computing and saving CAM weights...\n",
      "2025-04-21 16:56:11,963 - INFO - Processed CAM weights for batch 1/196\n",
      "2025-04-21 16:56:17,282 - INFO - Processed CAM weights for batch 101/196\n",
      "2025-04-21 16:56:22,642 - INFO - CAM weights computation completed\n",
      "2025-04-21 16:56:22,642 - INFO - CAM weights computed and saved successfully\n",
      "2025-04-21 16:56:22,642 - INFO - Starting adversarial training for 25 epochs\n",
      "2025-04-21 16:56:22,642 - INFO - Adversarial Training Epoch 1/25\n",
      "2025-04-21 16:56:22,642 - INFO - Adjusting learning rate for epoch 1\n",
      "2025-04-21 16:56:22,642 - INFO - Learning rate adjusted to 0.01\n",
      "2025-04-21 16:56:22,642 - INFO - Starting adversarial training for epoch 1\n",
      "2025-04-21 16:56:23,862 - INFO - Train Epoch: 1 [256/50000 (0.51%)]\tLoss: 9.554517 Avg Loss: 9.554517 Accuracy: 0.00%\n",
      "2025-04-21 16:57:54,060 - INFO - Train Epoch: 1 [25856/50000 (51.53%)]\tLoss: 1.919937 Avg Loss: 2.159839 Accuracy: 25.10%\n",
      "2025-04-21 16:59:20,085 - INFO - Epoch 1 completed: Average Loss: 2.018177, Accuracy: 26.94%\n",
      "2025-04-21 16:59:20,085 - INFO - Adversarial Training Epoch 1 stats - Loss: 2.018177, Accuracy: 26.94%\n",
      "2025-04-21 16:59:20,085 - INFO - ================================================================\n",
      "2025-04-21 16:59:20,085 - INFO - Adversarial Training Epoch 2/25\n",
      "2025-04-21 16:59:20,086 - INFO - Updating CAM weights at epoch 2\n",
      "2025-04-21 16:59:20,086 - INFO - Computing and saving CAM weights...\n",
      "2025-04-21 16:59:20,142 - INFO - Processed CAM weights for batch 1/196\n",
      "2025-04-21 16:59:25,705 - INFO - Processed CAM weights for batch 101/196\n",
      "2025-04-21 16:59:31,186 - INFO - CAM weights computation completed\n",
      "2025-04-21 16:59:31,187 - INFO - CAM weights updated successfully\n",
      "2025-04-21 16:59:31,187 - INFO - Adjusting learning rate for epoch 2\n",
      "2025-04-21 16:59:31,187 - INFO - Learning rate adjusted to 0.01\n",
      "2025-04-21 16:59:31,187 - INFO - Starting adversarial training for epoch 2\n",
      "2025-04-21 16:59:32,368 - INFO - Train Epoch: 2 [256/50000 (0.51%)]\tLoss: 1.838621 Avg Loss: 1.838621 Accuracy: 32.42%\n",
      "2025-04-21 17:01:03,970 - INFO - Train Epoch: 2 [25856/50000 (51.53%)]\tLoss: 1.735402 Avg Loss: 1.803394 Accuracy: 31.67%\n",
      "2025-04-21 17:02:30,339 - INFO - Epoch 2 completed: Average Loss: 1.796502, Accuracy: 31.69%\n",
      "2025-04-21 17:02:30,339 - INFO - Adversarial Training Epoch 2 stats - Loss: 1.796502, Accuracy: 31.69%\n",
      "2025-04-21 17:02:30,426 - INFO - Saved model checkpoint to ./checkpoint/CIFAR10/ResNet_18/PART\\part_epoch2.pth\n",
      "2025-04-21 17:02:30,426 - INFO - ================================================================\n",
      "2025-04-21 17:02:30,426 - INFO - Adversarial Training Epoch 3/25\n",
      "2025-04-21 17:02:30,426 - INFO - Updating CAM weights at epoch 3\n",
      "2025-04-21 17:02:30,426 - INFO - Computing and saving CAM weights...\n",
      "2025-04-21 17:02:30,478 - INFO - Processed CAM weights for batch 1/196\n",
      "2025-04-21 17:02:36,080 - INFO - Processed CAM weights for batch 101/196\n",
      "2025-04-21 17:02:41,476 - INFO - CAM weights computation completed\n",
      "2025-04-21 17:02:41,476 - INFO - CAM weights updated successfully\n",
      "2025-04-21 17:02:41,476 - INFO - Adjusting learning rate for epoch 3\n",
      "2025-04-21 17:02:41,476 - INFO - Learning rate adjusted to 0.01\n",
      "2025-04-21 17:02:41,476 - INFO - Starting adversarial training for epoch 3\n",
      "2025-04-21 17:02:42,688 - INFO - Train Epoch: 3 [256/50000 (0.51%)]\tLoss: 1.867997 Avg Loss: 1.867997 Accuracy: 26.17%\n",
      "2025-04-21 17:04:13,615 - INFO - Train Epoch: 3 [25856/50000 (51.53%)]\tLoss: 1.799237 Avg Loss: 1.738655 Accuracy: 33.22%\n",
      "2025-04-21 17:05:38,904 - INFO - Epoch 3 completed: Average Loss: 1.733891, Accuracy: 33.69%\n",
      "2025-04-21 17:05:38,904 - INFO - Adversarial Training Epoch 3 stats - Loss: 1.733891, Accuracy: 33.69%\n",
      "2025-04-21 17:05:38,904 - INFO - ================================================================\n",
      "2025-04-21 17:05:38,904 - INFO - Adversarial Training Epoch 4/25\n",
      "2025-04-21 17:05:38,904 - INFO - Updating CAM weights at epoch 4\n",
      "2025-04-21 17:05:38,904 - INFO - Computing and saving CAM weights...\n",
      "2025-04-21 17:05:38,952 - INFO - Processed CAM weights for batch 1/196\n",
      "2025-04-21 17:05:44,425 - INFO - Processed CAM weights for batch 101/196\n",
      "2025-04-21 17:05:49,656 - INFO - CAM weights computation completed\n",
      "2025-04-21 17:05:49,656 - INFO - CAM weights updated successfully\n",
      "2025-04-21 17:05:49,656 - INFO - Adjusting learning rate for epoch 4\n",
      "2025-04-21 17:05:49,656 - INFO - Learning rate adjusted to 0.01\n",
      "2025-04-21 17:05:49,656 - INFO - Starting adversarial training for epoch 4\n",
      "2025-04-21 17:05:50,798 - INFO - Train Epoch: 4 [256/50000 (0.51%)]\tLoss: 1.687817 Avg Loss: 1.687817 Accuracy: 36.33%\n",
      "2025-04-21 17:07:21,817 - INFO - Train Epoch: 4 [25856/50000 (51.53%)]\tLoss: 1.727282 Avg Loss: 1.698635 Accuracy: 35.16%\n",
      "2025-04-21 17:08:47,028 - INFO - Epoch 4 completed: Average Loss: 1.692575, Accuracy: 35.39%\n",
      "2025-04-21 17:08:47,028 - INFO - Adversarial Training Epoch 4 stats - Loss: 1.692575, Accuracy: 35.39%\n",
      "2025-04-21 17:08:47,124 - INFO - Saved model checkpoint to ./checkpoint/CIFAR10/ResNet_18/PART\\part_epoch4.pth\n",
      "2025-04-21 17:08:47,124 - INFO - ================================================================\n",
      "2025-04-21 17:08:47,124 - INFO - Adversarial Training Epoch 5/25\n",
      "2025-04-21 17:08:47,124 - INFO - Updating CAM weights at epoch 5\n",
      "2025-04-21 17:08:47,124 - INFO - Computing and saving CAM weights...\n",
      "2025-04-21 17:08:47,148 - INFO - Processed CAM weights for batch 1/196\n",
      "2025-04-21 17:08:49,682 - INFO - Processed CAM weights for batch 101/196\n",
      "2025-04-21 17:08:52,108 - INFO - CAM weights computation completed\n",
      "2025-04-21 17:08:52,108 - INFO - CAM weights updated successfully\n",
      "2025-04-21 17:08:52,108 - INFO - Adjusting learning rate for epoch 5\n",
      "2025-04-21 17:08:52,108 - INFO - Learning rate adjusted to 0.01\n",
      "2025-04-21 17:08:52,108 - INFO - Starting adversarial training for epoch 5\n",
      "2025-04-21 17:08:53,136 - INFO - Train Epoch: 5 [256/50000 (0.51%)]\tLoss: 1.559322 Avg Loss: 1.559322 Accuracy: 42.97%\n",
      "2025-04-21 17:10:21,809 - INFO - Train Epoch: 5 [25856/50000 (51.53%)]\tLoss: 1.618971 Avg Loss: 1.664746 Accuracy: 36.77%\n",
      "2025-04-21 17:11:45,306 - INFO - Epoch 5 completed: Average Loss: 1.659772, Accuracy: 36.70%\n",
      "2025-04-21 17:11:45,306 - INFO - Adversarial Training Epoch 5 stats - Loss: 1.659772, Accuracy: 36.70%\n",
      "2025-04-21 17:11:45,306 - INFO - ================================================================\n",
      "2025-04-21 17:11:45,306 - INFO - Adversarial Training Epoch 6/25\n",
      "2025-04-21 17:11:45,306 - INFO - Updating CAM weights at epoch 6\n",
      "2025-04-21 17:11:45,306 - INFO - Computing and saving CAM weights...\n",
      "2025-04-21 17:11:45,337 - INFO - Processed CAM weights for batch 1/196\n",
      "2025-04-21 17:11:47,760 - INFO - Processed CAM weights for batch 101/196\n",
      "2025-04-21 17:11:50,065 - INFO - CAM weights computation completed\n",
      "2025-04-21 17:11:50,065 - INFO - CAM weights updated successfully\n",
      "2025-04-21 17:11:50,065 - INFO - Adjusting learning rate for epoch 6\n",
      "2025-04-21 17:11:50,065 - INFO - Learning rate adjusted to 0.01\n",
      "2025-04-21 17:11:50,065 - INFO - Starting adversarial training for epoch 6\n",
      "2025-04-21 17:11:51,208 - INFO - Train Epoch: 6 [256/50000 (0.51%)]\tLoss: 1.544314 Avg Loss: 1.544314 Accuracy: 41.02%\n",
      "2025-04-21 17:13:19,038 - INFO - Train Epoch: 6 [25856/50000 (51.53%)]\tLoss: 1.621571 Avg Loss: 1.635293 Accuracy: 37.77%\n",
      "2025-04-21 17:14:41,968 - INFO - Epoch 6 completed: Average Loss: 1.634462, Accuracy: 37.65%\n",
      "2025-04-21 17:14:41,970 - INFO - Adversarial Training Epoch 6 stats - Loss: 1.634462, Accuracy: 37.65%\n",
      "2025-04-21 17:14:42,051 - INFO - Saved model checkpoint to ./checkpoint/CIFAR10/ResNet_18/PART\\part_epoch6.pth\n",
      "2025-04-21 17:14:42,051 - INFO - ================================================================\n",
      "2025-04-21 17:14:42,051 - INFO - Adversarial Training Epoch 7/25\n",
      "2025-04-21 17:14:42,051 - INFO - Updating CAM weights at epoch 7\n",
      "2025-04-21 17:14:42,051 - INFO - Computing and saving CAM weights...\n",
      "2025-04-21 17:14:42,078 - INFO - Processed CAM weights for batch 1/196\n",
      "2025-04-21 17:14:44,487 - INFO - Processed CAM weights for batch 101/196\n",
      "2025-04-21 17:14:46,842 - INFO - CAM weights computation completed\n",
      "2025-04-21 17:14:46,842 - INFO - CAM weights updated successfully\n",
      "2025-04-21 17:14:46,842 - INFO - Adjusting learning rate for epoch 7\n",
      "2025-04-21 17:14:46,842 - INFO - Learning rate adjusted to 0.01\n",
      "2025-04-21 17:14:46,842 - INFO - Starting adversarial training for epoch 7\n",
      "2025-04-21 17:14:47,990 - INFO - Train Epoch: 7 [256/50000 (0.51%)]\tLoss: 1.638852 Avg Loss: 1.638852 Accuracy: 37.89%\n",
      "2025-04-21 17:16:15,838 - INFO - Train Epoch: 7 [25856/50000 (51.53%)]\tLoss: 1.618201 Avg Loss: 1.611305 Accuracy: 38.87%\n",
      "2025-04-21 17:17:38,889 - INFO - Epoch 7 completed: Average Loss: 1.609203, Accuracy: 38.74%\n",
      "2025-04-21 17:17:38,889 - INFO - Adversarial Training Epoch 7 stats - Loss: 1.609203, Accuracy: 38.74%\n",
      "2025-04-21 17:17:38,889 - INFO - ================================================================\n",
      "2025-04-21 17:17:38,889 - INFO - Adversarial Training Epoch 8/25\n",
      "2025-04-21 17:17:38,889 - INFO - Updating CAM weights at epoch 8\n",
      "2025-04-21 17:17:38,889 - INFO - Computing and saving CAM weights...\n",
      "2025-04-21 17:17:38,908 - INFO - Processed CAM weights for batch 1/196\n",
      "2025-04-21 17:17:41,463 - INFO - Processed CAM weights for batch 101/196\n",
      "2025-04-21 17:17:43,908 - INFO - CAM weights computation completed\n",
      "2025-04-21 17:17:43,908 - INFO - CAM weights updated successfully\n",
      "2025-04-21 17:17:43,908 - INFO - Adjusting learning rate for epoch 8\n",
      "2025-04-21 17:17:43,908 - INFO - Learning rate adjusted to 0.01\n",
      "2025-04-21 17:17:43,908 - INFO - Starting adversarial training for epoch 8\n",
      "2025-04-21 17:17:44,947 - INFO - Train Epoch: 8 [256/50000 (0.51%)]\tLoss: 1.525321 Avg Loss: 1.525321 Accuracy: 39.45%\n",
      "2025-04-21 17:19:12,854 - INFO - Train Epoch: 8 [25856/50000 (51.53%)]\tLoss: 1.611302 Avg Loss: 1.588266 Accuracy: 39.52%\n",
      "2025-04-21 17:20:35,892 - INFO - Epoch 8 completed: Average Loss: 1.588211, Accuracy: 39.44%\n",
      "2025-04-21 17:20:35,892 - INFO - Adversarial Training Epoch 8 stats - Loss: 1.588211, Accuracy: 39.44%\n",
      "2025-04-21 17:20:35,943 - INFO - Saved model checkpoint to ./checkpoint/CIFAR10/ResNet_18/PART\\part_epoch8.pth\n",
      "2025-04-21 17:20:35,943 - INFO - ================================================================\n",
      "2025-04-21 17:20:35,943 - INFO - Adversarial Training Epoch 9/25\n",
      "2025-04-21 17:20:35,943 - INFO - Updating CAM weights at epoch 9\n",
      "2025-04-21 17:20:35,943 - INFO - Computing and saving CAM weights...\n",
      "2025-04-21 17:20:35,956 - INFO - Processed CAM weights for batch 1/196\n",
      "2025-04-21 17:20:38,497 - INFO - Processed CAM weights for batch 101/196\n",
      "2025-04-21 17:20:40,939 - INFO - CAM weights computation completed\n",
      "2025-04-21 17:20:40,939 - INFO - CAM weights updated successfully\n",
      "2025-04-21 17:20:40,939 - INFO - Adjusting learning rate for epoch 9\n",
      "2025-04-21 17:20:40,939 - INFO - Learning rate adjusted to 0.01\n",
      "2025-04-21 17:20:40,940 - INFO - Starting adversarial training for epoch 9\n",
      "2025-04-21 17:20:42,068 - INFO - Train Epoch: 9 [256/50000 (0.51%)]\tLoss: 1.578038 Avg Loss: 1.578038 Accuracy: 36.33%\n",
      "2025-04-21 17:22:09,951 - INFO - Train Epoch: 9 [25856/50000 (51.53%)]\tLoss: 1.563576 Avg Loss: 1.569081 Accuracy: 40.25%\n",
      "2025-04-21 17:23:33,252 - INFO - Epoch 9 completed: Average Loss: 1.559617, Accuracy: 40.42%\n",
      "2025-04-21 17:23:33,252 - INFO - Adversarial Training Epoch 9 stats - Loss: 1.559617, Accuracy: 40.42%\n",
      "2025-04-21 17:23:33,252 - INFO - ================================================================\n",
      "2025-04-21 17:23:33,252 - INFO - Adversarial Training Epoch 10/25\n",
      "2025-04-21 17:23:33,252 - INFO - Updating CAM weights at epoch 10\n",
      "2025-04-21 17:23:33,252 - INFO - Computing and saving CAM weights...\n",
      "2025-04-21 17:23:33,277 - INFO - Processed CAM weights for batch 1/196\n",
      "2025-04-21 17:23:35,866 - INFO - Processed CAM weights for batch 101/196\n",
      "2025-04-21 17:23:38,429 - INFO - CAM weights computation completed\n",
      "2025-04-21 17:23:38,429 - INFO - CAM weights updated successfully\n",
      "2025-04-21 17:23:38,429 - INFO - Adjusting learning rate for epoch 10\n",
      "2025-04-21 17:23:38,429 - INFO - Learning rate adjusted to 0.01\n",
      "2025-04-21 17:23:38,429 - INFO - Starting adversarial training for epoch 10\n",
      "2025-04-21 17:23:39,643 - INFO - Train Epoch: 10 [256/50000 (0.51%)]\tLoss: 1.537017 Avg Loss: 1.537017 Accuracy: 40.62%\n",
      "2025-04-21 17:25:07,954 - INFO - Train Epoch: 10 [25856/50000 (51.53%)]\tLoss: 1.554100 Avg Loss: 1.551954 Accuracy: 40.50%\n",
      "2025-04-21 17:26:31,058 - INFO - Epoch 10 completed: Average Loss: 1.545197, Accuracy: 40.87%\n",
      "2025-04-21 17:26:31,058 - INFO - Adversarial Training Epoch 10 stats - Loss: 1.545197, Accuracy: 40.87%\n",
      "2025-04-21 17:26:31,090 - INFO - Saved model checkpoint to ./checkpoint/CIFAR10/ResNet_18/PART\\part_epoch10.pth\n",
      "2025-04-21 17:26:31,090 - INFO - ================================================================\n",
      "2025-04-21 17:26:31,090 - INFO - Adversarial Training Epoch 11/25\n",
      "2025-04-21 17:26:31,090 - INFO - Updating CAM weights at epoch 11\n",
      "2025-04-21 17:26:31,090 - INFO - Computing and saving CAM weights...\n",
      "2025-04-21 17:26:31,124 - INFO - Processed CAM weights for batch 1/196\n",
      "2025-04-21 17:26:33,665 - INFO - Processed CAM weights for batch 101/196\n",
      "2025-04-21 17:26:36,102 - INFO - CAM weights computation completed\n",
      "2025-04-21 17:26:36,102 - INFO - CAM weights updated successfully\n",
      "2025-04-21 17:26:36,102 - INFO - Adjusting learning rate for epoch 11\n",
      "2025-04-21 17:26:36,102 - INFO - Learning rate adjusted to 0.01\n",
      "2025-04-21 17:26:36,102 - INFO - Starting adversarial training for epoch 11\n",
      "2025-04-21 17:26:37,158 - INFO - Train Epoch: 11 [256/50000 (0.51%)]\tLoss: 1.644911 Avg Loss: 1.644911 Accuracy: 37.11%\n",
      "2025-04-21 17:28:05,136 - INFO - Train Epoch: 11 [25856/50000 (51.53%)]\tLoss: 1.490890 Avg Loss: 1.530678 Accuracy: 41.48%\n",
      "2025-04-21 17:29:28,266 - INFO - Epoch 11 completed: Average Loss: 1.527321, Accuracy: 41.73%\n",
      "2025-04-21 17:29:28,266 - INFO - Adversarial Training Epoch 11 stats - Loss: 1.527321, Accuracy: 41.73%\n",
      "2025-04-21 17:29:28,266 - INFO - ================================================================\n",
      "2025-04-21 17:29:28,266 - INFO - Adversarial Training Epoch 12/25\n",
      "2025-04-21 17:29:28,266 - INFO - Updating CAM weights at epoch 12\n",
      "2025-04-21 17:29:28,266 - INFO - Computing and saving CAM weights...\n",
      "2025-04-21 17:29:28,293 - INFO - Processed CAM weights for batch 1/196\n",
      "2025-04-21 17:29:30,855 - INFO - Processed CAM weights for batch 101/196\n",
      "2025-04-21 17:29:33,369 - INFO - CAM weights computation completed\n",
      "2025-04-21 17:29:33,369 - INFO - CAM weights updated successfully\n",
      "2025-04-21 17:29:33,369 - INFO - Adjusting learning rate for epoch 12\n",
      "2025-04-21 17:29:33,369 - INFO - Learning rate adjusted to 0.01\n",
      "2025-04-21 17:29:33,369 - INFO - Starting adversarial training for epoch 12\n",
      "2025-04-21 17:29:34,510 - INFO - Train Epoch: 12 [256/50000 (0.51%)]\tLoss: 1.419309 Avg Loss: 1.419309 Accuracy: 51.17%\n",
      "2025-04-21 17:31:02,480 - INFO - Train Epoch: 12 [25856/50000 (51.53%)]\tLoss: 1.473944 Avg Loss: 1.505874 Accuracy: 42.49%\n",
      "2025-04-21 17:32:25,616 - INFO - Epoch 12 completed: Average Loss: 1.507917, Accuracy: 42.31%\n",
      "2025-04-21 17:32:25,616 - INFO - Adversarial Training Epoch 12 stats - Loss: 1.507917, Accuracy: 42.31%\n",
      "2025-04-21 17:32:25,649 - INFO - Saved model checkpoint to ./checkpoint/CIFAR10/ResNet_18/PART\\part_epoch12.pth\n",
      "2025-04-21 17:32:25,649 - INFO - ================================================================\n",
      "2025-04-21 17:32:25,649 - INFO - Adversarial Training Epoch 13/25\n",
      "2025-04-21 17:32:25,649 - INFO - Updating CAM weights at epoch 13\n",
      "2025-04-21 17:32:25,649 - INFO - Computing and saving CAM weights...\n",
      "2025-04-21 17:32:25,681 - INFO - Processed CAM weights for batch 1/196\n",
      "2025-04-21 17:32:28,222 - INFO - Processed CAM weights for batch 101/196\n",
      "2025-04-21 17:32:30,669 - INFO - CAM weights computation completed\n",
      "2025-04-21 17:32:30,669 - INFO - CAM weights updated successfully\n",
      "2025-04-21 17:32:30,669 - INFO - Adjusting learning rate for epoch 13\n",
      "2025-04-21 17:32:30,669 - INFO - Learning rate adjusted to 0.01\n",
      "2025-04-21 17:32:30,669 - INFO - Starting adversarial training for epoch 13\n",
      "2025-04-21 17:32:31,817 - INFO - Train Epoch: 13 [256/50000 (0.51%)]\tLoss: 1.552459 Avg Loss: 1.552459 Accuracy: 42.19%\n",
      "2025-04-21 17:33:59,787 - INFO - Train Epoch: 13 [25856/50000 (51.53%)]\tLoss: 1.531991 Avg Loss: 1.493994 Accuracy: 42.75%\n",
      "2025-04-21 17:35:22,913 - INFO - Epoch 13 completed: Average Loss: 1.491172, Accuracy: 42.89%\n",
      "2025-04-21 17:35:22,913 - INFO - Adversarial Training Epoch 13 stats - Loss: 1.491172, Accuracy: 42.89%\n",
      "2025-04-21 17:35:22,913 - INFO - ================================================================\n",
      "2025-04-21 17:35:22,913 - INFO - Adversarial Training Epoch 14/25\n",
      "2025-04-21 17:35:22,913 - INFO - Updating CAM weights at epoch 14\n",
      "2025-04-21 17:35:22,913 - INFO - Computing and saving CAM weights...\n",
      "2025-04-21 17:35:22,945 - INFO - Processed CAM weights for batch 1/196\n",
      "2025-04-21 17:35:25,489 - INFO - Processed CAM weights for batch 101/196\n",
      "2025-04-21 17:35:27,951 - INFO - CAM weights computation completed\n",
      "2025-04-21 17:35:27,951 - INFO - CAM weights updated successfully\n",
      "2025-04-21 17:35:27,951 - INFO - Adjusting learning rate for epoch 14\n",
      "2025-04-21 17:35:27,951 - INFO - Learning rate adjusted to 0.01\n",
      "2025-04-21 17:35:27,951 - INFO - Starting adversarial training for epoch 14\n",
      "2025-04-21 17:35:28,974 - INFO - Train Epoch: 14 [256/50000 (0.51%)]\tLoss: 1.432661 Avg Loss: 1.432661 Accuracy: 42.97%\n",
      "2025-04-21 17:36:56,935 - INFO - Train Epoch: 14 [25856/50000 (51.53%)]\tLoss: 1.492642 Avg Loss: 1.482287 Accuracy: 43.15%\n",
      "2025-04-21 17:38:20,061 - INFO - Epoch 14 completed: Average Loss: 1.481910, Accuracy: 43.24%\n",
      "2025-04-21 17:38:20,061 - INFO - Adversarial Training Epoch 14 stats - Loss: 1.481910, Accuracy: 43.24%\n",
      "2025-04-21 17:38:20,101 - INFO - Saved model checkpoint to ./checkpoint/CIFAR10/ResNet_18/PART\\part_epoch14.pth\n",
      "2025-04-21 17:38:20,103 - INFO - ================================================================\n",
      "2025-04-21 17:38:20,103 - INFO - Adversarial Training Epoch 15/25\n",
      "2025-04-21 17:38:20,103 - INFO - Updating CAM weights at epoch 15\n",
      "2025-04-21 17:38:20,103 - INFO - Computing and saving CAM weights...\n",
      "2025-04-21 17:38:20,125 - INFO - Processed CAM weights for batch 1/196\n",
      "2025-04-21 17:38:22,683 - INFO - Processed CAM weights for batch 101/196\n",
      "2025-04-21 17:38:25,142 - INFO - CAM weights computation completed\n",
      "2025-04-21 17:38:25,142 - INFO - CAM weights updated successfully\n",
      "2025-04-21 17:38:25,142 - INFO - Adjusting learning rate for epoch 15\n",
      "2025-04-21 17:38:25,142 - INFO - Learning rate adjusted to 0.01\n",
      "2025-04-21 17:38:25,142 - INFO - Starting adversarial training for epoch 15\n",
      "2025-04-21 17:38:26,292 - INFO - Train Epoch: 15 [256/50000 (0.51%)]\tLoss: 1.502349 Avg Loss: 1.502349 Accuracy: 40.23%\n",
      "2025-04-21 17:39:54,239 - INFO - Train Epoch: 15 [25856/50000 (51.53%)]\tLoss: 1.452402 Avg Loss: 1.457226 Accuracy: 44.33%\n",
      "2025-04-21 17:41:17,385 - INFO - Epoch 15 completed: Average Loss: 1.463546, Accuracy: 44.16%\n",
      "2025-04-21 17:41:17,385 - INFO - Adversarial Training Epoch 15 stats - Loss: 1.463546, Accuracy: 44.16%\n",
      "2025-04-21 17:41:17,385 - INFO - ================================================================\n",
      "2025-04-21 17:41:17,385 - INFO - Adversarial Training Epoch 16/25\n",
      "2025-04-21 17:41:17,385 - INFO - Updating CAM weights at epoch 16\n",
      "2025-04-21 17:41:17,385 - INFO - Computing and saving CAM weights...\n",
      "2025-04-21 17:41:17,416 - INFO - Processed CAM weights for batch 1/196\n",
      "2025-04-21 17:41:19,992 - INFO - Processed CAM weights for batch 101/196\n",
      "2025-04-21 17:41:22,488 - INFO - CAM weights computation completed\n",
      "2025-04-21 17:41:22,488 - INFO - CAM weights updated successfully\n",
      "2025-04-21 17:41:22,488 - INFO - Adjusting learning rate for epoch 16\n",
      "2025-04-21 17:41:22,488 - INFO - Learning rate adjusted to 0.01\n",
      "2025-04-21 17:41:22,488 - INFO - Starting adversarial training for epoch 16\n",
      "2025-04-21 17:41:23,629 - INFO - Train Epoch: 16 [256/50000 (0.51%)]\tLoss: 1.409706 Avg Loss: 1.409706 Accuracy: 46.48%\n",
      "2025-04-21 17:42:51,583 - INFO - Train Epoch: 16 [25856/50000 (51.53%)]\tLoss: 1.428630 Avg Loss: 1.449719 Accuracy: 44.62%\n",
      "2025-04-21 17:44:14,709 - INFO - Epoch 16 completed: Average Loss: 1.455606, Accuracy: 44.35%\n",
      "2025-04-21 17:44:14,709 - INFO - Adversarial Training Epoch 16 stats - Loss: 1.455606, Accuracy: 44.35%\n",
      "2025-04-21 17:44:14,756 - INFO - Saved model checkpoint to ./checkpoint/CIFAR10/ResNet_18/PART\\part_epoch16.pth\n",
      "2025-04-21 17:44:14,756 - INFO - ================================================================\n",
      "2025-04-21 17:44:14,756 - INFO - Adversarial Training Epoch 17/25\n",
      "2025-04-21 17:44:14,756 - INFO - Updating CAM weights at epoch 17\n",
      "2025-04-21 17:44:14,756 - INFO - Computing and saving CAM weights...\n",
      "2025-04-21 17:44:14,778 - INFO - Processed CAM weights for batch 1/196\n",
      "2025-04-21 17:44:17,313 - INFO - Processed CAM weights for batch 101/196\n",
      "2025-04-21 17:44:19,831 - INFO - CAM weights computation completed\n",
      "2025-04-21 17:44:19,831 - INFO - CAM weights updated successfully\n",
      "2025-04-21 17:44:19,831 - INFO - Adjusting learning rate for epoch 17\n",
      "2025-04-21 17:44:19,831 - INFO - Learning rate adjusted to 0.01\n",
      "2025-04-21 17:44:19,831 - INFO - Starting adversarial training for epoch 17\n",
      "2025-04-21 17:44:21,001 - INFO - Train Epoch: 17 [256/50000 (0.51%)]\tLoss: 1.460028 Avg Loss: 1.460028 Accuracy: 40.62%\n",
      "2025-04-21 17:45:48,964 - INFO - Train Epoch: 17 [25856/50000 (51.53%)]\tLoss: 1.482690 Avg Loss: 1.446326 Accuracy: 44.45%\n",
      "2025-04-21 17:47:12,053 - INFO - Epoch 17 completed: Average Loss: 1.440372, Accuracy: 44.87%\n",
      "2025-04-21 17:47:12,055 - INFO - Adversarial Training Epoch 17 stats - Loss: 1.440372, Accuracy: 44.87%\n",
      "2025-04-21 17:47:12,055 - INFO - ================================================================\n",
      "2025-04-21 17:47:12,055 - INFO - Adversarial Training Epoch 18/25\n",
      "2025-04-21 17:47:12,055 - INFO - Updating CAM weights at epoch 18\n",
      "2025-04-21 17:47:12,055 - INFO - Computing and saving CAM weights...\n",
      "2025-04-21 17:47:12,081 - INFO - Processed CAM weights for batch 1/196\n",
      "2025-04-21 17:47:14,629 - INFO - Processed CAM weights for batch 101/196\n",
      "2025-04-21 17:47:17,070 - INFO - CAM weights computation completed\n",
      "2025-04-21 17:47:17,070 - INFO - CAM weights updated successfully\n",
      "2025-04-21 17:47:17,070 - INFO - Adjusting learning rate for epoch 18\n",
      "2025-04-21 17:47:17,070 - INFO - Learning rate adjusted to 0.01\n",
      "2025-04-21 17:47:17,070 - INFO - Starting adversarial training for epoch 18\n",
      "2025-04-21 17:47:18,119 - INFO - Train Epoch: 18 [256/50000 (0.51%)]\tLoss: 1.393256 Avg Loss: 1.393256 Accuracy: 44.14%\n",
      "2025-04-21 17:48:45,949 - INFO - Train Epoch: 18 [25856/50000 (51.53%)]\tLoss: 1.391141 Avg Loss: 1.419519 Accuracy: 45.21%\n",
      "2025-04-21 17:50:08,964 - INFO - Epoch 18 completed: Average Loss: 1.428668, Accuracy: 45.11%\n",
      "2025-04-21 17:50:08,964 - INFO - Adversarial Training Epoch 18 stats - Loss: 1.428668, Accuracy: 45.11%\n",
      "2025-04-21 17:50:09,015 - INFO - Saved model checkpoint to ./checkpoint/CIFAR10/ResNet_18/PART\\part_epoch18.pth\n",
      "2025-04-21 17:50:09,015 - INFO - ================================================================\n",
      "2025-04-21 17:50:09,015 - INFO - Adversarial Training Epoch 19/25\n",
      "2025-04-21 17:50:09,015 - INFO - Updating CAM weights at epoch 19\n",
      "2025-04-21 17:50:09,015 - INFO - Computing and saving CAM weights...\n",
      "2025-04-21 17:50:09,042 - INFO - Processed CAM weights for batch 1/196\n",
      "2025-04-21 17:50:11,574 - INFO - Processed CAM weights for batch 101/196\n",
      "2025-04-21 17:50:14,009 - INFO - CAM weights computation completed\n",
      "2025-04-21 17:50:14,025 - INFO - CAM weights updated successfully\n",
      "2025-04-21 17:50:14,025 - INFO - Adjusting learning rate for epoch 19\n",
      "2025-04-21 17:50:14,025 - INFO - Learning rate adjusted to 0.01\n",
      "2025-04-21 17:50:14,025 - INFO - Starting adversarial training for epoch 19\n",
      "2025-04-21 17:50:15,046 - INFO - Train Epoch: 19 [256/50000 (0.51%)]\tLoss: 1.445616 Avg Loss: 1.445616 Accuracy: 45.70%\n",
      "2025-04-21 17:51:43,048 - INFO - Train Epoch: 19 [25856/50000 (51.53%)]\tLoss: 1.439654 Avg Loss: 1.417227 Accuracy: 45.68%\n",
      "2025-04-21 17:53:06,171 - INFO - Epoch 19 completed: Average Loss: 1.414872, Accuracy: 45.87%\n",
      "2025-04-21 17:53:06,171 - INFO - Adversarial Training Epoch 19 stats - Loss: 1.414872, Accuracy: 45.87%\n",
      "2025-04-21 17:53:06,171 - INFO - ================================================================\n",
      "2025-04-21 17:53:06,171 - INFO - Adversarial Training Epoch 20/25\n",
      "2025-04-21 17:53:06,171 - INFO - Updating CAM weights at epoch 20\n",
      "2025-04-21 17:53:06,171 - INFO - Computing and saving CAM weights...\n",
      "2025-04-21 17:53:06,192 - INFO - Processed CAM weights for batch 1/196\n",
      "2025-04-21 17:53:08,753 - INFO - Processed CAM weights for batch 101/196\n",
      "2025-04-21 17:53:11,258 - INFO - CAM weights computation completed\n",
      "2025-04-21 17:53:11,260 - INFO - CAM weights updated successfully\n",
      "2025-04-21 17:53:11,260 - INFO - Adjusting learning rate for epoch 20\n",
      "2025-04-21 17:53:11,260 - INFO - Learning rate adjusted to 0.01\n",
      "2025-04-21 17:53:11,260 - INFO - Starting adversarial training for epoch 20\n",
      "2025-04-21 17:53:12,402 - INFO - Train Epoch: 20 [256/50000 (0.51%)]\tLoss: 1.278580 Avg Loss: 1.278580 Accuracy: 50.00%\n",
      "2025-04-21 17:54:40,405 - INFO - Train Epoch: 20 [25856/50000 (51.53%)]\tLoss: 1.409180 Avg Loss: 1.400960 Accuracy: 46.40%\n",
      "2025-04-21 17:56:03,549 - INFO - Epoch 20 completed: Average Loss: 1.404645, Accuracy: 46.03%\n",
      "2025-04-21 17:56:03,549 - INFO - Adversarial Training Epoch 20 stats - Loss: 1.404645, Accuracy: 46.03%\n",
      "2025-04-21 17:56:03,580 - INFO - Saved model checkpoint to ./checkpoint/CIFAR10/ResNet_18/PART\\part_epoch20.pth\n",
      "2025-04-21 17:56:03,580 - INFO - ================================================================\n",
      "2025-04-21 17:56:03,580 - INFO - Adversarial Training Epoch 21/25\n",
      "2025-04-21 17:56:03,580 - INFO - Updating CAM weights at epoch 21\n",
      "2025-04-21 17:56:03,580 - INFO - Computing and saving CAM weights...\n",
      "2025-04-21 17:56:03,620 - INFO - Processed CAM weights for batch 1/196\n",
      "2025-04-21 17:56:06,157 - INFO - Processed CAM weights for batch 101/196\n",
      "2025-04-21 17:56:08,586 - INFO - CAM weights computation completed\n",
      "2025-04-21 17:56:08,586 - INFO - CAM weights updated successfully\n",
      "2025-04-21 17:56:08,586 - INFO - Adjusting learning rate for epoch 21\n",
      "2025-04-21 17:56:08,586 - INFO - Learning rate adjusted to 0.01\n",
      "2025-04-21 17:56:08,586 - INFO - Starting adversarial training for epoch 21\n",
      "2025-04-21 17:56:09,706 - INFO - Train Epoch: 21 [256/50000 (0.51%)]\tLoss: 1.336157 Avg Loss: 1.336157 Accuracy: 49.22%\n",
      "2025-04-21 17:57:37,700 - INFO - Train Epoch: 21 [25856/50000 (51.53%)]\tLoss: 1.405373 Avg Loss: 1.387261 Accuracy: 46.67%\n",
      "2025-04-21 17:59:00,845 - INFO - Epoch 21 completed: Average Loss: 1.392982, Accuracy: 46.45%\n",
      "2025-04-21 17:59:00,845 - INFO - Adversarial Training Epoch 21 stats - Loss: 1.392982, Accuracy: 46.45%\n",
      "2025-04-21 17:59:00,845 - INFO - ================================================================\n",
      "2025-04-21 17:59:00,845 - INFO - Adversarial Training Epoch 22/25\n",
      "2025-04-21 17:59:00,845 - INFO - Updating CAM weights at epoch 22\n",
      "2025-04-21 17:59:00,845 - INFO - Computing and saving CAM weights...\n",
      "2025-04-21 17:59:00,877 - INFO - Processed CAM weights for batch 1/196\n",
      "2025-04-21 17:59:03,420 - INFO - Processed CAM weights for batch 101/196\n",
      "2025-04-21 17:59:05,910 - INFO - CAM weights computation completed\n",
      "2025-04-21 17:59:05,910 - INFO - CAM weights updated successfully\n",
      "2025-04-21 17:59:05,910 - INFO - Adjusting learning rate for epoch 22\n",
      "2025-04-21 17:59:05,910 - INFO - Learning rate adjusted to 0.01\n",
      "2025-04-21 17:59:05,910 - INFO - Starting adversarial training for epoch 22\n",
      "2025-04-21 17:59:07,051 - INFO - Train Epoch: 22 [256/50000 (0.51%)]\tLoss: 1.339895 Avg Loss: 1.339895 Accuracy: 45.31%\n",
      "2025-04-21 18:00:35,028 - INFO - Train Epoch: 22 [25856/50000 (51.53%)]\tLoss: 1.408259 Avg Loss: 1.379664 Accuracy: 46.71%\n",
      "2025-04-21 18:01:58,118 - INFO - Epoch 22 completed: Average Loss: 1.382952, Accuracy: 46.83%\n",
      "2025-04-21 18:01:58,118 - INFO - Adversarial Training Epoch 22 stats - Loss: 1.382952, Accuracy: 46.83%\n",
      "2025-04-21 18:01:58,155 - INFO - Saved model checkpoint to ./checkpoint/CIFAR10/ResNet_18/PART\\part_epoch22.pth\n",
      "2025-04-21 18:01:58,155 - INFO - ================================================================\n",
      "2025-04-21 18:01:58,155 - INFO - Adversarial Training Epoch 23/25\n",
      "2025-04-21 18:01:58,155 - INFO - Updating CAM weights at epoch 23\n",
      "2025-04-21 18:01:58,155 - INFO - Computing and saving CAM weights...\n",
      "2025-04-21 18:01:58,167 - INFO - Processed CAM weights for batch 1/196\n",
      "2025-04-21 18:02:00,704 - INFO - Processed CAM weights for batch 101/196\n",
      "2025-04-21 18:02:03,221 - INFO - CAM weights computation completed\n",
      "2025-04-21 18:02:03,221 - INFO - CAM weights updated successfully\n",
      "2025-04-21 18:02:03,221 - INFO - Adjusting learning rate for epoch 23\n",
      "2025-04-21 18:02:03,221 - INFO - Learning rate adjusted to 0.01\n",
      "2025-04-21 18:02:03,221 - INFO - Starting adversarial training for epoch 23\n",
      "2025-04-21 18:02:04,422 - INFO - Train Epoch: 23 [256/50000 (0.51%)]\tLoss: 1.316999 Avg Loss: 1.316999 Accuracy: 46.09%\n",
      "2025-04-21 18:03:32,386 - INFO - Train Epoch: 23 [25856/50000 (51.53%)]\tLoss: 1.473162 Avg Loss: 1.374444 Accuracy: 46.72%\n",
      "2025-04-21 18:04:55,516 - INFO - Epoch 23 completed: Average Loss: 1.372527, Accuracy: 47.16%\n",
      "2025-04-21 18:04:55,516 - INFO - Adversarial Training Epoch 23 stats - Loss: 1.372527, Accuracy: 47.16%\n",
      "2025-04-21 18:04:55,516 - INFO - ================================================================\n",
      "2025-04-21 18:04:55,516 - INFO - Adversarial Training Epoch 24/25\n",
      "2025-04-21 18:04:55,516 - INFO - Updating CAM weights at epoch 24\n",
      "2025-04-21 18:04:55,516 - INFO - Computing and saving CAM weights...\n",
      "2025-04-21 18:04:55,542 - INFO - Processed CAM weights for batch 1/196\n",
      "2025-04-21 18:04:58,110 - INFO - Processed CAM weights for batch 101/196\n",
      "2025-04-21 18:05:00,597 - INFO - CAM weights computation completed\n",
      "2025-04-21 18:05:00,597 - INFO - CAM weights updated successfully\n",
      "2025-04-21 18:05:00,597 - INFO - Adjusting learning rate for epoch 24\n",
      "2025-04-21 18:05:00,597 - INFO - Learning rate adjusted to 0.01\n",
      "2025-04-21 18:05:00,597 - INFO - Starting adversarial training for epoch 24\n",
      "2025-04-21 18:05:01,733 - INFO - Train Epoch: 24 [256/50000 (0.51%)]\tLoss: 1.409808 Avg Loss: 1.409808 Accuracy: 49.22%\n",
      "2025-04-21 18:06:29,717 - INFO - Train Epoch: 24 [25856/50000 (51.53%)]\tLoss: 1.426973 Avg Loss: 1.354146 Accuracy: 48.07%\n",
      "2025-04-21 18:07:52,846 - INFO - Epoch 24 completed: Average Loss: 1.358216, Accuracy: 47.96%\n",
      "2025-04-21 18:07:52,846 - INFO - Adversarial Training Epoch 24 stats - Loss: 1.358216, Accuracy: 47.96%\n",
      "2025-04-21 18:07:52,879 - INFO - Saved model checkpoint to ./checkpoint/CIFAR10/ResNet_18/PART\\part_epoch24.pth\n",
      "2025-04-21 18:07:52,879 - INFO - ================================================================\n",
      "2025-04-21 18:07:52,879 - INFO - Adversarial Training Epoch 25/25\n",
      "2025-04-21 18:07:52,879 - INFO - Updating CAM weights at epoch 25\n",
      "2025-04-21 18:07:52,879 - INFO - Computing and saving CAM weights...\n",
      "2025-04-21 18:07:52,914 - INFO - Processed CAM weights for batch 1/196\n",
      "2025-04-21 18:07:55,436 - INFO - Processed CAM weights for batch 101/196\n",
      "2025-04-21 18:07:57,794 - INFO - CAM weights computation completed\n",
      "2025-04-21 18:07:57,794 - INFO - CAM weights updated successfully\n",
      "2025-04-21 18:07:57,794 - INFO - Adjusting learning rate for epoch 25\n",
      "2025-04-21 18:07:57,794 - INFO - Learning rate adjusted to 0.01\n",
      "2025-04-21 18:07:57,794 - INFO - Starting adversarial training for epoch 25\n",
      "2025-04-21 18:07:58,868 - INFO - Train Epoch: 25 [256/50000 (0.51%)]\tLoss: 1.326922 Avg Loss: 1.326922 Accuracy: 46.48%\n",
      "2025-04-21 18:09:26,725 - INFO - Train Epoch: 25 [25856/50000 (51.53%)]\tLoss: 1.327725 Avg Loss: 1.348130 Accuracy: 48.32%\n",
      "2025-04-21 18:10:49,727 - INFO - Epoch 25 completed: Average Loss: 1.351470, Accuracy: 48.12%\n",
      "2025-04-21 18:10:49,727 - INFO - Adversarial Training Epoch 25 stats - Loss: 1.351470, Accuracy: 48.12%\n",
      "2025-04-21 18:10:49,727 - INFO - ================================================================\n",
      "2025-04-21 18:10:49,727 - INFO - Starting final evaluation of the model\n",
      "2025-04-21 18:10:49,727 - INFO - PGD Evaluation =============================================================\n",
      "2025-04-21 18:10:49,727 - INFO - Starting evaluation with pgd attack...\n",
      "2025-04-21 18:10:49,762 - INFO - Eval with pgd: [256/10000 (2.50%)] Current Accuracy: 75.78%\n",
      "2025-04-21 18:10:51,750 - INFO - Evaluation with pgd completed: Average Loss: 0.826472, Accuracy: 71.59%\n",
      "2025-04-21 18:10:51,750 - INFO - PGD Evaluation results - Loss: 0.826472, Accuracy: 71.59%\n",
      "2025-04-21 18:10:51,750 - INFO - MMA Evaluation ==============================================================\n",
      "2025-04-21 18:10:51,750 - INFO - Starting evaluation with mma attack...\n",
      "2025-04-21 18:10:51,799 - INFO - Eval with mma: [256/10000 (2.50%)] Current Accuracy: 75.78%\n",
      "2025-04-21 18:10:53,591 - INFO - Evaluation with mma completed: Average Loss: 0.826472, Accuracy: 71.59%\n",
      "2025-04-21 18:10:53,591 - INFO - MMA Evaluation results - Loss: 0.826472, Accuracy: 71.59%\n",
      "2025-04-21 18:10:53,591 - INFO - Training and evaluation completed successfully!\n",
      "2025-04-21 18:10:53,591 - INFO - Full training log available at: logs/training_20250421_165310.log\n"
     ]
    }
   ],
   "source": [
    "!python -u train_eval_part.py --epochs 30 --warm-up 5 --save-freq 2 --batch-size 256"
   ]
  },
  {
   "cell_type": "code",
   "execution_count": 2,
   "id": "fa7dc8d1-378b-4239-aa26-56206aa8ab99",
   "metadata": {},
   "outputs": [
    {
     "name": "stdout",
     "output_type": "stream",
     "text": [
      "Files already downloaded and verified\n",
      "Files already downloaded and verified\n",
      "warm up starts\n",
      "Train Epoch: 1 [256/50000 (1%)]\tLoss: 2.760246\n",
      "Train Epoch: 1 [25856/50000 (52%)]\tLoss: 2.413259\n",
      "Train Epoch: 2 [256/50000 (1%)]\tLoss: 2.322402\n",
      "Train Epoch: 2 [25856/50000 (52%)]\tLoss: 2.249285\n",
      "save the model\n",
      "================================================================\n",
      "Train Epoch: 3 [256/50000 (1%)]\tLoss: 2.296671\n",
      "Train Epoch: 3 [25856/50000 (52%)]\tLoss: 2.248599\n",
      "Train Epoch: 4 [256/50000 (1%)]\tLoss: 2.245093\n",
      "Train Epoch: 4 [25856/50000 (52%)]\tLoss: 2.176434\n",
      "save the model\n",
      "================================================================\n",
      "Train Epoch: 5 [256/50000 (1%)]\tLoss: 2.201098\n",
      "Train Epoch: 5 [25856/50000 (52%)]\tLoss: 2.182929\n",
      "warm up ends\n",
      "Train Epoch: 1 [256/50000 (0.51%)]\tLoss: 2.140207\n",
      "Train Epoch: 1 [25856/50000 (51.53%)]\tLoss: 2.112485\n",
      "================================================================\n",
      "Train Epoch: 2 [256/50000 (0.51%)]\tLoss: 2.133592\n",
      "Train Epoch: 2 [25856/50000 (51.53%)]\tLoss: 2.165550\n",
      "================================================================\n",
      "Train Epoch: 3 [256/50000 (0.51%)]\tLoss: 2.121057\n",
      "Train Epoch: 3 [25856/50000 (51.53%)]\tLoss: 2.111653\n",
      "================================================================\n",
      "Train Epoch: 4 [256/50000 (0.51%)]\tLoss: 2.133888\n",
      "Train Epoch: 4 [25856/50000 (51.53%)]\tLoss: 2.069307\n",
      "================================================================\n",
      "Train Epoch: 5 [256/50000 (0.51%)]\tLoss: 2.135642\n",
      "Train Epoch: 5 [25856/50000 (51.53%)]\tLoss: 2.047047\n",
      "================================================================\n",
      "Train Epoch: 6 [256/50000 (0.51%)]\tLoss: 2.125374\n",
      "Train Epoch: 6 [25856/50000 (51.53%)]\tLoss: 2.087235\n",
      "================================================================\n",
      "Train Epoch: 7 [256/50000 (0.51%)]\tLoss: 2.060527\n",
      "Train Epoch: 7 [25856/50000 (51.53%)]\tLoss: 2.017515\n",
      "================================================================\n",
      "Train Epoch: 8 [256/50000 (0.51%)]\tLoss: 2.058238\n",
      "Train Epoch: 8 [25856/50000 (51.53%)]\tLoss: 2.019236\n",
      "================================================================\n",
      "Train Epoch: 9 [256/50000 (0.51%)]\tLoss: 2.064694\n",
      "Train Epoch: 9 [25856/50000 (51.53%)]\tLoss: 2.128898\n",
      "================================================================\n",
      "Train Epoch: 10 [256/50000 (0.51%)]\tLoss: 2.131879\n",
      "Train Epoch: 10 [25856/50000 (51.53%)]\tLoss: 2.013635\n",
      "================================================================\n",
      "Train Epoch: 11 [256/50000 (0.51%)]\tLoss: 2.065273\n",
      "Train Epoch: 11 [25856/50000 (51.53%)]\tLoss: 2.004785\n",
      "================================================================\n",
      "Train Epoch: 12 [256/50000 (0.51%)]\tLoss: 1.988840\n",
      "Train Epoch: 12 [25856/50000 (51.53%)]\tLoss: 1.972422\n",
      "================================================================\n",
      "Train Epoch: 13 [256/50000 (0.51%)]\tLoss: 2.028435\n",
      "Train Epoch: 13 [25856/50000 (51.53%)]\tLoss: 2.014649\n",
      "================================================================\n",
      "Train Epoch: 14 [256/50000 (0.51%)]\tLoss: 1.975092\n",
      "Train Epoch: 14 [25856/50000 (51.53%)]\tLoss: 1.976708\n",
      "================================================================\n",
      "Train Epoch: 15 [256/50000 (0.51%)]\tLoss: 1.982430\n",
      "Train Epoch: 15 [25856/50000 (51.53%)]\tLoss: 1.959298\n",
      "================================================================\n",
      "Train Epoch: 16 [256/50000 (0.51%)]\tLoss: 2.010025\n",
      "Train Epoch: 16 [25856/50000 (51.53%)]\tLoss: 1.896193\n",
      "================================================================\n",
      "Train Epoch: 17 [256/50000 (0.51%)]\tLoss: 1.919029\n",
      "Train Epoch: 17 [25856/50000 (51.53%)]\tLoss: 1.920878\n",
      "================================================================\n",
      "Train Epoch: 18 [256/50000 (0.51%)]\tLoss: 2.022969\n",
      "Train Epoch: 18 [25856/50000 (51.53%)]\tLoss: 1.904236\n",
      "================================================================\n",
      "Train Epoch: 19 [256/50000 (0.51%)]\tLoss: 1.914773\n",
      "Train Epoch: 19 [25856/50000 (51.53%)]\tLoss: 1.904488\n",
      "================================================================\n",
      "Train Epoch: 20 [256/50000 (0.51%)]\tLoss: 1.910261\n",
      "Train Epoch: 20 [25856/50000 (51.53%)]\tLoss: 1.935797\n",
      "================================================================\n",
      "Train Epoch: 21 [256/50000 (0.51%)]\tLoss: 1.917770\n",
      "Train Epoch: 21 [25856/50000 (51.53%)]\tLoss: 1.905028\n",
      "================================================================\n",
      "Train Epoch: 22 [256/50000 (0.51%)]\tLoss: 1.874465\n",
      "Train Epoch: 22 [25856/50000 (51.53%)]\tLoss: 1.922910\n",
      "================================================================\n",
      "Train Epoch: 23 [256/50000 (0.51%)]\tLoss: 2.016109\n",
      "Train Epoch: 23 [25856/50000 (51.53%)]\tLoss: 1.871614\n",
      "================================================================\n",
      "Train Epoch: 24 [256/50000 (0.51%)]\tLoss: 1.848422\n",
      "Train Epoch: 24 [25856/50000 (51.53%)]\tLoss: 1.835195\n",
      "================================================================\n",
      "Train Epoch: 25 [256/50000 (0.51%)]\tLoss: 1.899418\n",
      "Train Epoch: 25 [25856/50000 (51.53%)]\tLoss: 1.888449\n",
      "================================================================\n",
      "PGD=============================================================\n",
      "Test: Accuracy: 6349/10000 (63.49%), Robust Accuracy: 4352/10000 (43.52%)\n",
      "MMA==============================================================\n",
      "Test: Accuracy: 6349/10000 (63.49%), Robust Accuracy: 3846/10000 (38.46%)\n"
     ]
    }
   ],
   "source": [
    "%run train_eval_part_m.py --epochs 30 --warm-up 5 --save-freq 2 --batch-size 256"
   ]
  },
  {
   "cell_type": "code",
   "execution_count": 3,
   "id": "e957c31f-5810-447c-a068-74805216d4c3",
   "metadata": {},
   "outputs": [
    {
     "name": "stdout",
     "output_type": "stream",
     "text": [
      "Files already downloaded and verified\n",
      "Files already downloaded and verified\n",
      "warm up starts\n",
      "Train Epoch: 1 [256/50000 (1%)]\tLoss: 2.523439\n",
      "Train Epoch: 1 [25856/50000 (52%)]\tLoss: 2.046277\n",
      "Train Epoch: 2 [256/50000 (1%)]\tLoss: 1.867111\n",
      "Train Epoch: 2 [25856/50000 (52%)]\tLoss: 1.760396\n",
      "save the model\n",
      "================================================================\n",
      "Train Epoch: 3 [256/50000 (1%)]\tLoss: 1.838345\n",
      "Train Epoch: 3 [25856/50000 (52%)]\tLoss: 1.780060\n",
      "Train Epoch: 4 [256/50000 (1%)]\tLoss: 1.743820\n",
      "Train Epoch: 4 [25856/50000 (52%)]\tLoss: 1.657753\n",
      "save the model\n",
      "================================================================\n",
      "Train Epoch: 5 [256/50000 (1%)]\tLoss: 1.684193\n",
      "Train Epoch: 5 [25856/50000 (52%)]\tLoss: 1.604906\n",
      "warm up ends\n",
      "Train Epoch: 1 [256/50000 (0.51%)]\tLoss: 1.582757\n",
      "Train Epoch: 1 [25856/50000 (51.53%)]\tLoss: 1.582166\n",
      "================================================================\n",
      "Train Epoch: 2 [256/50000 (0.51%)]\tLoss: 1.563769\n",
      "Train Epoch: 2 [25856/50000 (51.53%)]\tLoss: 1.609471\n",
      "================================================================\n",
      "Train Epoch: 3 [256/50000 (0.51%)]\tLoss: 1.531514\n",
      "Train Epoch: 3 [25856/50000 (51.53%)]\tLoss: 1.509742\n",
      "================================================================\n",
      "Train Epoch: 4 [256/50000 (0.51%)]\tLoss: 1.531511\n",
      "Train Epoch: 4 [25856/50000 (51.53%)]\tLoss: 1.481844\n",
      "================================================================\n",
      "Train Epoch: 5 [256/50000 (0.51%)]\tLoss: 1.554954\n",
      "Train Epoch: 5 [25856/50000 (51.53%)]\tLoss: 1.472636\n",
      "================================================================\n",
      "Train Epoch: 6 [256/50000 (0.51%)]\tLoss: 1.508950\n",
      "Train Epoch: 6 [25856/50000 (51.53%)]\tLoss: 1.479465\n",
      "================================================================\n",
      "Train Epoch: 7 [256/50000 (0.51%)]\tLoss: 1.439177\n",
      "Train Epoch: 7 [25856/50000 (51.53%)]\tLoss: 1.421347\n",
      "================================================================\n",
      "Train Epoch: 8 [256/50000 (0.51%)]\tLoss: 1.424249\n",
      "Train Epoch: 8 [25856/50000 (51.53%)]\tLoss: 1.410422\n",
      "================================================================\n",
      "Train Epoch: 9 [256/50000 (0.51%)]\tLoss: 1.435549\n",
      "Train Epoch: 9 [25856/50000 (51.53%)]\tLoss: 1.515700\n",
      "================================================================\n",
      "Train Epoch: 10 [256/50000 (0.51%)]\tLoss: 1.508880\n",
      "Train Epoch: 10 [25856/50000 (51.53%)]\tLoss: 1.404009\n",
      "================================================================\n",
      "Train Epoch: 11 [256/50000 (0.51%)]\tLoss: 1.427594\n",
      "Train Epoch: 11 [25856/50000 (51.53%)]\tLoss: 1.371175\n",
      "================================================================\n",
      "Train Epoch: 12 [256/50000 (0.51%)]\tLoss: 1.415726\n",
      "Train Epoch: 12 [25856/50000 (51.53%)]\tLoss: 1.371204\n",
      "================================================================\n",
      "Train Epoch: 13 [256/50000 (0.51%)]\tLoss: 1.395832\n",
      "Train Epoch: 13 [25856/50000 (51.53%)]\tLoss: 1.369124\n",
      "================================================================\n",
      "Train Epoch: 14 [256/50000 (0.51%)]\tLoss: 1.334750\n",
      "Train Epoch: 14 [25856/50000 (51.53%)]\tLoss: 1.367264\n",
      "================================================================\n",
      "Train Epoch: 15 [256/50000 (0.51%)]\tLoss: 1.360536\n",
      "Train Epoch: 15 [25856/50000 (51.53%)]\tLoss: 1.362639\n",
      "================================================================\n",
      "Train Epoch: 16 [256/50000 (0.51%)]\tLoss: 1.383677\n",
      "Train Epoch: 16 [25856/50000 (51.53%)]\tLoss: 1.302735\n",
      "================================================================\n",
      "Train Epoch: 17 [256/50000 (0.51%)]\tLoss: 1.320343\n",
      "Train Epoch: 17 [25856/50000 (51.53%)]\tLoss: 1.331351\n",
      "================================================================\n",
      "Train Epoch: 18 [256/50000 (0.51%)]\tLoss: 1.408806\n",
      "Train Epoch: 18 [25856/50000 (51.53%)]\tLoss: 1.313733\n",
      "================================================================\n",
      "Train Epoch: 19 [256/50000 (0.51%)]\tLoss: 1.345732\n",
      "Train Epoch: 19 [25856/50000 (51.53%)]\tLoss: 1.302546\n",
      "================================================================\n",
      "Train Epoch: 20 [256/50000 (0.51%)]\tLoss: 1.315197\n",
      "Train Epoch: 20 [25856/50000 (51.53%)]\tLoss: 1.358433\n",
      "================================================================\n",
      "Train Epoch: 21 [256/50000 (0.51%)]\tLoss: 1.329907\n",
      "Train Epoch: 21 [25856/50000 (51.53%)]\tLoss: 1.280862\n",
      "================================================================\n",
      "Train Epoch: 22 [256/50000 (0.51%)]\tLoss: 1.296777\n",
      "Train Epoch: 22 [25856/50000 (51.53%)]\tLoss: 1.331705\n",
      "================================================================\n",
      "Train Epoch: 23 [256/50000 (0.51%)]\tLoss: 1.407225\n",
      "Train Epoch: 23 [25856/50000 (51.53%)]\tLoss: 1.306392\n",
      "================================================================\n",
      "Train Epoch: 24 [256/50000 (0.51%)]\tLoss: 1.252326\n",
      "Train Epoch: 24 [25856/50000 (51.53%)]\tLoss: 1.275164\n",
      "================================================================\n",
      "Train Epoch: 25 [256/50000 (0.51%)]\tLoss: 1.329202\n",
      "Train Epoch: 25 [25856/50000 (51.53%)]\tLoss: 1.300115\n",
      "================================================================\n",
      "PGD=============================================================\n",
      "Test: Accuracy: 6975/10000 (69.75%), Robust Accuracy: 4136/10000 (41.36%)\n",
      "MMA==============================================================\n",
      "Test: Accuracy: 6975/10000 (69.75%), Robust Accuracy: 3738/10000 (37.38%)\n"
     ]
    }
   ],
   "source": [
    "%run  train_eval_part_t.py --epochs 30 --warm-up 5 --save-freq 2 --batch-size 256\n"
   ]
  },
  {
   "cell_type": "code",
   "execution_count": 1,
   "id": "1bb49d77-d5a7-4b83-a1e5-6b66f1c06a49",
   "metadata": {},
   "outputs": [
    {
     "name": "stderr",
     "output_type": "stream",
     "text": [
      "C:\\Users\\pc\\anaconda3\\envs\\clean_env\\lib\\site-packages\\tqdm\\auto.py:21: TqdmWarning: IProgress not found. Please update jupyter and ipywidgets. See https://ipywidgets.readthedocs.io/en/stable/user_install.html\n",
      "  from .autonotebook import tqdm as notebook_tqdm\n",
      "2025-04-21 23:26:39,232 - INFO - Starting Pixel-reweighted Adversarial Training with Ensemble CAM...\n",
      "2025-04-21 23:26:39,234 - INFO - Arguments parsed successfully\n",
      "2025-04-21 23:26:39,235 - INFO - Setting up with seed 1\n",
      "2025-04-21 23:26:39,237 - INFO - Random seed 1 set successfully\n",
      "2025-04-21 23:26:39,258 - INFO - Using device: cuda\n",
      "2025-04-21 23:26:39,259 - INFO - CUDA devices set to 0,1,2,3\n",
      "2025-04-21 23:26:39,259 - INFO - Loading CIFAR10 dataset...\n"
     ]
    },
    {
     "name": "stdout",
     "output_type": "stream",
     "text": [
      "Logging configured. Log file: logs/training_20250421_232639.log\n",
      "Starting Pixel-reweighted Adversarial Training with Ensemble CAM...\n",
      "Arguments parsed successfully\n",
      "Setting up with seed 1\n",
      "Random seed 1 set successfully\n",
      "Using device: cuda\n",
      "CUDA devices set to 0,1,2,3\n",
      "Loading CIFAR10 dataset...\n",
      "Files already downloaded and verified\n",
      "Files already downloaded and verified\n"
     ]
    },
    {
     "name": "stderr",
     "output_type": "stream",
     "text": [
      "2025-04-21 23:26:40,461 - INFO - CIFAR10 dataset loaded successfully\n",
      "2025-04-21 23:26:40,569 - INFO - ResNet18 model initialized for CIFAR10\n",
      "2025-04-21 23:26:40,569 - INFO - Using existing model directory: ./checkpoint/CIFAR10/ResNet_18/PART_Ensemble\n",
      "2025-04-21 23:26:40,570 - INFO - Model parallelized across multiple GPUs\n",
      "2025-04-21 23:26:40,571 - INFO - cudnn.benchmark enabled\n",
      "2025-04-21 23:26:40,571 - INFO - Optimizer configured with lr=0.01, momentum=0.9, weight_decay=0.0002\n",
      "2025-04-21 23:26:40,572 - INFO - Starting warm-up training for 5 epochs\n",
      "2025-04-21 23:26:40,572 - INFO - Warm-up Epoch 1/5 started\n",
      "2025-04-21 23:26:40,573 - INFO - Starting standard training for warm-up epoch 1\n"
     ]
    },
    {
     "name": "stdout",
     "output_type": "stream",
     "text": [
      "CIFAR10 dataset loaded successfully\n",
      "ResNet18 model initialized for CIFAR10\n",
      "Using existing model directory: ./checkpoint/CIFAR10/ResNet_18/PART_Ensemble\n",
      "Model parallelized across multiple GPUs\n",
      "cudnn.benchmark enabled\n",
      "Optimizer configured with lr=0.01, momentum=0.9, weight_decay=0.0002\n",
      "Starting warm-up training for 5 epochs\n",
      "Warm-up Epoch 1/5 started\n",
      "Starting standard training for warm-up epoch 1\n"
     ]
    },
    {
     "name": "stderr",
     "output_type": "stream",
     "text": [
      "2025-04-21 23:26:43,940 - INFO - Warm-up Epoch: 1 [256/50000 (0.51%)]\tLoss: 2.495692 Avg Loss: 2.495692 Accuracy: 8.59%\n"
     ]
    },
    {
     "name": "stdout",
     "output_type": "stream",
     "text": [
      "Warm-up Epoch: 1 [256/50000 (0.51%)]\tLoss: 2.495692 Avg Loss: 2.495692 Accuracy: 8.59%\n"
     ]
    },
    {
     "name": "stderr",
     "output_type": "stream",
     "text": [
      "2025-04-21 23:26:59,354 - INFO - Warm-up Epoch: 1 [25856/50000 (51.53%)]\tLoss: 1.486735 Avg Loss: 1.675105 Accuracy: 37.76%\n"
     ]
    },
    {
     "name": "stdout",
     "output_type": "stream",
     "text": [
      "Warm-up Epoch: 1 [25856/50000 (51.53%)]\tLoss: 1.486735 Avg Loss: 1.675105 Accuracy: 37.76%\n"
     ]
    },
    {
     "name": "stderr",
     "output_type": "stream",
     "text": [
      "2025-04-21 23:27:14,748 - INFO - Warm-up Epoch 1 completed: Average Loss: 1.479866, Accuracy: 45.42%\n",
      "2025-04-21 23:27:14,750 - INFO - Warm-up Epoch 1 stats - Loss: 1.479866, Accuracy: 45.42%\n",
      "2025-04-21 23:27:14,751 - INFO - Warm-up Epoch 2/5 started\n",
      "2025-04-21 23:27:14,751 - INFO - Starting standard training for warm-up epoch 2\n",
      "2025-04-21 23:27:14,906 - INFO - Warm-up Epoch: 2 [256/50000 (0.51%)]\tLoss: 1.195816 Avg Loss: 1.195816 Accuracy: 53.91%\n"
     ]
    },
    {
     "name": "stdout",
     "output_type": "stream",
     "text": [
      "Warm-up Epoch 1 completed: Average Loss: 1.479866, Accuracy: 45.42%\n",
      "Warm-up Epoch 1 stats - Loss: 1.479866, Accuracy: 45.42%\n",
      "Warm-up Epoch 2/5 started\n",
      "Starting standard training for warm-up epoch 2\n",
      "Warm-up Epoch: 2 [256/50000 (0.51%)]\tLoss: 1.195816 Avg Loss: 1.195816 Accuracy: 53.91%\n"
     ]
    },
    {
     "name": "stderr",
     "output_type": "stream",
     "text": [
      "2025-04-21 23:27:30,146 - INFO - Warm-up Epoch: 2 [25856/50000 (51.53%)]\tLoss: 0.943426 Avg Loss: 1.068385 Accuracy: 61.48%\n"
     ]
    },
    {
     "name": "stdout",
     "output_type": "stream",
     "text": [
      "Warm-up Epoch: 2 [25856/50000 (51.53%)]\tLoss: 0.943426 Avg Loss: 1.068385 Accuracy: 61.48%\n"
     ]
    },
    {
     "name": "stderr",
     "output_type": "stream",
     "text": [
      "2025-04-21 23:27:44,814 - INFO - Warm-up Epoch 2 completed: Average Loss: 1.000637, Accuracy: 64.10%\n",
      "2025-04-21 23:27:44,815 - INFO - Warm-up Epoch 2 stats - Loss: 1.000637, Accuracy: 64.10%\n",
      "2025-04-21 23:27:44,892 - INFO - Saved model checkpoint to ./checkpoint/CIFAR10/ResNet_18/PART_Ensemble\\pre_part_epoch2.pth\n",
      "2025-04-21 23:27:44,892 - INFO - ================================================================\n",
      "2025-04-21 23:27:44,893 - INFO - Warm-up Epoch 3/5 started\n",
      "2025-04-21 23:27:44,894 - INFO - Starting standard training for warm-up epoch 3\n"
     ]
    },
    {
     "name": "stdout",
     "output_type": "stream",
     "text": [
      "Warm-up Epoch 2 completed: Average Loss: 1.000637, Accuracy: 64.10%\n",
      "Warm-up Epoch 2 stats - Loss: 1.000637, Accuracy: 64.10%\n",
      "Saved model checkpoint to ./checkpoint/CIFAR10/ResNet_18/PART_Ensemble\\pre_part_epoch2.pth\n",
      "================================================================\n",
      "Warm-up Epoch 3/5 started\n",
      "Starting standard training for warm-up epoch 3\n"
     ]
    },
    {
     "name": "stderr",
     "output_type": "stream",
     "text": [
      "2025-04-21 23:27:45,057 - INFO - Warm-up Epoch: 3 [256/50000 (0.51%)]\tLoss: 0.935648 Avg Loss: 0.935648 Accuracy: 67.97%\n"
     ]
    },
    {
     "name": "stdout",
     "output_type": "stream",
     "text": [
      "Warm-up Epoch: 3 [256/50000 (0.51%)]\tLoss: 0.935648 Avg Loss: 0.935648 Accuracy: 67.97%\n"
     ]
    },
    {
     "name": "stderr",
     "output_type": "stream",
     "text": [
      "2025-04-21 23:28:00,269 - INFO - Warm-up Epoch: 3 [25856/50000 (51.53%)]\tLoss: 0.698474 Avg Loss: 0.794065 Accuracy: 72.05%\n"
     ]
    },
    {
     "name": "stdout",
     "output_type": "stream",
     "text": [
      "Warm-up Epoch: 3 [25856/50000 (51.53%)]\tLoss: 0.698474 Avg Loss: 0.794065 Accuracy: 72.05%\n"
     ]
    },
    {
     "name": "stderr",
     "output_type": "stream",
     "text": [
      "2025-04-21 23:28:14,486 - INFO - Warm-up Epoch 3 completed: Average Loss: 0.762717, Accuracy: 73.25%\n",
      "2025-04-21 23:28:14,486 - INFO - Warm-up Epoch 3 stats - Loss: 0.762717, Accuracy: 73.25%\n",
      "2025-04-21 23:28:14,486 - INFO - Warm-up Epoch 4/5 started\n",
      "2025-04-21 23:28:14,499 - INFO - Starting standard training for warm-up epoch 4\n",
      "2025-04-21 23:28:14,656 - INFO - Warm-up Epoch: 4 [256/50000 (0.51%)]\tLoss: 0.746308 Avg Loss: 0.746308 Accuracy: 71.09%\n"
     ]
    },
    {
     "name": "stdout",
     "output_type": "stream",
     "text": [
      "Warm-up Epoch 3 completed: Average Loss: 0.762717, Accuracy: 73.25%\n",
      "Warm-up Epoch 3 stats - Loss: 0.762717, Accuracy: 73.25%\n",
      "Warm-up Epoch 4/5 started\n",
      "Starting standard training for warm-up epoch 4\n",
      "Warm-up Epoch: 4 [256/50000 (0.51%)]\tLoss: 0.746308 Avg Loss: 0.746308 Accuracy: 71.09%\n"
     ]
    },
    {
     "name": "stderr",
     "output_type": "stream",
     "text": [
      "2025-04-21 23:28:29,698 - INFO - Warm-up Epoch: 4 [25856/50000 (51.53%)]\tLoss: 0.650705 Avg Loss: 0.664282 Accuracy: 76.90%\n"
     ]
    },
    {
     "name": "stdout",
     "output_type": "stream",
     "text": [
      "Warm-up Epoch: 4 [25856/50000 (51.53%)]\tLoss: 0.650705 Avg Loss: 0.664282 Accuracy: 76.90%\n"
     ]
    },
    {
     "name": "stderr",
     "output_type": "stream",
     "text": [
      "2025-04-21 23:28:43,899 - INFO - Warm-up Epoch 4 completed: Average Loss: 0.636123, Accuracy: 77.90%\n",
      "2025-04-21 23:28:43,899 - INFO - Warm-up Epoch 4 stats - Loss: 0.636123, Accuracy: 77.90%\n",
      "2025-04-21 23:28:43,943 - INFO - Saved model checkpoint to ./checkpoint/CIFAR10/ResNet_18/PART_Ensemble\\pre_part_epoch4.pth\n",
      "2025-04-21 23:28:43,944 - INFO - ================================================================\n",
      "2025-04-21 23:28:43,944 - INFO - Warm-up Epoch 5/5 started\n",
      "2025-04-21 23:28:43,945 - INFO - Starting standard training for warm-up epoch 5\n"
     ]
    },
    {
     "name": "stdout",
     "output_type": "stream",
     "text": [
      "Warm-up Epoch 4 completed: Average Loss: 0.636123, Accuracy: 77.90%\n",
      "Warm-up Epoch 4 stats - Loss: 0.636123, Accuracy: 77.90%\n",
      "Saved model checkpoint to ./checkpoint/CIFAR10/ResNet_18/PART_Ensemble\\pre_part_epoch4.pth\n",
      "================================================================\n",
      "Warm-up Epoch 5/5 started\n",
      "Starting standard training for warm-up epoch 5\n"
     ]
    },
    {
     "name": "stderr",
     "output_type": "stream",
     "text": [
      "2025-04-21 23:28:44,100 - INFO - Warm-up Epoch: 5 [256/50000 (0.51%)]\tLoss: 0.496131 Avg Loss: 0.496131 Accuracy: 81.64%\n"
     ]
    },
    {
     "name": "stdout",
     "output_type": "stream",
     "text": [
      "Warm-up Epoch: 5 [256/50000 (0.51%)]\tLoss: 0.496131 Avg Loss: 0.496131 Accuracy: 81.64%\n"
     ]
    },
    {
     "name": "stderr",
     "output_type": "stream",
     "text": [
      "2025-04-21 23:28:59,169 - INFO - Warm-up Epoch: 5 [25856/50000 (51.53%)]\tLoss: 0.681411 Avg Loss: 0.565204 Accuracy: 80.33%\n"
     ]
    },
    {
     "name": "stdout",
     "output_type": "stream",
     "text": [
      "Warm-up Epoch: 5 [25856/50000 (51.53%)]\tLoss: 0.681411 Avg Loss: 0.565204 Accuracy: 80.33%\n"
     ]
    },
    {
     "name": "stderr",
     "output_type": "stream",
     "text": [
      "2025-04-21 23:29:13,396 - INFO - Warm-up Epoch 5 completed: Average Loss: 0.546589, Accuracy: 80.96%\n",
      "2025-04-21 23:29:13,396 - INFO - Warm-up Epoch 5 stats - Loss: 0.546589, Accuracy: 80.96%\n",
      "2025-04-21 23:29:13,396 - INFO - Warm-up training completed successfully\n",
      "2025-04-21 23:29:13,396 - INFO - Initializing CAM Ensemble...\n",
      "2025-04-21 23:29:13,400 - INFO - CAM Ensemble initialized successfully\n",
      "2025-04-21 23:29:13,401 - INFO - Starting adversarial training with Ensemble CAM for 25 epochs\n",
      "2025-04-21 23:29:13,401 - INFO - Adversarial Training Epoch 1/25\n",
      "2025-04-21 23:29:13,401 - INFO - Adjusting learning rate for epoch 1\n",
      "2025-04-21 23:29:13,401 - INFO - Learning rate adjusted to 0.01\n",
      "2025-04-21 23:29:13,401 - INFO - Starting adversarial training for epoch 1 with Ensemble CAM\n"
     ]
    },
    {
     "name": "stdout",
     "output_type": "stream",
     "text": [
      "Warm-up Epoch 5 completed: Average Loss: 0.546589, Accuracy: 80.96%\n",
      "Warm-up Epoch 5 stats - Loss: 0.546589, Accuracy: 80.96%\n",
      "Warm-up training completed successfully\n",
      "Initializing CAM Ensemble...\n",
      "CAM Ensemble initialized successfully\n",
      "Starting adversarial training with Ensemble CAM for 25 epochs\n",
      "Adversarial Training Epoch 1/25\n",
      "Adjusting learning rate for epoch 1\n",
      "Learning rate adjusted to 0.01\n",
      "Starting adversarial training for epoch 1 with Ensemble CAM\n"
     ]
    },
    {
     "name": "stderr",
     "output_type": "stream",
     "text": [
      "C:\\Users\\pc\\anaconda3\\envs\\clean_env\\lib\\site-packages\\torch\\nn\\modules\\module.py:1117: UserWarning: Using a non-full backward hook when the forward contains multiple autograd Nodes is deprecated and will be removed in future versions. This hook will be missing some grad_input. Please use register_full_backward_hook to get the documented behavior.\n",
      "  warnings.warn(\"Using a non-full backward hook when the forward contains multiple autograd Nodes \"\n",
      "2025-04-21 23:29:15,801 - INFO - Train Epoch: 1 [0/50000 (0%)]\tLoss: 8.995609 | Avg Loss: 8.995609 | Acc: 0.39%\n"
     ]
    },
    {
     "name": "stdout",
     "output_type": "stream",
     "text": [
      "Train Epoch: 1 [0/50000 (0%)]\tLoss: 8.995609 | Avg Loss: 8.995609 | Acc: 0.39%\n"
     ]
    },
    {
     "name": "stderr",
     "output_type": "stream",
     "text": [
      "2025-04-21 23:33:14,403 - INFO - Train Epoch: 1 [25600/50000 (51%)]\tLoss: 1.949413 | Avg Loss: 2.118755 | Acc: 25.97%\n"
     ]
    },
    {
     "name": "stdout",
     "output_type": "stream",
     "text": [
      "Train Epoch: 1 [25600/50000 (51%)]\tLoss: 1.949413 | Avg Loss: 2.118755 | Acc: 25.97%\n"
     ]
    },
    {
     "name": "stderr",
     "output_type": "stream",
     "text": [
      "2025-04-21 23:36:59,347 - INFO - Epoch 1 Complete: Avg Loss 2.0004 | Acc 27.40%\n",
      "2025-04-21 23:36:59,347 - INFO - Adversarial Training Epoch 1 stats - Loss: 2.000400, Accuracy: 27.40%\n",
      "2025-04-21 23:36:59,347 - INFO - ================================================================\n",
      "2025-04-21 23:36:59,359 - INFO - Adversarial Training Epoch 2/25\n",
      "2025-04-21 23:36:59,359 - INFO - Adjusting learning rate for epoch 2\n",
      "2025-04-21 23:36:59,362 - INFO - Learning rate adjusted to 0.01\n",
      "2025-04-21 23:36:59,362 - INFO - Starting adversarial training for epoch 2 with Ensemble CAM\n"
     ]
    },
    {
     "name": "stdout",
     "output_type": "stream",
     "text": [
      "Epoch 1 Complete: Avg Loss 2.0004 | Acc 27.40%\n",
      "Adversarial Training Epoch 1 stats - Loss: 2.000400, Accuracy: 27.40%\n",
      "================================================================\n",
      "Adversarial Training Epoch 2/25\n",
      "Adjusting learning rate for epoch 2\n",
      "Learning rate adjusted to 0.01\n",
      "Starting adversarial training for epoch 2 with Ensemble CAM\n"
     ]
    },
    {
     "name": "stderr",
     "output_type": "stream",
     "text": [
      "2025-04-21 23:37:01,758 - INFO - Train Epoch: 2 [0/50000 (0%)]\tLoss: 1.839110 | Avg Loss: 1.839110 | Acc: 28.91%\n"
     ]
    },
    {
     "name": "stdout",
     "output_type": "stream",
     "text": [
      "Train Epoch: 2 [0/50000 (0%)]\tLoss: 1.839110 | Avg Loss: 1.839110 | Acc: 28.91%\n"
     ]
    },
    {
     "name": "stderr",
     "output_type": "stream",
     "text": [
      "2025-04-21 23:41:00,216 - INFO - Train Epoch: 2 [25600/50000 (51%)]\tLoss: 1.770684 | Avg Loss: 1.802038 | Acc: 31.23%\n"
     ]
    },
    {
     "name": "stdout",
     "output_type": "stream",
     "text": [
      "Train Epoch: 2 [25600/50000 (51%)]\tLoss: 1.770684 | Avg Loss: 1.802038 | Acc: 31.23%\n"
     ]
    },
    {
     "name": "stderr",
     "output_type": "stream",
     "text": [
      "2025-04-21 23:44:45,083 - INFO - Epoch 2 Complete: Avg Loss 1.7847 | Acc 31.88%\n",
      "2025-04-21 23:44:45,083 - INFO - Adversarial Training Epoch 2 stats - Loss: 1.784738, Accuracy: 31.88%\n",
      "2025-04-21 23:44:45,163 - INFO - Saved model checkpoint to ./checkpoint/CIFAR10/ResNet_18/PART_Ensemble\\part_ensemble_epoch2.pth\n",
      "2025-04-21 23:44:45,165 - INFO - ================================================================\n",
      "2025-04-21 23:44:45,165 - INFO - Adversarial Training Epoch 3/25\n",
      "2025-04-21 23:44:45,165 - INFO - Adjusting learning rate for epoch 3\n",
      "2025-04-21 23:44:45,165 - INFO - Learning rate adjusted to 0.01\n",
      "2025-04-21 23:44:45,167 - INFO - Starting adversarial training for epoch 3 with Ensemble CAM\n"
     ]
    },
    {
     "name": "stdout",
     "output_type": "stream",
     "text": [
      "Epoch 2 Complete: Avg Loss 1.7847 | Acc 31.88%\n",
      "Adversarial Training Epoch 2 stats - Loss: 1.784738, Accuracy: 31.88%\n",
      "Saved model checkpoint to ./checkpoint/CIFAR10/ResNet_18/PART_Ensemble\\part_ensemble_epoch2.pth\n",
      "================================================================\n",
      "Adversarial Training Epoch 3/25\n",
      "Adjusting learning rate for epoch 3\n",
      "Learning rate adjusted to 0.01\n",
      "Starting adversarial training for epoch 3 with Ensemble CAM\n"
     ]
    },
    {
     "name": "stderr",
     "output_type": "stream",
     "text": [
      "2025-04-21 23:44:47,551 - INFO - Train Epoch: 3 [0/50000 (0%)]\tLoss: 1.612411 | Avg Loss: 1.612411 | Acc: 39.84%\n"
     ]
    },
    {
     "name": "stdout",
     "output_type": "stream",
     "text": [
      "Train Epoch: 3 [0/50000 (0%)]\tLoss: 1.612411 | Avg Loss: 1.612411 | Acc: 39.84%\n"
     ]
    },
    {
     "name": "stderr",
     "output_type": "stream",
     "text": [
      "2025-04-21 23:48:45,972 - INFO - Train Epoch: 3 [25600/50000 (51%)]\tLoss: 1.714235 | Avg Loss: 1.730927 | Acc: 34.00%\n"
     ]
    },
    {
     "name": "stdout",
     "output_type": "stream",
     "text": [
      "Train Epoch: 3 [25600/50000 (51%)]\tLoss: 1.714235 | Avg Loss: 1.730927 | Acc: 34.00%\n"
     ]
    },
    {
     "name": "stderr",
     "output_type": "stream",
     "text": [
      "2025-04-21 23:52:30,912 - INFO - Epoch 3 Complete: Avg Loss 1.7273 | Acc 34.09%\n",
      "2025-04-21 23:52:30,912 - INFO - Adversarial Training Epoch 3 stats - Loss: 1.727278, Accuracy: 34.09%\n",
      "2025-04-21 23:52:30,912 - INFO - ================================================================\n",
      "2025-04-21 23:52:30,917 - INFO - Adversarial Training Epoch 4/25\n",
      "2025-04-21 23:52:30,917 - INFO - Adjusting learning rate for epoch 4\n",
      "2025-04-21 23:52:30,917 - INFO - Learning rate adjusted to 0.01\n",
      "2025-04-21 23:52:30,917 - INFO - Starting adversarial training for epoch 4 with Ensemble CAM\n"
     ]
    },
    {
     "name": "stdout",
     "output_type": "stream",
     "text": [
      "Epoch 3 Complete: Avg Loss 1.7273 | Acc 34.09%\n",
      "Adversarial Training Epoch 3 stats - Loss: 1.727278, Accuracy: 34.09%\n",
      "================================================================\n",
      "Adversarial Training Epoch 4/25\n",
      "Adjusting learning rate for epoch 4\n",
      "Learning rate adjusted to 0.01\n",
      "Starting adversarial training for epoch 4 with Ensemble CAM\n"
     ]
    },
    {
     "name": "stderr",
     "output_type": "stream",
     "text": [
      "2025-04-21 23:52:33,308 - INFO - Train Epoch: 4 [0/50000 (0%)]\tLoss: 1.736556 | Avg Loss: 1.736556 | Acc: 34.38%\n"
     ]
    },
    {
     "name": "stdout",
     "output_type": "stream",
     "text": [
      "Train Epoch: 4 [0/50000 (0%)]\tLoss: 1.736556 | Avg Loss: 1.736556 | Acc: 34.38%\n"
     ]
    },
    {
     "name": "stderr",
     "output_type": "stream",
     "text": [
      "2025-04-21 23:56:31,710 - INFO - Train Epoch: 4 [25600/50000 (51%)]\tLoss: 1.662349 | Avg Loss: 1.682630 | Acc: 35.88%\n"
     ]
    },
    {
     "name": "stdout",
     "output_type": "stream",
     "text": [
      "Train Epoch: 4 [25600/50000 (51%)]\tLoss: 1.662349 | Avg Loss: 1.682630 | Acc: 35.88%\n"
     ]
    },
    {
     "name": "stderr",
     "output_type": "stream",
     "text": [
      "2025-04-22 00:00:16,618 - INFO - Epoch 4 Complete: Avg Loss 1.6872 | Acc 35.53%\n",
      "2025-04-22 00:00:16,618 - INFO - Adversarial Training Epoch 4 stats - Loss: 1.687230, Accuracy: 35.53%\n",
      "2025-04-22 00:00:16,701 - INFO - Saved model checkpoint to ./checkpoint/CIFAR10/ResNet_18/PART_Ensemble\\part_ensemble_epoch4.pth\n",
      "2025-04-22 00:00:16,702 - INFO - ================================================================\n",
      "2025-04-22 00:00:16,702 - INFO - Adversarial Training Epoch 5/25\n",
      "2025-04-22 00:00:16,703 - INFO - Adjusting learning rate for epoch 5\n",
      "2025-04-22 00:00:16,703 - INFO - Learning rate adjusted to 0.01\n",
      "2025-04-22 00:00:16,704 - INFO - Starting adversarial training for epoch 5 with Ensemble CAM\n"
     ]
    },
    {
     "name": "stdout",
     "output_type": "stream",
     "text": [
      "Epoch 4 Complete: Avg Loss 1.6872 | Acc 35.53%\n",
      "Adversarial Training Epoch 4 stats - Loss: 1.687230, Accuracy: 35.53%\n",
      "Saved model checkpoint to ./checkpoint/CIFAR10/ResNet_18/PART_Ensemble\\part_ensemble_epoch4.pth\n",
      "================================================================\n",
      "Adversarial Training Epoch 5/25\n",
      "Adjusting learning rate for epoch 5\n",
      "Learning rate adjusted to 0.01\n",
      "Starting adversarial training for epoch 5 with Ensemble CAM\n"
     ]
    },
    {
     "name": "stderr",
     "output_type": "stream",
     "text": [
      "2025-04-22 00:00:19,088 - INFO - Train Epoch: 5 [0/50000 (0%)]\tLoss: 1.702608 | Avg Loss: 1.702608 | Acc: 36.72%\n"
     ]
    },
    {
     "name": "stdout",
     "output_type": "stream",
     "text": [
      "Train Epoch: 5 [0/50000 (0%)]\tLoss: 1.702608 | Avg Loss: 1.702608 | Acc: 36.72%\n"
     ]
    },
    {
     "name": "stderr",
     "output_type": "stream",
     "text": [
      "2025-04-22 00:04:17,513 - INFO - Train Epoch: 5 [25600/50000 (51%)]\tLoss: 1.580286 | Avg Loss: 1.663031 | Acc: 36.19%\n"
     ]
    },
    {
     "name": "stdout",
     "output_type": "stream",
     "text": [
      "Train Epoch: 5 [25600/50000 (51%)]\tLoss: 1.580286 | Avg Loss: 1.663031 | Acc: 36.19%\n"
     ]
    },
    {
     "name": "stderr",
     "output_type": "stream",
     "text": [
      "2025-04-22 00:08:02,381 - INFO - Epoch 5 Complete: Avg Loss 1.6607 | Acc 36.35%\n",
      "2025-04-22 00:08:02,381 - INFO - Adversarial Training Epoch 5 stats - Loss: 1.660652, Accuracy: 36.35%\n",
      "2025-04-22 00:08:02,381 - INFO - ================================================================\n",
      "2025-04-22 00:08:02,381 - INFO - Adversarial Training Epoch 6/25\n",
      "2025-04-22 00:08:02,391 - INFO - Adjusting learning rate for epoch 6\n",
      "2025-04-22 00:08:02,391 - INFO - Learning rate adjusted to 0.01\n",
      "2025-04-22 00:08:02,392 - INFO - Starting adversarial training for epoch 6 with Ensemble CAM\n"
     ]
    },
    {
     "name": "stdout",
     "output_type": "stream",
     "text": [
      "Epoch 5 Complete: Avg Loss 1.6607 | Acc 36.35%\n",
      "Adversarial Training Epoch 5 stats - Loss: 1.660652, Accuracy: 36.35%\n",
      "================================================================\n",
      "Adversarial Training Epoch 6/25\n",
      "Adjusting learning rate for epoch 6\n",
      "Learning rate adjusted to 0.01\n",
      "Starting adversarial training for epoch 6 with Ensemble CAM\n"
     ]
    },
    {
     "name": "stderr",
     "output_type": "stream",
     "text": [
      "2025-04-22 00:08:04,763 - INFO - Train Epoch: 6 [0/50000 (0%)]\tLoss: 1.725608 | Avg Loss: 1.725608 | Acc: 34.77%\n"
     ]
    },
    {
     "name": "stdout",
     "output_type": "stream",
     "text": [
      "Train Epoch: 6 [0/50000 (0%)]\tLoss: 1.725608 | Avg Loss: 1.725608 | Acc: 34.77%\n"
     ]
    },
    {
     "name": "stderr",
     "output_type": "stream",
     "text": [
      "2025-04-22 00:12:03,185 - INFO - Train Epoch: 6 [25600/50000 (51%)]\tLoss: 1.689200 | Avg Loss: 1.619308 | Acc: 38.03%\n"
     ]
    },
    {
     "name": "stdout",
     "output_type": "stream",
     "text": [
      "Train Epoch: 6 [25600/50000 (51%)]\tLoss: 1.689200 | Avg Loss: 1.619308 | Acc: 38.03%\n"
     ]
    },
    {
     "name": "stderr",
     "output_type": "stream",
     "text": [
      "2025-04-22 00:15:48,089 - INFO - Epoch 6 Complete: Avg Loss 1.6237 | Acc 37.93%\n",
      "2025-04-22 00:15:48,089 - INFO - Adversarial Training Epoch 6 stats - Loss: 1.623659, Accuracy: 37.93%\n",
      "2025-04-22 00:15:48,156 - INFO - Saved model checkpoint to ./checkpoint/CIFAR10/ResNet_18/PART_Ensemble\\part_ensemble_epoch6.pth\n",
      "2025-04-22 00:15:48,156 - INFO - ================================================================\n",
      "2025-04-22 00:15:48,156 - INFO - Adversarial Training Epoch 7/25\n",
      "2025-04-22 00:15:48,169 - INFO - Adjusting learning rate for epoch 7\n",
      "2025-04-22 00:15:48,169 - INFO - Learning rate adjusted to 0.01\n",
      "2025-04-22 00:15:48,169 - INFO - Starting adversarial training for epoch 7 with Ensemble CAM\n"
     ]
    },
    {
     "name": "stdout",
     "output_type": "stream",
     "text": [
      "Epoch 6 Complete: Avg Loss 1.6237 | Acc 37.93%\n",
      "Adversarial Training Epoch 6 stats - Loss: 1.623659, Accuracy: 37.93%\n",
      "Saved model checkpoint to ./checkpoint/CIFAR10/ResNet_18/PART_Ensemble\\part_ensemble_epoch6.pth\n",
      "================================================================\n",
      "Adversarial Training Epoch 7/25\n",
      "Adjusting learning rate for epoch 7\n",
      "Learning rate adjusted to 0.01\n",
      "Starting adversarial training for epoch 7 with Ensemble CAM\n"
     ]
    },
    {
     "name": "stderr",
     "output_type": "stream",
     "text": [
      "2025-04-22 00:15:50,551 - INFO - Train Epoch: 7 [0/50000 (0%)]\tLoss: 1.611981 | Avg Loss: 1.611981 | Acc: 41.02%\n"
     ]
    },
    {
     "name": "stdout",
     "output_type": "stream",
     "text": [
      "Train Epoch: 7 [0/50000 (0%)]\tLoss: 1.611981 | Avg Loss: 1.611981 | Acc: 41.02%\n"
     ]
    },
    {
     "name": "stderr",
     "output_type": "stream",
     "text": [
      "2025-04-22 00:19:48,989 - INFO - Train Epoch: 7 [25600/50000 (51%)]\tLoss: 1.661120 | Avg Loss: 1.603556 | Acc: 38.85%\n"
     ]
    },
    {
     "name": "stdout",
     "output_type": "stream",
     "text": [
      "Train Epoch: 7 [25600/50000 (51%)]\tLoss: 1.661120 | Avg Loss: 1.603556 | Acc: 38.85%\n"
     ]
    },
    {
     "name": "stderr",
     "output_type": "stream",
     "text": [
      "2025-04-22 00:23:33,882 - INFO - Epoch 7 Complete: Avg Loss 1.6035 | Acc 38.77%\n",
      "2025-04-22 00:23:33,882 - INFO - Adversarial Training Epoch 7 stats - Loss: 1.603519, Accuracy: 38.77%\n",
      "2025-04-22 00:23:33,882 - INFO - ================================================================\n",
      "2025-04-22 00:23:33,887 - INFO - Adversarial Training Epoch 8/25\n",
      "2025-04-22 00:23:33,887 - INFO - Adjusting learning rate for epoch 8\n",
      "2025-04-22 00:23:33,887 - INFO - Learning rate adjusted to 0.01\n",
      "2025-04-22 00:23:33,888 - INFO - Starting adversarial training for epoch 8 with Ensemble CAM\n"
     ]
    },
    {
     "name": "stdout",
     "output_type": "stream",
     "text": [
      "Epoch 7 Complete: Avg Loss 1.6035 | Acc 38.77%\n",
      "Adversarial Training Epoch 7 stats - Loss: 1.603519, Accuracy: 38.77%\n",
      "================================================================\n",
      "Adversarial Training Epoch 8/25\n",
      "Adjusting learning rate for epoch 8\n",
      "Learning rate adjusted to 0.01\n",
      "Starting adversarial training for epoch 8 with Ensemble CAM\n"
     ]
    },
    {
     "name": "stderr",
     "output_type": "stream",
     "text": [
      "2025-04-22 00:23:36,273 - INFO - Train Epoch: 8 [0/50000 (0%)]\tLoss: 1.590798 | Avg Loss: 1.590798 | Acc: 39.84%\n"
     ]
    },
    {
     "name": "stdout",
     "output_type": "stream",
     "text": [
      "Train Epoch: 8 [0/50000 (0%)]\tLoss: 1.590798 | Avg Loss: 1.590798 | Acc: 39.84%\n"
     ]
    },
    {
     "name": "stderr",
     "output_type": "stream",
     "text": [
      "2025-04-22 00:27:34,669 - INFO - Train Epoch: 8 [25600/50000 (51%)]\tLoss: 1.634329 | Avg Loss: 1.581542 | Acc: 39.89%\n"
     ]
    },
    {
     "name": "stdout",
     "output_type": "stream",
     "text": [
      "Train Epoch: 8 [25600/50000 (51%)]\tLoss: 1.634329 | Avg Loss: 1.581542 | Acc: 39.89%\n"
     ]
    },
    {
     "name": "stderr",
     "output_type": "stream",
     "text": [
      "2025-04-22 00:31:19,599 - INFO - Epoch 8 Complete: Avg Loss 1.5786 | Acc 39.88%\n",
      "2025-04-22 00:31:19,599 - INFO - Adversarial Training Epoch 8 stats - Loss: 1.578628, Accuracy: 39.88%\n",
      "2025-04-22 00:31:19,649 - INFO - Saved model checkpoint to ./checkpoint/CIFAR10/ResNet_18/PART_Ensemble\\part_ensemble_epoch8.pth\n",
      "2025-04-22 00:31:19,649 - INFO - ================================================================\n",
      "2025-04-22 00:31:19,649 - INFO - Adversarial Training Epoch 9/25\n",
      "2025-04-22 00:31:19,649 - INFO - Adjusting learning rate for epoch 9\n",
      "2025-04-22 00:31:19,649 - INFO - Learning rate adjusted to 0.01\n",
      "2025-04-22 00:31:19,649 - INFO - Starting adversarial training for epoch 9 with Ensemble CAM\n"
     ]
    },
    {
     "name": "stdout",
     "output_type": "stream",
     "text": [
      "Epoch 8 Complete: Avg Loss 1.5786 | Acc 39.88%\n",
      "Adversarial Training Epoch 8 stats - Loss: 1.578628, Accuracy: 39.88%\n",
      "Saved model checkpoint to ./checkpoint/CIFAR10/ResNet_18/PART_Ensemble\\part_ensemble_epoch8.pth\n",
      "================================================================\n",
      "Adversarial Training Epoch 9/25\n",
      "Adjusting learning rate for epoch 9\n",
      "Learning rate adjusted to 0.01\n",
      "Starting adversarial training for epoch 9 with Ensemble CAM\n"
     ]
    },
    {
     "name": "stderr",
     "output_type": "stream",
     "text": [
      "2025-04-22 00:31:22,039 - INFO - Train Epoch: 9 [0/50000 (0%)]\tLoss: 1.478002 | Avg Loss: 1.478002 | Acc: 47.66%\n"
     ]
    },
    {
     "name": "stdout",
     "output_type": "stream",
     "text": [
      "Train Epoch: 9 [0/50000 (0%)]\tLoss: 1.478002 | Avg Loss: 1.478002 | Acc: 47.66%\n"
     ]
    },
    {
     "name": "stderr",
     "output_type": "stream",
     "text": [
      "2025-04-22 00:35:20,488 - INFO - Train Epoch: 9 [25600/50000 (51%)]\tLoss: 1.586878 | Avg Loss: 1.563935 | Acc: 40.15%\n"
     ]
    },
    {
     "name": "stdout",
     "output_type": "stream",
     "text": [
      "Train Epoch: 9 [25600/50000 (51%)]\tLoss: 1.586878 | Avg Loss: 1.563935 | Acc: 40.15%\n"
     ]
    },
    {
     "name": "stderr",
     "output_type": "stream",
     "text": [
      "2025-04-22 00:39:05,377 - INFO - Epoch 9 Complete: Avg Loss 1.5585 | Acc 40.36%\n",
      "2025-04-22 00:39:05,377 - INFO - Adversarial Training Epoch 9 stats - Loss: 1.558472, Accuracy: 40.36%\n",
      "2025-04-22 00:39:05,377 - INFO - ================================================================\n",
      "2025-04-22 00:39:05,387 - INFO - Adversarial Training Epoch 10/25\n",
      "2025-04-22 00:39:05,388 - INFO - Adjusting learning rate for epoch 10\n",
      "2025-04-22 00:39:05,388 - INFO - Learning rate adjusted to 0.01\n",
      "2025-04-22 00:39:05,389 - INFO - Starting adversarial training for epoch 10 with Ensemble CAM\n"
     ]
    },
    {
     "name": "stdout",
     "output_type": "stream",
     "text": [
      "Epoch 9 Complete: Avg Loss 1.5585 | Acc 40.36%\n",
      "Adversarial Training Epoch 9 stats - Loss: 1.558472, Accuracy: 40.36%\n",
      "================================================================\n",
      "Adversarial Training Epoch 10/25\n",
      "Adjusting learning rate for epoch 10\n",
      "Learning rate adjusted to 0.01\n",
      "Starting adversarial training for epoch 10 with Ensemble CAM\n"
     ]
    },
    {
     "name": "stderr",
     "output_type": "stream",
     "text": [
      "2025-04-22 00:39:07,780 - INFO - Train Epoch: 10 [0/50000 (0%)]\tLoss: 1.479321 | Avg Loss: 1.479321 | Acc: 42.58%\n"
     ]
    },
    {
     "name": "stdout",
     "output_type": "stream",
     "text": [
      "Train Epoch: 10 [0/50000 (0%)]\tLoss: 1.479321 | Avg Loss: 1.479321 | Acc: 42.58%\n"
     ]
    },
    {
     "name": "stderr",
     "output_type": "stream",
     "text": [
      "2025-04-22 00:43:06,193 - INFO - Train Epoch: 10 [25600/50000 (51%)]\tLoss: 1.501148 | Avg Loss: 1.544091 | Acc: 41.53%\n"
     ]
    },
    {
     "name": "stdout",
     "output_type": "stream",
     "text": [
      "Train Epoch: 10 [25600/50000 (51%)]\tLoss: 1.501148 | Avg Loss: 1.544091 | Acc: 41.53%\n"
     ]
    },
    {
     "name": "stderr",
     "output_type": "stream",
     "text": [
      "2025-04-22 00:46:51,100 - INFO - Epoch 10 Complete: Avg Loss 1.5414 | Acc 41.30%\n",
      "2025-04-22 00:46:51,101 - INFO - Adversarial Training Epoch 10 stats - Loss: 1.541393, Accuracy: 41.30%\n",
      "2025-04-22 00:46:51,136 - INFO - Saved model checkpoint to ./checkpoint/CIFAR10/ResNet_18/PART_Ensemble\\part_ensemble_epoch10.pth\n",
      "2025-04-22 00:46:51,136 - INFO - ================================================================\n",
      "2025-04-22 00:46:51,136 - INFO - Adversarial Training Epoch 11/25\n",
      "2025-04-22 00:46:51,136 - INFO - Adjusting learning rate for epoch 11\n",
      "2025-04-22 00:46:51,136 - INFO - Learning rate adjusted to 0.01\n",
      "2025-04-22 00:46:51,136 - INFO - Starting adversarial training for epoch 11 with Ensemble CAM\n"
     ]
    },
    {
     "name": "stdout",
     "output_type": "stream",
     "text": [
      "Epoch 10 Complete: Avg Loss 1.5414 | Acc 41.30%\n",
      "Adversarial Training Epoch 10 stats - Loss: 1.541393, Accuracy: 41.30%\n",
      "Saved model checkpoint to ./checkpoint/CIFAR10/ResNet_18/PART_Ensemble\\part_ensemble_epoch10.pth\n",
      "================================================================\n",
      "Adversarial Training Epoch 11/25\n",
      "Adjusting learning rate for epoch 11\n",
      "Learning rate adjusted to 0.01\n",
      "Starting adversarial training for epoch 11 with Ensemble CAM\n"
     ]
    },
    {
     "name": "stderr",
     "output_type": "stream",
     "text": [
      "2025-04-22 00:46:53,527 - INFO - Train Epoch: 11 [0/50000 (0%)]\tLoss: 1.475097 | Avg Loss: 1.475097 | Acc: 46.48%\n"
     ]
    },
    {
     "name": "stdout",
     "output_type": "stream",
     "text": [
      "Train Epoch: 11 [0/50000 (0%)]\tLoss: 1.475097 | Avg Loss: 1.475097 | Acc: 46.48%\n"
     ]
    },
    {
     "name": "stderr",
     "output_type": "stream",
     "text": [
      "2025-04-22 00:50:51,949 - INFO - Train Epoch: 11 [25600/50000 (51%)]\tLoss: 1.522631 | Avg Loss: 1.530678 | Acc: 41.47%\n"
     ]
    },
    {
     "name": "stdout",
     "output_type": "stream",
     "text": [
      "Train Epoch: 11 [25600/50000 (51%)]\tLoss: 1.522631 | Avg Loss: 1.530678 | Acc: 41.47%\n"
     ]
    },
    {
     "name": "stderr",
     "output_type": "stream",
     "text": [
      "2025-04-22 00:54:36,951 - INFO - Epoch 11 Complete: Avg Loss 1.5244 | Acc 41.56%\n",
      "2025-04-22 00:54:36,951 - INFO - Adversarial Training Epoch 11 stats - Loss: 1.524396, Accuracy: 41.56%\n",
      "2025-04-22 00:54:36,951 - INFO - ================================================================\n",
      "2025-04-22 00:54:36,962 - INFO - Adversarial Training Epoch 12/25\n",
      "2025-04-22 00:54:36,962 - INFO - Adjusting learning rate for epoch 12\n",
      "2025-04-22 00:54:36,963 - INFO - Learning rate adjusted to 0.01\n",
      "2025-04-22 00:54:36,963 - INFO - Starting adversarial training for epoch 12 with Ensemble CAM\n"
     ]
    },
    {
     "name": "stdout",
     "output_type": "stream",
     "text": [
      "Epoch 11 Complete: Avg Loss 1.5244 | Acc 41.56%\n",
      "Adversarial Training Epoch 11 stats - Loss: 1.524396, Accuracy: 41.56%\n",
      "================================================================\n",
      "Adversarial Training Epoch 12/25\n",
      "Adjusting learning rate for epoch 12\n",
      "Learning rate adjusted to 0.01\n",
      "Starting adversarial training for epoch 12 with Ensemble CAM\n"
     ]
    },
    {
     "name": "stderr",
     "output_type": "stream",
     "text": [
      "2025-04-22 00:54:39,348 - INFO - Train Epoch: 12 [0/50000 (0%)]\tLoss: 1.461541 | Avg Loss: 1.461541 | Acc: 44.92%\n"
     ]
    },
    {
     "name": "stdout",
     "output_type": "stream",
     "text": [
      "Train Epoch: 12 [0/50000 (0%)]\tLoss: 1.461541 | Avg Loss: 1.461541 | Acc: 44.92%\n"
     ]
    },
    {
     "name": "stderr",
     "output_type": "stream",
     "text": [
      "2025-04-22 00:58:37,835 - INFO - Train Epoch: 12 [25600/50000 (51%)]\tLoss: 1.476749 | Avg Loss: 1.510856 | Acc: 42.42%\n"
     ]
    },
    {
     "name": "stdout",
     "output_type": "stream",
     "text": [
      "Train Epoch: 12 [25600/50000 (51%)]\tLoss: 1.476749 | Avg Loss: 1.510856 | Acc: 42.42%\n"
     ]
    },
    {
     "name": "stderr",
     "output_type": "stream",
     "text": [
      "2025-04-22 01:02:22,799 - INFO - Epoch 12 Complete: Avg Loss 1.5127 | Acc 42.21%\n",
      "2025-04-22 01:02:22,801 - INFO - Adversarial Training Epoch 12 stats - Loss: 1.512665, Accuracy: 42.21%\n",
      "2025-04-22 01:02:22,844 - INFO - Saved model checkpoint to ./checkpoint/CIFAR10/ResNet_18/PART_Ensemble\\part_ensemble_epoch12.pth\n",
      "2025-04-22 01:02:22,844 - INFO - ================================================================\n",
      "2025-04-22 01:02:22,844 - INFO - Adversarial Training Epoch 13/25\n",
      "2025-04-22 01:02:22,844 - INFO - Adjusting learning rate for epoch 13\n",
      "2025-04-22 01:02:22,844 - INFO - Learning rate adjusted to 0.01\n",
      "2025-04-22 01:02:22,844 - INFO - Starting adversarial training for epoch 13 with Ensemble CAM\n"
     ]
    },
    {
     "name": "stdout",
     "output_type": "stream",
     "text": [
      "Epoch 12 Complete: Avg Loss 1.5127 | Acc 42.21%\n",
      "Adversarial Training Epoch 12 stats - Loss: 1.512665, Accuracy: 42.21%\n",
      "Saved model checkpoint to ./checkpoint/CIFAR10/ResNet_18/PART_Ensemble\\part_ensemble_epoch12.pth\n",
      "================================================================\n",
      "Adversarial Training Epoch 13/25\n",
      "Adjusting learning rate for epoch 13\n",
      "Learning rate adjusted to 0.01\n",
      "Starting adversarial training for epoch 13 with Ensemble CAM\n"
     ]
    },
    {
     "name": "stderr",
     "output_type": "stream",
     "text": [
      "2025-04-22 01:02:25,229 - INFO - Train Epoch: 13 [0/50000 (0%)]\tLoss: 1.449486 | Avg Loss: 1.449486 | Acc: 44.92%\n"
     ]
    },
    {
     "name": "stdout",
     "output_type": "stream",
     "text": [
      "Train Epoch: 13 [0/50000 (0%)]\tLoss: 1.449486 | Avg Loss: 1.449486 | Acc: 44.92%\n"
     ]
    },
    {
     "name": "stderr",
     "output_type": "stream",
     "text": [
      "2025-04-22 01:06:23,702 - INFO - Train Epoch: 13 [25600/50000 (51%)]\tLoss: 1.398807 | Avg Loss: 1.481064 | Acc: 43.52%\n"
     ]
    },
    {
     "name": "stdout",
     "output_type": "stream",
     "text": [
      "Train Epoch: 13 [25600/50000 (51%)]\tLoss: 1.398807 | Avg Loss: 1.481064 | Acc: 43.52%\n"
     ]
    },
    {
     "name": "stderr",
     "output_type": "stream",
     "text": [
      "2025-04-22 01:10:08,697 - INFO - Epoch 13 Complete: Avg Loss 1.4918 | Acc 42.93%\n",
      "2025-04-22 01:10:08,697 - INFO - Adversarial Training Epoch 13 stats - Loss: 1.491841, Accuracy: 42.93%\n",
      "2025-04-22 01:10:08,699 - INFO - ================================================================\n",
      "2025-04-22 01:10:08,699 - INFO - Adversarial Training Epoch 14/25\n",
      "2025-04-22 01:10:08,700 - INFO - Adjusting learning rate for epoch 14\n",
      "2025-04-22 01:10:08,700 - INFO - Learning rate adjusted to 0.01\n",
      "2025-04-22 01:10:08,701 - INFO - Starting adversarial training for epoch 14 with Ensemble CAM\n"
     ]
    },
    {
     "name": "stdout",
     "output_type": "stream",
     "text": [
      "Epoch 13 Complete: Avg Loss 1.4918 | Acc 42.93%\n",
      "Adversarial Training Epoch 13 stats - Loss: 1.491841, Accuracy: 42.93%\n",
      "================================================================\n",
      "Adversarial Training Epoch 14/25\n",
      "Adjusting learning rate for epoch 14\n",
      "Learning rate adjusted to 0.01\n",
      "Starting adversarial training for epoch 14 with Ensemble CAM\n"
     ]
    },
    {
     "name": "stderr",
     "output_type": "stream",
     "text": [
      "2025-04-22 01:10:11,074 - INFO - Train Epoch: 14 [0/50000 (0%)]\tLoss: 1.470551 | Avg Loss: 1.470551 | Acc: 39.45%\n"
     ]
    },
    {
     "name": "stdout",
     "output_type": "stream",
     "text": [
      "Train Epoch: 14 [0/50000 (0%)]\tLoss: 1.470551 | Avg Loss: 1.470551 | Acc: 39.45%\n"
     ]
    },
    {
     "name": "stderr",
     "output_type": "stream",
     "text": [
      "2025-04-22 01:14:09,599 - INFO - Train Epoch: 14 [25600/50000 (51%)]\tLoss: 1.501862 | Avg Loss: 1.478549 | Acc: 43.66%\n"
     ]
    },
    {
     "name": "stdout",
     "output_type": "stream",
     "text": [
      "Train Epoch: 14 [25600/50000 (51%)]\tLoss: 1.501862 | Avg Loss: 1.478549 | Acc: 43.66%\n"
     ]
    },
    {
     "name": "stderr",
     "output_type": "stream",
     "text": [
      "2025-04-22 01:17:54,543 - INFO - Epoch 14 Complete: Avg Loss 1.4802 | Acc 43.43%\n",
      "2025-04-22 01:17:54,546 - INFO - Adversarial Training Epoch 14 stats - Loss: 1.480215, Accuracy: 43.43%\n",
      "2025-04-22 01:17:54,577 - INFO - Saved model checkpoint to ./checkpoint/CIFAR10/ResNet_18/PART_Ensemble\\part_ensemble_epoch14.pth\n",
      "2025-04-22 01:17:54,577 - INFO - ================================================================\n",
      "2025-04-22 01:17:54,577 - INFO - Adversarial Training Epoch 15/25\n",
      "2025-04-22 01:17:54,577 - INFO - Adjusting learning rate for epoch 15\n",
      "2025-04-22 01:17:54,577 - INFO - Learning rate adjusted to 0.01\n",
      "2025-04-22 01:17:54,577 - INFO - Starting adversarial training for epoch 15 with Ensemble CAM\n"
     ]
    },
    {
     "name": "stdout",
     "output_type": "stream",
     "text": [
      "Epoch 14 Complete: Avg Loss 1.4802 | Acc 43.43%\n",
      "Adversarial Training Epoch 14 stats - Loss: 1.480215, Accuracy: 43.43%\n",
      "Saved model checkpoint to ./checkpoint/CIFAR10/ResNet_18/PART_Ensemble\\part_ensemble_epoch14.pth\n",
      "================================================================\n",
      "Adversarial Training Epoch 15/25\n",
      "Adjusting learning rate for epoch 15\n",
      "Learning rate adjusted to 0.01\n",
      "Starting adversarial training for epoch 15 with Ensemble CAM\n"
     ]
    },
    {
     "name": "stderr",
     "output_type": "stream",
     "text": [
      "2025-04-22 01:17:56,972 - INFO - Train Epoch: 15 [0/50000 (0%)]\tLoss: 1.511915 | Avg Loss: 1.511915 | Acc: 44.53%\n"
     ]
    },
    {
     "name": "stdout",
     "output_type": "stream",
     "text": [
      "Train Epoch: 15 [0/50000 (0%)]\tLoss: 1.511915 | Avg Loss: 1.511915 | Acc: 44.53%\n"
     ]
    },
    {
     "name": "stderr",
     "output_type": "stream",
     "text": [
      "2025-04-22 01:21:55,450 - INFO - Train Epoch: 15 [25600/50000 (51%)]\tLoss: 1.433976 | Avg Loss: 1.464788 | Acc: 44.12%\n"
     ]
    },
    {
     "name": "stdout",
     "output_type": "stream",
     "text": [
      "Train Epoch: 15 [25600/50000 (51%)]\tLoss: 1.433976 | Avg Loss: 1.464788 | Acc: 44.12%\n"
     ]
    },
    {
     "name": "stderr",
     "output_type": "stream",
     "text": [
      "2025-04-22 01:25:40,426 - INFO - Epoch 15 Complete: Avg Loss 1.4658 | Acc 43.84%\n",
      "2025-04-22 01:25:40,426 - INFO - Adversarial Training Epoch 15 stats - Loss: 1.465780, Accuracy: 43.84%\n",
      "2025-04-22 01:25:40,426 - INFO - ================================================================\n",
      "2025-04-22 01:25:40,429 - INFO - Adversarial Training Epoch 16/25\n",
      "2025-04-22 01:25:40,430 - INFO - Adjusting learning rate for epoch 16\n",
      "2025-04-22 01:25:40,431 - INFO - Learning rate adjusted to 0.01\n",
      "2025-04-22 01:25:40,431 - INFO - Starting adversarial training for epoch 16 with Ensemble CAM\n"
     ]
    },
    {
     "name": "stdout",
     "output_type": "stream",
     "text": [
      "Epoch 15 Complete: Avg Loss 1.4658 | Acc 43.84%\n",
      "Adversarial Training Epoch 15 stats - Loss: 1.465780, Accuracy: 43.84%\n",
      "================================================================\n",
      "Adversarial Training Epoch 16/25\n",
      "Adjusting learning rate for epoch 16\n",
      "Learning rate adjusted to 0.01\n",
      "Starting adversarial training for epoch 16 with Ensemble CAM\n"
     ]
    },
    {
     "name": "stderr",
     "output_type": "stream",
     "text": [
      "2025-04-22 01:25:42,800 - INFO - Train Epoch: 16 [0/50000 (0%)]\tLoss: 1.395975 | Avg Loss: 1.395975 | Acc: 41.80%\n"
     ]
    },
    {
     "name": "stdout",
     "output_type": "stream",
     "text": [
      "Train Epoch: 16 [0/50000 (0%)]\tLoss: 1.395975 | Avg Loss: 1.395975 | Acc: 41.80%\n"
     ]
    },
    {
     "name": "stderr",
     "output_type": "stream",
     "text": [
      "2025-04-22 01:29:41,240 - INFO - Train Epoch: 16 [25600/50000 (51%)]\tLoss: 1.470361 | Avg Loss: 1.447971 | Acc: 44.47%\n"
     ]
    },
    {
     "name": "stdout",
     "output_type": "stream",
     "text": [
      "Train Epoch: 16 [25600/50000 (51%)]\tLoss: 1.470361 | Avg Loss: 1.447971 | Acc: 44.47%\n"
     ]
    },
    {
     "name": "stderr",
     "output_type": "stream",
     "text": [
      "2025-04-22 01:33:26,155 - INFO - Epoch 16 Complete: Avg Loss 1.4527 | Acc 44.17%\n",
      "2025-04-22 01:33:26,155 - INFO - Adversarial Training Epoch 16 stats - Loss: 1.452680, Accuracy: 44.17%\n",
      "2025-04-22 01:33:26,197 - INFO - Saved model checkpoint to ./checkpoint/CIFAR10/ResNet_18/PART_Ensemble\\part_ensemble_epoch16.pth\n",
      "2025-04-22 01:33:26,197 - INFO - ================================================================\n",
      "2025-04-22 01:33:26,197 - INFO - Adversarial Training Epoch 17/25\n",
      "2025-04-22 01:33:26,212 - INFO - Adjusting learning rate for epoch 17\n",
      "2025-04-22 01:33:26,212 - INFO - Learning rate adjusted to 0.01\n",
      "2025-04-22 01:33:26,212 - INFO - Starting adversarial training for epoch 17 with Ensemble CAM\n"
     ]
    },
    {
     "name": "stdout",
     "output_type": "stream",
     "text": [
      "Epoch 16 Complete: Avg Loss 1.4527 | Acc 44.17%\n",
      "Adversarial Training Epoch 16 stats - Loss: 1.452680, Accuracy: 44.17%\n",
      "Saved model checkpoint to ./checkpoint/CIFAR10/ResNet_18/PART_Ensemble\\part_ensemble_epoch16.pth\n",
      "================================================================\n",
      "Adversarial Training Epoch 17/25\n",
      "Adjusting learning rate for epoch 17\n",
      "Learning rate adjusted to 0.01\n",
      "Starting adversarial training for epoch 17 with Ensemble CAM\n"
     ]
    },
    {
     "name": "stderr",
     "output_type": "stream",
     "text": [
      "2025-04-22 01:33:28,586 - INFO - Train Epoch: 17 [0/50000 (0%)]\tLoss: 1.392039 | Avg Loss: 1.392039 | Acc: 48.05%\n"
     ]
    },
    {
     "name": "stdout",
     "output_type": "stream",
     "text": [
      "Train Epoch: 17 [0/50000 (0%)]\tLoss: 1.392039 | Avg Loss: 1.392039 | Acc: 48.05%\n"
     ]
    },
    {
     "name": "stderr",
     "output_type": "stream",
     "text": [
      "2025-04-22 01:37:27,038 - INFO - Train Epoch: 17 [25600/50000 (51%)]\tLoss: 1.388049 | Avg Loss: 1.428662 | Acc: 45.42%\n"
     ]
    },
    {
     "name": "stdout",
     "output_type": "stream",
     "text": [
      "Train Epoch: 17 [25600/50000 (51%)]\tLoss: 1.388049 | Avg Loss: 1.428662 | Acc: 45.42%\n"
     ]
    },
    {
     "name": "stderr",
     "output_type": "stream",
     "text": [
      "2025-04-22 01:41:12,001 - INFO - Epoch 17 Complete: Avg Loss 1.4379 | Acc 45.00%\n",
      "2025-04-22 01:41:12,001 - INFO - Adversarial Training Epoch 17 stats - Loss: 1.437871, Accuracy: 45.00%\n",
      "2025-04-22 01:41:12,001 - INFO - ================================================================\n",
      "2025-04-22 01:41:12,004 - INFO - Adversarial Training Epoch 18/25\n",
      "2025-04-22 01:41:12,004 - INFO - Adjusting learning rate for epoch 18\n",
      "2025-04-22 01:41:12,005 - INFO - Learning rate adjusted to 0.01\n",
      "2025-04-22 01:41:12,005 - INFO - Starting adversarial training for epoch 18 with Ensemble CAM\n"
     ]
    },
    {
     "name": "stdout",
     "output_type": "stream",
     "text": [
      "Epoch 17 Complete: Avg Loss 1.4379 | Acc 45.00%\n",
      "Adversarial Training Epoch 17 stats - Loss: 1.437871, Accuracy: 45.00%\n",
      "================================================================\n",
      "Adversarial Training Epoch 18/25\n",
      "Adjusting learning rate for epoch 18\n",
      "Learning rate adjusted to 0.01\n",
      "Starting adversarial training for epoch 18 with Ensemble CAM\n"
     ]
    },
    {
     "name": "stderr",
     "output_type": "stream",
     "text": [
      "2025-04-22 01:41:14,378 - INFO - Train Epoch: 18 [0/50000 (0%)]\tLoss: 1.422849 | Avg Loss: 1.422849 | Acc: 43.75%\n"
     ]
    },
    {
     "name": "stdout",
     "output_type": "stream",
     "text": [
      "Train Epoch: 18 [0/50000 (0%)]\tLoss: 1.422849 | Avg Loss: 1.422849 | Acc: 43.75%\n"
     ]
    },
    {
     "name": "stderr",
     "output_type": "stream",
     "text": [
      "2025-04-22 01:45:12,856 - INFO - Train Epoch: 18 [25600/50000 (51%)]\tLoss: 1.451716 | Avg Loss: 1.431023 | Acc: 45.08%\n"
     ]
    },
    {
     "name": "stdout",
     "output_type": "stream",
     "text": [
      "Train Epoch: 18 [25600/50000 (51%)]\tLoss: 1.451716 | Avg Loss: 1.431023 | Acc: 45.08%\n"
     ]
    },
    {
     "name": "stderr",
     "output_type": "stream",
     "text": [
      "2025-04-22 01:48:57,787 - INFO - Epoch 18 Complete: Avg Loss 1.4241 | Acc 45.32%\n",
      "2025-04-22 01:48:57,789 - INFO - Adversarial Training Epoch 18 stats - Loss: 1.424078, Accuracy: 45.32%\n",
      "2025-04-22 01:48:57,828 - INFO - Saved model checkpoint to ./checkpoint/CIFAR10/ResNet_18/PART_Ensemble\\part_ensemble_epoch18.pth\n",
      "2025-04-22 01:48:57,828 - INFO - ================================================================\n",
      "2025-04-22 01:48:57,828 - INFO - Adversarial Training Epoch 19/25\n",
      "2025-04-22 01:48:57,830 - INFO - Adjusting learning rate for epoch 19\n",
      "2025-04-22 01:48:57,830 - INFO - Learning rate adjusted to 0.01\n",
      "2025-04-22 01:48:57,830 - INFO - Starting adversarial training for epoch 19 with Ensemble CAM\n"
     ]
    },
    {
     "name": "stdout",
     "output_type": "stream",
     "text": [
      "Epoch 18 Complete: Avg Loss 1.4241 | Acc 45.32%\n",
      "Adversarial Training Epoch 18 stats - Loss: 1.424078, Accuracy: 45.32%\n",
      "Saved model checkpoint to ./checkpoint/CIFAR10/ResNet_18/PART_Ensemble\\part_ensemble_epoch18.pth\n",
      "================================================================\n",
      "Adversarial Training Epoch 19/25\n",
      "Adjusting learning rate for epoch 19\n",
      "Learning rate adjusted to 0.01\n",
      "Starting adversarial training for epoch 19 with Ensemble CAM\n"
     ]
    },
    {
     "name": "stderr",
     "output_type": "stream",
     "text": [
      "2025-04-22 01:49:00,214 - INFO - Train Epoch: 19 [0/50000 (0%)]\tLoss: 1.530416 | Avg Loss: 1.530416 | Acc: 39.84%\n"
     ]
    },
    {
     "name": "stdout",
     "output_type": "stream",
     "text": [
      "Train Epoch: 19 [0/50000 (0%)]\tLoss: 1.530416 | Avg Loss: 1.530416 | Acc: 39.84%\n"
     ]
    },
    {
     "name": "stderr",
     "output_type": "stream",
     "text": [
      "2025-04-22 01:52:58,635 - INFO - Train Epoch: 19 [25600/50000 (51%)]\tLoss: 1.424154 | Avg Loss: 1.411592 | Acc: 45.81%\n"
     ]
    },
    {
     "name": "stdout",
     "output_type": "stream",
     "text": [
      "Train Epoch: 19 [25600/50000 (51%)]\tLoss: 1.424154 | Avg Loss: 1.411592 | Acc: 45.81%\n"
     ]
    },
    {
     "name": "stderr",
     "output_type": "stream",
     "text": [
      "2025-04-22 01:56:43,595 - INFO - Epoch 19 Complete: Avg Loss 1.4132 | Acc 45.62%\n",
      "2025-04-22 01:56:43,595 - INFO - Adversarial Training Epoch 19 stats - Loss: 1.413218, Accuracy: 45.62%\n",
      "2025-04-22 01:56:43,595 - INFO - ================================================================\n",
      "2025-04-22 01:56:43,602 - INFO - Adversarial Training Epoch 20/25\n",
      "2025-04-22 01:56:43,602 - INFO - Adjusting learning rate for epoch 20\n",
      "2025-04-22 01:56:43,602 - INFO - Learning rate adjusted to 0.01\n",
      "2025-04-22 01:56:43,603 - INFO - Starting adversarial training for epoch 20 with Ensemble CAM\n"
     ]
    },
    {
     "name": "stdout",
     "output_type": "stream",
     "text": [
      "Epoch 19 Complete: Avg Loss 1.4132 | Acc 45.62%\n",
      "Adversarial Training Epoch 19 stats - Loss: 1.413218, Accuracy: 45.62%\n",
      "================================================================\n",
      "Adversarial Training Epoch 20/25\n",
      "Adjusting learning rate for epoch 20\n",
      "Learning rate adjusted to 0.01\n",
      "Starting adversarial training for epoch 20 with Ensemble CAM\n"
     ]
    },
    {
     "name": "stderr",
     "output_type": "stream",
     "text": [
      "2025-04-22 01:56:45,985 - INFO - Train Epoch: 20 [0/50000 (0%)]\tLoss: 1.360006 | Avg Loss: 1.360006 | Acc: 47.66%\n"
     ]
    },
    {
     "name": "stdout",
     "output_type": "stream",
     "text": [
      "Train Epoch: 20 [0/50000 (0%)]\tLoss: 1.360006 | Avg Loss: 1.360006 | Acc: 47.66%\n"
     ]
    },
    {
     "name": "stderr",
     "output_type": "stream",
     "text": [
      "2025-04-22 02:00:44,448 - INFO - Train Epoch: 20 [25600/50000 (51%)]\tLoss: 1.394634 | Avg Loss: 1.401134 | Acc: 46.03%\n"
     ]
    },
    {
     "name": "stdout",
     "output_type": "stream",
     "text": [
      "Train Epoch: 20 [25600/50000 (51%)]\tLoss: 1.394634 | Avg Loss: 1.401134 | Acc: 46.03%\n"
     ]
    },
    {
     "name": "stderr",
     "output_type": "stream",
     "text": [
      "2025-04-22 02:04:29,416 - INFO - Epoch 20 Complete: Avg Loss 1.4004 | Acc 46.12%\n",
      "2025-04-22 02:04:29,416 - INFO - Adversarial Training Epoch 20 stats - Loss: 1.400445, Accuracy: 46.12%\n",
      "2025-04-22 02:04:29,470 - INFO - Saved model checkpoint to ./checkpoint/CIFAR10/ResNet_18/PART_Ensemble\\part_ensemble_epoch20.pth\n",
      "2025-04-22 02:04:29,470 - INFO - ================================================================\n",
      "2025-04-22 02:04:29,470 - INFO - Adversarial Training Epoch 21/25\n",
      "2025-04-22 02:04:29,470 - INFO - Adjusting learning rate for epoch 21\n",
      "2025-04-22 02:04:29,480 - INFO - Learning rate adjusted to 0.01\n",
      "2025-04-22 02:04:29,480 - INFO - Starting adversarial training for epoch 21 with Ensemble CAM\n"
     ]
    },
    {
     "name": "stdout",
     "output_type": "stream",
     "text": [
      "Epoch 20 Complete: Avg Loss 1.4004 | Acc 46.12%\n",
      "Adversarial Training Epoch 20 stats - Loss: 1.400445, Accuracy: 46.12%\n",
      "Saved model checkpoint to ./checkpoint/CIFAR10/ResNet_18/PART_Ensemble\\part_ensemble_epoch20.pth\n",
      "================================================================\n",
      "Adversarial Training Epoch 21/25\n",
      "Adjusting learning rate for epoch 21\n",
      "Learning rate adjusted to 0.01\n",
      "Starting adversarial training for epoch 21 with Ensemble CAM\n"
     ]
    },
    {
     "name": "stderr",
     "output_type": "stream",
     "text": [
      "2025-04-22 02:04:31,860 - INFO - Train Epoch: 21 [0/50000 (0%)]\tLoss: 1.494348 | Avg Loss: 1.494348 | Acc: 41.80%\n"
     ]
    },
    {
     "name": "stdout",
     "output_type": "stream",
     "text": [
      "Train Epoch: 21 [0/50000 (0%)]\tLoss: 1.494348 | Avg Loss: 1.494348 | Acc: 41.80%\n"
     ]
    },
    {
     "name": "stderr",
     "output_type": "stream",
     "text": [
      "2025-04-22 02:08:30,376 - INFO - Train Epoch: 21 [25600/50000 (51%)]\tLoss: 1.436364 | Avg Loss: 1.383782 | Acc: 46.85%\n"
     ]
    },
    {
     "name": "stdout",
     "output_type": "stream",
     "text": [
      "Train Epoch: 21 [25600/50000 (51%)]\tLoss: 1.436364 | Avg Loss: 1.383782 | Acc: 46.85%\n"
     ]
    },
    {
     "name": "stderr",
     "output_type": "stream",
     "text": [
      "2025-04-22 02:12:15,388 - INFO - Epoch 21 Complete: Avg Loss 1.3872 | Acc 46.71%\n",
      "2025-04-22 02:12:15,388 - INFO - Adversarial Training Epoch 21 stats - Loss: 1.387228, Accuracy: 46.71%\n",
      "2025-04-22 02:12:15,388 - INFO - ================================================================\n",
      "2025-04-22 02:12:15,388 - INFO - Adversarial Training Epoch 22/25\n",
      "2025-04-22 02:12:15,401 - INFO - Adjusting learning rate for epoch 22\n",
      "2025-04-22 02:12:15,402 - INFO - Learning rate adjusted to 0.01\n",
      "2025-04-22 02:12:15,402 - INFO - Starting adversarial training for epoch 22 with Ensemble CAM\n"
     ]
    },
    {
     "name": "stdout",
     "output_type": "stream",
     "text": [
      "Epoch 21 Complete: Avg Loss 1.3872 | Acc 46.71%\n",
      "Adversarial Training Epoch 21 stats - Loss: 1.387228, Accuracy: 46.71%\n",
      "================================================================\n",
      "Adversarial Training Epoch 22/25\n",
      "Adjusting learning rate for epoch 22\n",
      "Learning rate adjusted to 0.01\n",
      "Starting adversarial training for epoch 22 with Ensemble CAM\n"
     ]
    },
    {
     "name": "stderr",
     "output_type": "stream",
     "text": [
      "2025-04-22 02:12:17,791 - INFO - Train Epoch: 22 [0/50000 (0%)]\tLoss: 1.473846 | Avg Loss: 1.473846 | Acc: 41.41%\n"
     ]
    },
    {
     "name": "stdout",
     "output_type": "stream",
     "text": [
      "Train Epoch: 22 [0/50000 (0%)]\tLoss: 1.473846 | Avg Loss: 1.473846 | Acc: 41.41%\n"
     ]
    },
    {
     "name": "stderr",
     "output_type": "stream",
     "text": [
      "2025-04-22 02:16:16,311 - INFO - Train Epoch: 22 [25600/50000 (51%)]\tLoss: 1.369491 | Avg Loss: 1.376606 | Acc: 47.01%\n"
     ]
    },
    {
     "name": "stdout",
     "output_type": "stream",
     "text": [
      "Train Epoch: 22 [25600/50000 (51%)]\tLoss: 1.369491 | Avg Loss: 1.376606 | Acc: 47.01%\n"
     ]
    },
    {
     "name": "stderr",
     "output_type": "stream",
     "text": [
      "2025-04-22 02:20:01,353 - INFO - Epoch 22 Complete: Avg Loss 1.3773 | Acc 47.17%\n",
      "2025-04-22 02:20:01,353 - INFO - Adversarial Training Epoch 22 stats - Loss: 1.377318, Accuracy: 47.17%\n",
      "2025-04-22 02:20:01,402 - INFO - Saved model checkpoint to ./checkpoint/CIFAR10/ResNet_18/PART_Ensemble\\part_ensemble_epoch22.pth\n",
      "2025-04-22 02:20:01,402 - INFO - ================================================================\n",
      "2025-04-22 02:20:01,402 - INFO - Adversarial Training Epoch 23/25\n",
      "2025-04-22 02:20:01,402 - INFO - Adjusting learning rate for epoch 23\n",
      "2025-04-22 02:20:01,402 - INFO - Learning rate adjusted to 0.01\n",
      "2025-04-22 02:20:01,402 - INFO - Starting adversarial training for epoch 23 with Ensemble CAM\n"
     ]
    },
    {
     "name": "stdout",
     "output_type": "stream",
     "text": [
      "Epoch 22 Complete: Avg Loss 1.3773 | Acc 47.17%\n",
      "Adversarial Training Epoch 22 stats - Loss: 1.377318, Accuracy: 47.17%\n",
      "Saved model checkpoint to ./checkpoint/CIFAR10/ResNet_18/PART_Ensemble\\part_ensemble_epoch22.pth\n",
      "================================================================\n",
      "Adversarial Training Epoch 23/25\n",
      "Adjusting learning rate for epoch 23\n",
      "Learning rate adjusted to 0.01\n",
      "Starting adversarial training for epoch 23 with Ensemble CAM\n"
     ]
    },
    {
     "name": "stderr",
     "output_type": "stream",
     "text": [
      "2025-04-22 02:20:03,786 - INFO - Train Epoch: 23 [0/50000 (0%)]\tLoss: 1.394129 | Avg Loss: 1.394129 | Acc: 47.27%\n"
     ]
    },
    {
     "name": "stdout",
     "output_type": "stream",
     "text": [
      "Train Epoch: 23 [0/50000 (0%)]\tLoss: 1.394129 | Avg Loss: 1.394129 | Acc: 47.27%\n"
     ]
    },
    {
     "name": "stderr",
     "output_type": "stream",
     "text": [
      "2025-04-22 02:24:02,367 - INFO - Train Epoch: 23 [25600/50000 (51%)]\tLoss: 1.357308 | Avg Loss: 1.358504 | Acc: 47.44%\n"
     ]
    },
    {
     "name": "stdout",
     "output_type": "stream",
     "text": [
      "Train Epoch: 23 [25600/50000 (51%)]\tLoss: 1.357308 | Avg Loss: 1.358504 | Acc: 47.44%\n"
     ]
    },
    {
     "name": "stderr",
     "output_type": "stream",
     "text": [
      "2025-04-22 02:27:47,399 - INFO - Epoch 23 Complete: Avg Loss 1.3668 | Acc 47.36%\n",
      "2025-04-22 02:27:47,399 - INFO - Adversarial Training Epoch 23 stats - Loss: 1.366843, Accuracy: 47.36%\n",
      "2025-04-22 02:27:47,414 - INFO - ================================================================\n",
      "2025-04-22 02:27:47,414 - INFO - Adversarial Training Epoch 24/25\n",
      "2025-04-22 02:27:47,415 - INFO - Adjusting learning rate for epoch 24\n",
      "2025-04-22 02:27:47,415 - INFO - Learning rate adjusted to 0.01\n",
      "2025-04-22 02:27:47,416 - INFO - Starting adversarial training for epoch 24 with Ensemble CAM\n"
     ]
    },
    {
     "name": "stdout",
     "output_type": "stream",
     "text": [
      "Epoch 23 Complete: Avg Loss 1.3668 | Acc 47.36%\n",
      "Adversarial Training Epoch 23 stats - Loss: 1.366843, Accuracy: 47.36%\n",
      "================================================================\n",
      "Adversarial Training Epoch 24/25\n",
      "Adjusting learning rate for epoch 24\n",
      "Learning rate adjusted to 0.01\n",
      "Starting adversarial training for epoch 24 with Ensemble CAM\n"
     ]
    },
    {
     "name": "stderr",
     "output_type": "stream",
     "text": [
      "2025-04-22 02:27:49,802 - INFO - Train Epoch: 24 [0/50000 (0%)]\tLoss: 1.263393 | Avg Loss: 1.263393 | Acc: 50.78%\n"
     ]
    },
    {
     "name": "stdout",
     "output_type": "stream",
     "text": [
      "Train Epoch: 24 [0/50000 (0%)]\tLoss: 1.263393 | Avg Loss: 1.263393 | Acc: 50.78%\n"
     ]
    },
    {
     "name": "stderr",
     "output_type": "stream",
     "text": [
      "2025-04-22 02:31:48,336 - INFO - Train Epoch: 24 [25600/50000 (51%)]\tLoss: 1.332574 | Avg Loss: 1.348048 | Acc: 47.98%\n"
     ]
    },
    {
     "name": "stdout",
     "output_type": "stream",
     "text": [
      "Train Epoch: 24 [25600/50000 (51%)]\tLoss: 1.332574 | Avg Loss: 1.348048 | Acc: 47.98%\n"
     ]
    },
    {
     "name": "stderr",
     "output_type": "stream",
     "text": [
      "2025-04-22 02:35:33,393 - INFO - Epoch 24 Complete: Avg Loss 1.3534 | Acc 47.75%\n",
      "2025-04-22 02:35:33,393 - INFO - Adversarial Training Epoch 24 stats - Loss: 1.353415, Accuracy: 47.75%\n",
      "2025-04-22 02:35:33,432 - INFO - Saved model checkpoint to ./checkpoint/CIFAR10/ResNet_18/PART_Ensemble\\part_ensemble_epoch24.pth\n",
      "2025-04-22 02:35:33,432 - INFO - ================================================================\n",
      "2025-04-22 02:35:33,432 - INFO - Adversarial Training Epoch 25/25\n",
      "2025-04-22 02:35:33,432 - INFO - Adjusting learning rate for epoch 25\n",
      "2025-04-22 02:35:33,432 - INFO - Learning rate adjusted to 0.01\n",
      "2025-04-22 02:35:33,448 - INFO - Starting adversarial training for epoch 25 with Ensemble CAM\n"
     ]
    },
    {
     "name": "stdout",
     "output_type": "stream",
     "text": [
      "Epoch 24 Complete: Avg Loss 1.3534 | Acc 47.75%\n",
      "Adversarial Training Epoch 24 stats - Loss: 1.353415, Accuracy: 47.75%\n",
      "Saved model checkpoint to ./checkpoint/CIFAR10/ResNet_18/PART_Ensemble\\part_ensemble_epoch24.pth\n",
      "================================================================\n",
      "Adversarial Training Epoch 25/25\n",
      "Adjusting learning rate for epoch 25\n",
      "Learning rate adjusted to 0.01\n",
      "Starting adversarial training for epoch 25 with Ensemble CAM\n"
     ]
    },
    {
     "name": "stderr",
     "output_type": "stream",
     "text": [
      "2025-04-22 02:35:35,837 - INFO - Train Epoch: 25 [0/50000 (0%)]\tLoss: 1.369782 | Avg Loss: 1.369782 | Acc: 45.70%\n"
     ]
    },
    {
     "name": "stdout",
     "output_type": "stream",
     "text": [
      "Train Epoch: 25 [0/50000 (0%)]\tLoss: 1.369782 | Avg Loss: 1.369782 | Acc: 45.70%\n"
     ]
    },
    {
     "name": "stderr",
     "output_type": "stream",
     "text": [
      "2025-04-22 02:39:34,498 - INFO - Train Epoch: 25 [25600/50000 (51%)]\tLoss: 1.262547 | Avg Loss: 1.341345 | Acc: 48.60%\n"
     ]
    },
    {
     "name": "stdout",
     "output_type": "stream",
     "text": [
      "Train Epoch: 25 [25600/50000 (51%)]\tLoss: 1.262547 | Avg Loss: 1.341345 | Acc: 48.60%\n"
     ]
    },
    {
     "name": "stderr",
     "output_type": "stream",
     "text": [
      "2025-04-22 02:43:19,634 - INFO - Epoch 25 Complete: Avg Loss 1.3446 | Acc 48.39%\n",
      "2025-04-22 02:43:19,634 - INFO - Adversarial Training Epoch 25 stats - Loss: 1.344596, Accuracy: 48.39%\n",
      "2025-04-22 02:43:19,634 - INFO - ================================================================\n",
      "2025-04-22 02:43:19,649 - INFO - Starting final evaluation of the model\n",
      "2025-04-22 02:43:19,649 - INFO - PGD Evaluation =============================================================\n",
      "2025-04-22 02:43:19,649 - INFO - Starting evaluation with pgd attack...\n",
      "2025-04-22 02:43:19,701 - INFO - Eval with pgd: [256/10000 (2.50%)] Current Accuracy: 73.05%\n"
     ]
    },
    {
     "name": "stdout",
     "output_type": "stream",
     "text": [
      "Epoch 25 Complete: Avg Loss 1.3446 | Acc 48.39%\n",
      "Adversarial Training Epoch 25 stats - Loss: 1.344596, Accuracy: 48.39%\n",
      "================================================================\n",
      "Starting final evaluation of the model\n",
      "PGD Evaluation =============================================================\n",
      "Starting evaluation with pgd attack...\n",
      "Eval with pgd: [256/10000 (2.50%)] Current Accuracy: 73.05%\n"
     ]
    },
    {
     "name": "stderr",
     "output_type": "stream",
     "text": [
      "2025-04-22 02:43:21,828 - INFO - Evaluation with pgd completed: Average Loss: 0.829582, Accuracy: 72.73%\n",
      "2025-04-22 02:43:21,828 - INFO - PGD Evaluation results - Loss: 0.829582, Accuracy: 72.73%\n",
      "2025-04-22 02:43:21,828 - INFO - MMA Evaluation ==============================================================\n",
      "2025-04-22 02:43:21,832 - INFO - Starting evaluation with mma attack...\n",
      "2025-04-22 02:43:21,871 - INFO - Eval with mma: [256/10000 (2.50%)] Current Accuracy: 73.05%\n"
     ]
    },
    {
     "name": "stdout",
     "output_type": "stream",
     "text": [
      "Evaluation with pgd completed: Average Loss: 0.829582, Accuracy: 72.73%\n",
      "PGD Evaluation results - Loss: 0.829582, Accuracy: 72.73%\n",
      "MMA Evaluation ==============================================================\n",
      "Starting evaluation with mma attack...\n",
      "Eval with mma: [256/10000 (2.50%)] Current Accuracy: 73.05%\n"
     ]
    },
    {
     "name": "stderr",
     "output_type": "stream",
     "text": [
      "2025-04-22 02:43:23,821 - INFO - Evaluation with mma completed: Average Loss: 0.829582, Accuracy: 72.73%\n",
      "2025-04-22 02:43:23,821 - INFO - MMA Evaluation results - Loss: 0.829582, Accuracy: 72.73%\n",
      "2025-04-22 02:43:23,821 - INFO - Training and evaluation completed successfully!\n",
      "2025-04-22 02:43:23,821 - INFO - Full training log available at: logs/training_20250421_232639.log\n"
     ]
    },
    {
     "name": "stdout",
     "output_type": "stream",
     "text": [
      "Evaluation with mma completed: Average Loss: 0.829582, Accuracy: 72.73%\n",
      "MMA Evaluation results - Loss: 0.829582, Accuracy: 72.73%\n",
      "Training and evaluation completed successfully!\n",
      "Full training log available at: logs/training_20250421_232639.log\n"
     ]
    }
   ],
   "source": [
    "%run train_eval_part_plus.py --epochs 30 --warm-up 5 --save-freq 2 --batch-size 256"
   ]
  },
  {
   "cell_type": "code",
   "execution_count": 4,
   "id": "417d7326-4f4c-4698-a3bd-7a2d74498610",
   "metadata": {},
   "outputs": [
    {
     "name": "stdout",
     "output_type": "stream",
     "text": [
      "Using device: cuda\n",
      "Loading CIFAR10 dataset...\n",
      "Files already downloaded and verified\n",
      "Using standard CIFAR-10 class names.\n",
      "CIFAR10 dataset loaded.\n",
      "Loading model architecture: resnet\n",
      "Loading checkpoint from: checkpoint/CIFAR10/ResNet_18/PART/part_epoch24.pth\n",
      "Model loaded and set to evaluation mode.\n",
      "Initializing CAM Ensemble...\n",
      "CAM Ensemble initialized.\n",
      "Starting visualization for 10 samples...\n",
      "\n",
      "Processing sample 1/10 (Label: cat)\n",
      "CAM and weighted epsilon calculated.\n",
      "Generated adversarial example using pgd.\n",
      "Original Pred: dog, Adversarial Pred: frog\n",
      "Saved visualization to ./attack_visualizations\\sample_1_label_3_pgd.png\n",
      "\n",
      "Processing sample 2/10 (Label: ship)\n",
      "CAM and weighted epsilon calculated.\n",
      "Generated adversarial example using pgd.\n",
      "Original Pred: ship, Adversarial Pred: ship\n",
      "Saved visualization to ./attack_visualizations\\sample_2_label_8_pgd.png\n",
      "\n",
      "Processing sample 3/10 (Label: ship)\n",
      "CAM and weighted epsilon calculated.\n",
      "Generated adversarial example using pgd.\n",
      "Original Pred: ship, Adversarial Pred: automobile\n",
      "Saved visualization to ./attack_visualizations\\sample_3_label_8_pgd.png\n",
      "\n",
      "Processing sample 4/10 (Label: airplane)\n",
      "CAM and weighted epsilon calculated.\n",
      "Generated adversarial example using pgd.\n",
      "Original Pred: airplane, Adversarial Pred: airplane\n",
      "Saved visualization to ./attack_visualizations\\sample_4_label_0_pgd.png\n",
      "\n",
      "Processing sample 5/10 (Label: frog)\n",
      "CAM and weighted epsilon calculated.\n",
      "Generated adversarial example using pgd.\n",
      "Original Pred: frog, Adversarial Pred: frog\n",
      "Saved visualization to ./attack_visualizations\\sample_5_label_6_pgd.png\n",
      "\n",
      "Processing sample 6/10 (Label: frog)\n",
      "CAM and weighted epsilon calculated.\n",
      "Generated adversarial example using pgd.\n",
      "Original Pred: frog, Adversarial Pred: frog\n",
      "Saved visualization to ./attack_visualizations\\sample_6_label_6_pgd.png\n",
      "\n",
      "Processing sample 7/10 (Label: automobile)\n",
      "CAM and weighted epsilon calculated.\n",
      "Generated adversarial example using pgd.\n",
      "Original Pred: automobile, Adversarial Pred: truck\n",
      "Saved visualization to ./attack_visualizations\\sample_7_label_1_pgd.png\n",
      "\n",
      "Processing sample 8/10 (Label: frog)\n",
      "CAM and weighted epsilon calculated.\n",
      "Generated adversarial example using pgd.\n",
      "Original Pred: frog, Adversarial Pred: deer\n",
      "Saved visualization to ./attack_visualizations\\sample_8_label_6_pgd.png\n",
      "\n",
      "Processing sample 9/10 (Label: cat)\n",
      "CAM and weighted epsilon calculated.\n",
      "Generated adversarial example using pgd.\n",
      "Original Pred: dog, Adversarial Pred: dog\n",
      "Saved visualization to ./attack_visualizations\\sample_9_label_3_pgd.png\n",
      "\n",
      "Processing sample 10/10 (Label: automobile)\n",
      "CAM and weighted epsilon calculated.\n",
      "Generated adversarial example using pgd.\n",
      "Original Pred: truck, Adversarial Pred: truck\n",
      "Saved visualization to ./attack_visualizations\\sample_10_label_1_pgd.png\n",
      "\n",
      "Visualization complete.\n"
     ]
    },
    {
     "name": "stderr",
     "output_type": "stream",
     "text": [
      "C:\\Users\\pc\\anaconda3\\envs\\clean_env\\lib\\site-packages\\torch\\nn\\modules\\module.py:1117: UserWarning: Using a non-full backward hook when the forward contains multiple autograd Nodes is deprecated and will be removed in future versions. This hook will be missing some grad_input. Please use register_full_backward_hook to get the documented behavior.\n",
      "  warnings.warn(\"Using a non-full backward hook when the forward contains multiple autograd Nodes \"\n",
      "C:\\Users\\pc\\anaconda3\\envs\\clean_env\\lib\\site-packages\\torch\\nn\\modules\\module.py:1117: UserWarning: Using a non-full backward hook when the forward contains multiple autograd Nodes is deprecated and will be removed in future versions. This hook will be missing some grad_input. Please use register_full_backward_hook to get the documented behavior.\n",
      "  warnings.warn(\"Using a non-full backward hook when the forward contains multiple autograd Nodes \"\n"
     ]
    }
   ],
   "source": [
    "!python visualize_attacks.py \\\n",
    "    --checkpoint_path checkpoint/CIFAR10/ResNet_18/PART/part_epoch24.pth \\\n",
    "    --data CIFAR10 \\\n",
    "    --model resnet \\\n",
    "    --output_dir ./attack_visualizations \\\n",
    "    --num_samples 10 \\\n",
    "    --epsilon 8/255 \\\n",
    "    --low-epsilon 7/255 \\\n",
    "    --num-steps 10 \\\n",
    "    --step-size 2/255 \\\n",
    "    --tau 10.0\n"
   ]
  },
  {
   "cell_type": "code",
   "execution_count": null,
   "id": "6f4e97de-9ab6-4bf7-b683-f41dbf7f4df4",
   "metadata": {},
   "outputs": [],
   "source": []
  },
  {
   "cell_type": "code",
   "execution_count": 5,
   "id": "5f594fc8-9711-472f-a87e-9c15bb9e918b",
   "metadata": {},
   "outputs": [
    {
     "name": "stdout",
     "output_type": "stream",
     "text": [
      "Using device: cuda\n",
      "Loading CIFAR10 dataset...\n",
      "Files already downloaded and verified\n",
      "Using standard CIFAR-10 class names.\n",
      "CIFAR10 dataset loaded.\n",
      "Loading model architecture: resnet\n",
      "Loading checkpoint from: checkpoint/CIFAR10/ResNet_18/PART_Ensemble/part_ensemble_epoch24.pth\n",
      "Model loaded and set to evaluation mode.\n",
      "Initializing CAM Ensemble...\n",
      "CAM Ensemble initialized.\n",
      "Starting visualization for 10 samples...\n",
      "\n",
      "Processing sample 1/10 (Label: cat)\n",
      "CAM and weighted epsilon calculated.\n",
      "Generated adversarial example using pgd.\n",
      "Original Pred: cat, Adversarial Pred: deer\n",
      "Saved visualization to ./attack_visualizations/PART_Ensemble\\sample_1_label_3_pgd.png\n",
      "\n",
      "Processing sample 2/10 (Label: ship)\n",
      "CAM and weighted epsilon calculated.\n",
      "Generated adversarial example using pgd.\n",
      "Original Pred: ship, Adversarial Pred: ship\n",
      "Saved visualization to ./attack_visualizations/PART_Ensemble\\sample_2_label_8_pgd.png\n",
      "\n",
      "Processing sample 3/10 (Label: ship)\n",
      "CAM and weighted epsilon calculated.\n",
      "Generated adversarial example using pgd.\n",
      "Original Pred: ship, Adversarial Pred: ship\n",
      "Saved visualization to ./attack_visualizations/PART_Ensemble\\sample_3_label_8_pgd.png\n",
      "\n",
      "Processing sample 4/10 (Label: airplane)\n",
      "CAM and weighted epsilon calculated.\n",
      "Generated adversarial example using pgd.\n",
      "Original Pred: airplane, Adversarial Pred: airplane\n",
      "Saved visualization to ./attack_visualizations/PART_Ensemble\\sample_4_label_0_pgd.png\n",
      "\n",
      "Processing sample 5/10 (Label: frog)\n",
      "CAM and weighted epsilon calculated.\n",
      "Generated adversarial example using pgd.\n",
      "Original Pred: frog, Adversarial Pred: frog\n",
      "Saved visualization to ./attack_visualizations/PART_Ensemble\\sample_5_label_6_pgd.png\n",
      "\n",
      "Processing sample 6/10 (Label: frog)\n",
      "CAM and weighted epsilon calculated.\n",
      "Generated adversarial example using pgd.\n",
      "Original Pred: frog, Adversarial Pred: frog\n",
      "Saved visualization to ./attack_visualizations/PART_Ensemble\\sample_6_label_6_pgd.png\n",
      "\n",
      "Processing sample 7/10 (Label: automobile)\n",
      "CAM and weighted epsilon calculated.\n",
      "Generated adversarial example using pgd.\n",
      "Original Pred: truck, Adversarial Pred: truck\n",
      "Saved visualization to ./attack_visualizations/PART_Ensemble\\sample_7_label_1_pgd.png\n",
      "\n",
      "Processing sample 8/10 (Label: frog)\n",
      "CAM and weighted epsilon calculated.\n",
      "Generated adversarial example using pgd.\n",
      "Original Pred: frog, Adversarial Pred: bird\n",
      "Saved visualization to ./attack_visualizations/PART_Ensemble\\sample_8_label_6_pgd.png\n",
      "\n",
      "Processing sample 9/10 (Label: cat)\n",
      "CAM and weighted epsilon calculated.\n",
      "Generated adversarial example using pgd.\n",
      "Original Pred: cat, Adversarial Pred: dog\n",
      "Saved visualization to ./attack_visualizations/PART_Ensemble\\sample_9_label_3_pgd.png\n",
      "\n",
      "Processing sample 10/10 (Label: automobile)\n",
      "CAM and weighted epsilon calculated.\n",
      "Generated adversarial example using pgd.\n",
      "Original Pred: truck, Adversarial Pred: truck\n",
      "Saved visualization to ./attack_visualizations/PART_Ensemble\\sample_10_label_1_pgd.png\n",
      "\n",
      "Visualization complete.\n"
     ]
    },
    {
     "name": "stderr",
     "output_type": "stream",
     "text": [
      "C:\\Users\\pc\\anaconda3\\envs\\clean_env\\lib\\site-packages\\torch\\nn\\modules\\module.py:1117: UserWarning: Using a non-full backward hook when the forward contains multiple autograd Nodes is deprecated and will be removed in future versions. This hook will be missing some grad_input. Please use register_full_backward_hook to get the documented behavior.\n",
      "  warnings.warn(\"Using a non-full backward hook when the forward contains multiple autograd Nodes \"\n",
      "C:\\Users\\pc\\anaconda3\\envs\\clean_env\\lib\\site-packages\\torch\\nn\\modules\\module.py:1117: UserWarning: Using a non-full backward hook when the forward contains multiple autograd Nodes is deprecated and will be removed in future versions. This hook will be missing some grad_input. Please use register_full_backward_hook to get the documented behavior.\n",
      "  warnings.warn(\"Using a non-full backward hook when the forward contains multiple autograd Nodes \"\n"
     ]
    }
   ],
   "source": [
    "!python visualize_attacks.py \\\n",
    "    --checkpoint_path checkpoint/CIFAR10/ResNet_18/PART_Ensemble/part_ensemble_epoch24.pth \\\n",
    "    --data CIFAR10 \\\n",
    "    --model resnet \\\n",
    "    --output_dir ./attack_visualizations/PART_Ensemble \\\n",
    "    --num_samples 10 \\\n",
    "    --epsilon 8/255 \\\n",
    "    --low-epsilon 7/255 \\\n",
    "    --num-steps 10 \\\n",
    "    --step-size 2/255 \\\n",
    "    --tau 10.0\n"
   ]
  },
  {
   "cell_type": "code",
   "execution_count": 1,
   "id": "5a8f8b8a-dd5e-4124-a7f1-f181ce2bfc24",
   "metadata": {},
   "outputs": [
    {
     "name": "stderr",
     "output_type": "stream",
     "text": [
      "C:\\Users\\pc\\anaconda3\\envs\\clean_env\\lib\\site-packages\\tqdm\\auto.py:21: TqdmWarning: IProgress not found. Please update jupyter and ipywidgets. See https://ipywidgets.readthedocs.io/en/stable/user_install.html\n",
      "  from .autonotebook import tqdm as notebook_tqdm\n"
     ]
    },
    {
     "name": "stdout",
     "output_type": "stream",
     "text": [
      "Using device: cuda\n",
      "Files already downloaded and verified\n",
      "Files already downloaded and verified\n"
     ]
    },
    {
     "name": "stderr",
     "output_type": "stream",
     "text": [
      "2025-04-23 14:29:55,159 - INFO - Initialized ablation study for resnet on CIFAR10\n",
      "2025-04-23 14:29:55,159 - INFO - \n",
      "==================================================\n",
      "2025-04-23 14:29:55,160 - INFO - Running ablation for: Full Ensemble (Equal)\n",
      "2025-04-23 14:29:55,161 - INFO - ==================================================\n",
      "2025-04-23 14:29:55,212 - INFO - Loaded initial weights from ./checkpoint/CIFAR10/ResNet_18/PART_Ensemble/part_ensemble_epoch24.pth\n",
      "2025-04-23 14:29:55,214 - INFO - Epoch 1/5\n"
     ]
    },
    {
     "name": "stdout",
     "output_type": "stream",
     "text": [
      "Loaded initial weights from ./checkpoint/CIFAR10/ResNet_18/PART_Ensemble/part_ensemble_epoch24.pth\n"
     ]
    },
    {
     "name": "stderr",
     "output_type": "stream",
     "text": [
      "C:\\Users\\pc\\anaconda3\\envs\\clean_env\\lib\\site-packages\\torch\\nn\\modules\\module.py:1117: UserWarning: Using a non-full backward hook when the forward contains multiple autograd Nodes is deprecated and will be removed in future versions. This hook will be missing some grad_input. Please use register_full_backward_hook to get the documented behavior.\n",
      "  warnings.warn(\"Using a non-full backward hook when the forward contains multiple autograd Nodes \"\n",
      "2025-04-23 14:29:59,519 - INFO - CAM shape: torch.Size([512, 1, 32, 32]), Input shape: torch.Size([512, 3, 32, 32])\n",
      "2025-04-23 14:30:02,605 - INFO - Batch 0/98: Loss=1.3483, Acc=47.85%\n",
      "2025-04-23 14:32:02,994 - INFO - Batch 20/98: Loss=1.3110, Acc=49.14%                  | 20/98 [02:01<07:49,  6.02s/it]\n",
      "2025-04-23 14:34:03,187 - INFO - Batch 40/98: Loss=1.3078, Acc=49.20%                  | 40/98 [04:01<05:47,  5.99s/it]\n",
      "2025-04-23 14:36:03,061 - INFO - Batch 60/98: Loss=1.3077, Acc=49.26%                  | 60/98 [06:01<03:47,  5.99s/it]\n",
      "2025-04-23 14:38:03,033 - INFO - Batch 80/98: Loss=1.3070, Acc=49.62%████▊             | 80/98 [08:01<01:47,  6.00s/it]\n",
      "Training: 100%|████████████████████████████████████████████████████████████████████████| 98/98 [09:47<00:00,  6.00s/it]\n",
      "2025-04-23 14:39:42,969 - INFO - Epoch 1 complete - Loss: 1.3045, Accuracy: 49.73%\n",
      "2025-04-23 14:39:42,973 - INFO - Epoch 2/5\n",
      "2025-04-23 14:39:45,962 - INFO - CAM shape: torch.Size([512, 1, 32, 32]), Input shape: torch.Size([512, 3, 32, 32])t/s]\n",
      "2025-04-23 14:39:48,978 - INFO - Batch 0/98: Loss=1.2110, Acc=51.37%\n",
      "2025-04-23 14:41:48,900 - INFO - Batch 20/98: Loss=1.2605, Acc=50.82%                  | 20/98 [01:59<07:47,  6.00s/it]\n",
      "2025-04-23 14:43:48,835 - INFO - Batch 40/98: Loss=1.2778, Acc=50.44%                  | 40/98 [03:59<05:47,  6.00s/it]\n",
      "2025-04-23 14:45:48,720 - INFO - Batch 60/98: Loss=1.2860, Acc=50.04%                  | 60/98 [05:59<03:47,  6.00s/it]\n",
      "2025-04-23 14:47:48,548 - INFO - Batch 80/98: Loss=1.2879, Acc=50.02%████▊             | 80/98 [07:59<01:47,  5.99s/it]\n",
      "Training: 100%|████████████████████████████████████████████████████████████████████████| 98/98 [09:45<00:00,  5.97s/it]\n",
      "2025-04-23 14:49:28,384 - INFO - Epoch 2 complete - Loss: 1.2901, Accuracy: 49.97%\n",
      "2025-04-23 14:49:28,384 - INFO - Epoch 3/5\n",
      "2025-04-23 14:49:31,373 - INFO - CAM shape: torch.Size([512, 1, 32, 32]), Input shape: torch.Size([512, 3, 32, 32])t/s]\n",
      "2025-04-23 14:49:34,374 - INFO - Batch 0/98: Loss=1.2638, Acc=53.12%\n",
      "2025-04-23 14:51:34,184 - INFO - Batch 20/98: Loss=1.2671, Acc=51.14%                  | 20/98 [01:59<07:47,  6.00s/it]\n",
      "2025-04-23 14:53:34,230 - INFO - Batch 40/98: Loss=1.2691, Acc=50.94%                  | 40/98 [03:59<05:47,  6.00s/it]\n",
      "2025-04-23 14:55:34,126 - INFO - Batch 60/98: Loss=1.2737, Acc=50.67%                  | 60/98 [05:59<03:47,  6.00s/it]\n",
      "2025-04-23 14:57:34,027 - INFO - Batch 80/98: Loss=1.2770, Acc=50.61%████▊             | 80/98 [07:59<01:47,  6.00s/it]\n",
      "Training: 100%|████████████████████████████████████████████████████████████████████████| 98/98 [09:45<00:00,  5.97s/it]\n",
      "2025-04-23 14:59:13,898 - INFO - Epoch 3 complete - Loss: 1.2775, Accuracy: 50.51%\n",
      "2025-04-23 14:59:13,900 - INFO - Epoch 4/5\n",
      "2025-04-23 14:59:16,878 - INFO - CAM shape: torch.Size([512, 1, 32, 32]), Input shape: torch.Size([512, 3, 32, 32])t/s]\n",
      "2025-04-23 14:59:19,896 - INFO - Batch 0/98: Loss=1.2848, Acc=48.63%\n",
      "2025-04-23 15:01:19,956 - INFO - Batch 20/98: Loss=1.2625, Acc=50.97%                  | 20/98 [02:00<07:47,  6.00s/it]\n",
      "2025-04-23 15:03:19,865 - INFO - Batch 40/98: Loss=1.2713, Acc=50.81%                  | 40/98 [03:59<05:48,  6.00s/it]\n",
      "2025-04-23 15:05:19,819 - INFO - Batch 60/98: Loss=1.2674, Acc=50.94%                  | 60/98 [05:59<03:47,  6.00s/it]\n",
      "2025-04-23 15:07:19,818 - INFO - Batch 80/98: Loss=1.2707, Acc=50.73%████▊             | 80/98 [07:59<01:47,  6.00s/it]\n",
      "Training: 100%|████████████████████████████████████████████████████████████████████████| 98/98 [09:45<00:00,  5.98s/it]\n",
      "2025-04-23 15:08:59,692 - INFO - Epoch 4 complete - Loss: 1.2712, Accuracy: 50.73%\n",
      "2025-04-23 15:08:59,697 - INFO - Epoch 5/5\n",
      "2025-04-23 15:09:02,680 - INFO - CAM shape: torch.Size([512, 1, 32, 32]), Input shape: torch.Size([512, 3, 32, 32])t/s]\n",
      "2025-04-23 15:09:05,679 - INFO - Batch 0/98: Loss=1.2096, Acc=53.91%\n",
      "2025-04-23 15:11:05,477 - INFO - Batch 20/98: Loss=1.2609, Acc=51.26%                  | 20/98 [01:59<07:46,  5.99s/it]\n",
      "2025-04-23 15:13:05,490 - INFO - Batch 40/98: Loss=1.2592, Acc=51.29%                  | 40/98 [03:59<05:47,  6.00s/it]\n",
      "2025-04-23 15:15:05,381 - INFO - Batch 60/98: Loss=1.2618, Acc=51.04%                  | 60/98 [05:59<03:47,  6.00s/it]\n",
      "2025-04-23 15:17:05,367 - INFO - Batch 80/98: Loss=1.2632, Acc=50.88%████▊             | 80/98 [07:59<01:47,  5.99s/it]\n",
      "Training: 100%|████████████████████████████████████████████████████████████████████████| 98/98 [09:45<00:00,  5.97s/it]\n",
      "2025-04-23 15:18:45,229 - INFO - Epoch 5 complete - Loss: 1.2632, Accuracy: 51.01%\n",
      "2025-04-23 15:18:47,456 - INFO - Eval batch 0/20: Clean=78.52%, Robust=44.14%                   | 0/20 [00:00<?, ?it/s]\n",
      "Evaluating: 100%|██████████████████████████████████████████████████████████████████████| 20/20 [00:43<00:00,  2.18s/it]\n",
      "2025-04-23 15:19:28,793 - INFO - Ablation for Full Ensemble (Equal) completed:\n",
      "2025-04-23 15:19:28,794 - INFO -   Clean Accuracy: 76.57%\n",
      "2025-04-23 15:19:28,795 - INFO -   Robust Accuracy: 44.99%\n",
      "2025-04-23 15:19:28,796 - INFO - \n",
      "==================================================\n",
      "2025-04-23 15:19:28,797 - INFO - Running ablation for: Grad-CAM Only\n",
      "2025-04-23 15:19:28,798 - INFO - ==================================================\n",
      "2025-04-23 15:19:28,845 - INFO - Loaded initial weights from ./checkpoint/CIFAR10/ResNet_18/PART_Ensemble/part_ensemble_epoch24.pth\n",
      "2025-04-23 15:19:28,848 - INFO - Epoch 1/5\n",
      "2025-04-23 15:19:31,809 - INFO - CAM shape: torch.Size([512, 1, 32, 32]), Input shape: torch.Size([512, 3, 32, 32])t/s]\n",
      "2025-04-23 15:19:34,811 - INFO - Batch 0/98: Loss=1.4007, Acc=45.90%\n",
      "2025-04-23 15:21:34,733 - INFO - Batch 20/98: Loss=1.3075, Acc=49.63%                  | 20/98 [01:59<07:47,  6.00s/it]\n",
      "2025-04-23 15:23:34,615 - INFO - Batch 40/98: Loss=1.3007, Acc=49.67%                  | 40/98 [03:59<05:48,  6.00s/it]\n",
      "2025-04-23 15:25:34,605 - INFO - Batch 60/98: Loss=1.3020, Acc=49.64%                  | 60/98 [05:59<03:47,  5.99s/it]\n",
      "2025-04-23 15:27:34,505 - INFO - Batch 80/98: Loss=1.3008, Acc=49.88%████▊             | 80/98 [07:59<01:47,  6.00s/it]\n",
      "Training: 100%|████████████████████████████████████████████████████████████████████████| 98/98 [09:45<00:00,  5.97s/it]\n",
      "2025-04-23 15:29:14,377 - INFO - Epoch 1 complete - Loss: 1.3015, Accuracy: 49.85%\n",
      "2025-04-23 15:29:14,378 - INFO - Epoch 2/5\n",
      "2025-04-23 15:29:17,370 - INFO - CAM shape: torch.Size([512, 1, 32, 32]), Input shape: torch.Size([512, 3, 32, 32])t/s]\n",
      "2025-04-23 15:29:20,364 - INFO - Batch 0/98: Loss=1.2297, Acc=51.37%\n",
      "2025-04-23 15:31:20,358 - INFO - Batch 20/98: Loss=1.2894, Acc=49.56%                  | 20/98 [01:59<07:49,  6.02s/it]\n",
      "2025-04-23 15:33:20,221 - INFO - Batch 40/98: Loss=1.2820, Acc=50.03%                  | 40/98 [03:59<05:47,  5.99s/it]\n",
      "2025-04-23 15:35:20,255 - INFO - Batch 60/98: Loss=1.2911, Acc=49.70%                  | 60/98 [05:59<03:47,  6.00s/it]\n",
      "2025-04-23 15:37:20,240 - INFO - Batch 80/98: Loss=1.2856, Acc=49.90%████▊             | 80/98 [07:59<01:48,  6.01s/it]\n",
      "Training: 100%|████████████████████████████████████████████████████████████████████████| 98/98 [09:45<00:00,  5.98s/it]\n",
      "2025-04-23 15:39:00,177 - INFO - Epoch 2 complete - Loss: 1.2883, Accuracy: 49.88%\n",
      "2025-04-23 15:39:00,180 - INFO - Epoch 3/5\n",
      "2025-04-23 15:39:03,156 - INFO - CAM shape: torch.Size([512, 1, 32, 32]), Input shape: torch.Size([512, 3, 32, 32])t/s]\n",
      "2025-04-23 15:39:06,171 - INFO - Batch 0/98: Loss=1.2341, Acc=53.71%\n",
      "2025-04-23 15:41:06,190 - INFO - Batch 20/98: Loss=1.2642, Acc=51.66%                  | 20/98 [02:00<07:47,  6.00s/it]\n",
      "2025-04-23 15:43:06,126 - INFO - Batch 40/98: Loss=1.2696, Acc=50.69%                  | 40/98 [03:59<05:48,  6.00s/it]\n",
      "2025-04-23 15:45:06,069 - INFO - Batch 60/98: Loss=1.2692, Acc=50.77%                  | 60/98 [05:59<03:48,  6.01s/it]\n",
      "2025-04-23 15:47:06,411 - INFO - Batch 80/98: Loss=1.2740, Acc=50.63%████▊             | 80/98 [08:00<01:49,  6.07s/it]\n",
      "Training: 100%|████████████████████████████████████████████████████████████████████████| 98/98 [09:46<00:00,  5.98s/it]\n",
      "2025-04-23 15:48:46,401 - INFO - Epoch 3 complete - Loss: 1.2796, Accuracy: 50.43%\n",
      "2025-04-23 15:48:46,403 - INFO - Epoch 4/5\n",
      "2025-04-23 15:48:49,327 - INFO - CAM shape: torch.Size([512, 1, 32, 32]), Input shape: torch.Size([512, 3, 32, 32])t/s]\n",
      "2025-04-23 15:48:52,339 - INFO - Batch 0/98: Loss=1.2420, Acc=52.73%\n",
      "2025-04-23 15:50:52,341 - INFO - Batch 20/98: Loss=1.2604, Acc=50.64%                  | 20/98 [01:59<07:48,  6.00s/it]\n",
      "2025-04-23 15:52:52,250 - INFO - Batch 40/98: Loss=1.2663, Acc=50.64%                  | 40/98 [03:59<05:47,  6.00s/it]\n",
      "2025-04-23 15:54:52,285 - INFO - Batch 60/98: Loss=1.2651, Acc=50.78%                  | 60/98 [05:59<03:47,  6.00s/it]\n",
      "2025-04-23 15:56:52,281 - INFO - Batch 80/98: Loss=1.2696, Acc=50.50%████▊             | 80/98 [07:59<01:47,  6.00s/it]\n",
      "Training: 100%|████████████████████████████████████████████████████████████████████████| 98/98 [09:45<00:00,  5.98s/it]\n",
      "2025-04-23 15:58:32,236 - INFO - Epoch 4 complete - Loss: 1.2741, Accuracy: 50.43%\n",
      "2025-04-23 15:58:32,238 - INFO - Epoch 5/5\n",
      "2025-04-23 15:58:35,228 - INFO - CAM shape: torch.Size([512, 1, 32, 32]), Input shape: torch.Size([512, 3, 32, 32])t/s]\n",
      "2025-04-23 15:58:38,230 - INFO - Batch 0/98: Loss=1.3175, Acc=48.63%\n",
      "2025-04-23 16:00:38,212 - INFO - Batch 20/98: Loss=1.2644, Acc=50.66%                  | 20/98 [01:59<07:47,  6.00s/it]\n",
      "2025-04-23 16:02:38,110 - INFO - Batch 40/98: Loss=1.2562, Acc=50.94%                  | 40/98 [03:59<05:47,  5.99s/it]\n",
      "2025-04-23 16:04:38,091 - INFO - Batch 60/98: Loss=1.2550, Acc=51.09%                  | 60/98 [05:59<03:47,  5.99s/it]\n",
      "2025-04-23 16:06:38,042 - INFO - Batch 80/98: Loss=1.2613, Acc=50.97%████▊             | 80/98 [07:59<01:47,  6.00s/it]\n",
      "Training: 100%|████████████████████████████████████████████████████████████████████████| 98/98 [09:45<00:00,  5.98s/it]\n",
      "2025-04-23 16:08:18,004 - INFO - Epoch 5 complete - Loss: 1.2642, Accuracy: 50.94%\n",
      "2025-04-23 16:08:20,230 - INFO - Eval batch 0/20: Clean=75.98%, Robust=44.34%                   | 0/20 [00:00<?, ?it/s]\n",
      "Evaluating: 100%|██████████████████████████████████████████████████████████████████████| 20/20 [00:43<00:00,  2.18s/it]\n",
      "2025-04-23 16:09:01,560 - INFO - Ablation for Grad-CAM Only completed:\n",
      "2025-04-23 16:09:01,560 - INFO -   Clean Accuracy: 76.22%\n",
      "2025-04-23 16:09:01,564 - INFO -   Robust Accuracy: 44.52%\n",
      "2025-04-23 16:09:01,564 - INFO - \n",
      "==================================================\n",
      "2025-04-23 16:09:01,565 - INFO - Running ablation for: Grad-CAM++ Only\n",
      "2025-04-23 16:09:01,566 - INFO - ==================================================\n",
      "2025-04-23 16:09:01,625 - INFO - Loaded initial weights from ./checkpoint/CIFAR10/ResNet_18/PART_Ensemble/part_ensemble_epoch24.pth\n",
      "2025-04-23 16:09:01,627 - INFO - Epoch 1/5\n",
      "2025-04-23 16:09:04,632 - INFO - CAM shape: torch.Size([512, 1, 32, 32]), Input shape: torch.Size([512, 3, 32, 32])t/s]\n",
      "2025-04-23 16:09:07,625 - INFO - Batch 0/98: Loss=1.2957, Acc=50.20%\n",
      "2025-04-23 16:11:07,601 - INFO - Batch 20/98: Loss=1.2882, Acc=50.35%                  | 20/98 [01:59<07:47,  6.00s/it]\n",
      "2025-04-23 16:13:07,506 - INFO - Batch 40/98: Loss=1.2948, Acc=49.77%                  | 40/98 [03:59<05:48,  6.00s/it]\n",
      "2025-04-23 16:15:07,455 - INFO - Batch 60/98: Loss=1.2989, Acc=49.54%                  | 60/98 [05:59<03:48,  6.00s/it]\n",
      "2025-04-23 16:17:07,326 - INFO - Batch 80/98: Loss=1.2985, Acc=49.71%████▊             | 80/98 [07:59<01:48,  6.00s/it]\n",
      "Training: 100%|████████████████████████████████████████████████████████████████████████| 98/98 [09:45<00:00,  5.98s/it]\n",
      "2025-04-23 16:18:47,215 - INFO - Epoch 1 complete - Loss: 1.3012, Accuracy: 49.63%\n",
      "2025-04-23 16:18:47,215 - INFO - Epoch 2/5\n",
      "2025-04-23 16:18:50,209 - INFO - CAM shape: torch.Size([512, 1, 32, 32]), Input shape: torch.Size([512, 3, 32, 32])t/s]\n",
      "2025-04-23 16:18:53,218 - INFO - Batch 0/98: Loss=1.2899, Acc=50.00%\n",
      "2025-04-23 16:20:53,306 - INFO - Batch 20/98: Loss=1.2728, Acc=50.56%                  | 20/98 [02:00<07:48,  6.01s/it]\n",
      "2025-04-23 16:22:53,226 - INFO - Batch 40/98: Loss=1.2754, Acc=50.73%                  | 40/98 [04:00<05:47,  6.00s/it]\n",
      "2025-04-23 16:24:53,182 - INFO - Batch 60/98: Loss=1.2789, Acc=50.44%                  | 60/98 [05:59<03:47,  5.99s/it]\n",
      "2025-04-23 16:26:54,244 - INFO - Batch 80/98: Loss=1.2812, Acc=50.21%████▊             | 80/98 [08:01<01:48,  6.01s/it]\n",
      "Training: 100%|████████████████████████████████████████████████████████████████████████| 98/98 [09:47<00:00,  6.00s/it]\n",
      "2025-04-23 16:28:34,810 - INFO - Epoch 2 complete - Loss: 1.2897, Accuracy: 49.92%\n",
      "2025-04-23 16:28:34,812 - INFO - Epoch 3/5\n",
      "2025-04-23 16:28:37,795 - INFO - CAM shape: torch.Size([512, 1, 32, 32]), Input shape: torch.Size([512, 3, 32, 32])t/s]\n",
      "2025-04-23 16:28:40,812 - INFO - Batch 0/98: Loss=1.2965, Acc=49.41%\n",
      "2025-04-23 16:30:40,669 - INFO - Batch 20/98: Loss=1.2688, Acc=51.05%                  | 20/98 [01:59<07:47,  6.00s/it]\n",
      "2025-04-23 16:32:40,744 - INFO - Batch 40/98: Loss=1.2799, Acc=50.36%                  | 40/98 [03:59<05:48,  6.01s/it]\n",
      "2025-04-23 16:34:40,929 - INFO - Batch 60/98: Loss=1.2766, Acc=50.52%                  | 60/98 [06:00<03:47,  6.00s/it]\n",
      "2025-04-23 16:36:40,896 - INFO - Batch 80/98: Loss=1.2819, Acc=50.27%████▊             | 80/98 [08:00<01:48,  6.00s/it]\n",
      "Training: 100%|████████████████████████████████████████████████████████████████████████| 98/98 [09:46<00:00,  5.98s/it]\n",
      "2025-04-23 16:38:20,830 - INFO - Epoch 3 complete - Loss: 1.2846, Accuracy: 50.14%\n",
      "2025-04-23 16:38:20,833 - INFO - Epoch 4/5\n",
      "2025-04-23 16:38:23,824 - INFO - CAM shape: torch.Size([512, 1, 32, 32]), Input shape: torch.Size([512, 3, 32, 32])t/s]\n",
      "2025-04-23 16:38:26,827 - INFO - Batch 0/98: Loss=1.2178, Acc=52.34%\n",
      "2025-04-23 16:40:26,779 - INFO - Batch 20/98: Loss=1.2681, Acc=50.92%                  | 20/98 [01:59<07:47,  6.00s/it]\n",
      "2025-04-23 16:42:26,748 - INFO - Batch 40/98: Loss=1.2732, Acc=50.85%                  | 40/98 [03:59<05:47,  5.99s/it]\n",
      "2025-04-23 16:44:26,618 - INFO - Batch 60/98: Loss=1.2745, Acc=50.67%                  | 60/98 [05:59<03:47,  6.00s/it]\n",
      "2025-04-23 16:46:26,720 - INFO - Batch 80/98: Loss=1.2767, Acc=50.52%████▊             | 80/98 [07:59<01:48,  6.00s/it]\n",
      "Training: 100%|████████████████████████████████████████████████████████████████████████| 98/98 [09:45<00:00,  5.98s/it]\n",
      "2025-04-23 16:48:06,684 - INFO - Epoch 4 complete - Loss: 1.2735, Accuracy: 50.63%\n",
      "2025-04-23 16:48:06,685 - INFO - Epoch 5/5\n",
      "2025-04-23 16:48:09,679 - INFO - CAM shape: torch.Size([512, 1, 32, 32]), Input shape: torch.Size([512, 3, 32, 32])t/s]\n",
      "2025-04-23 16:48:12,684 - INFO - Batch 0/98: Loss=1.3186, Acc=45.31%\n",
      "2025-04-23 16:50:12,761 - INFO - Batch 20/98: Loss=1.2684, Acc=50.73%                  | 20/98 [02:00<07:48,  6.01s/it]\n",
      "2025-04-23 16:52:12,675 - INFO - Batch 40/98: Loss=1.2634, Acc=51.31%                  | 40/98 [03:59<05:47,  6.00s/it]\n",
      "2025-04-23 16:54:12,665 - INFO - Batch 60/98: Loss=1.2667, Acc=50.85%                  | 60/98 [05:59<03:48,  6.01s/it]\n",
      "2025-04-23 16:56:12,549 - INFO - Batch 80/98: Loss=1.2706, Acc=50.58%████▊             | 80/98 [07:59<01:47,  5.99s/it]\n",
      "Training: 100%|████████████████████████████████████████████████████████████████████████| 98/98 [09:45<00:00,  5.98s/it]\n",
      "2025-04-23 16:57:52,479 - INFO - Epoch 5 complete - Loss: 1.2709, Accuracy: 50.55%\n",
      "2025-04-23 16:57:54,710 - INFO - Eval batch 0/20: Clean=77.73%, Robust=44.92%                   | 0/20 [00:00<?, ?it/s]\n",
      "Evaluating: 100%|██████████████████████████████████████████████████████████████████████| 20/20 [00:43<00:00,  2.18s/it]\n",
      "2025-04-23 16:58:36,025 - INFO - Ablation for Grad-CAM++ Only completed:\n",
      "2025-04-23 16:58:36,025 - INFO -   Clean Accuracy: 75.84%\n",
      "2025-04-23 16:58:36,034 - INFO -   Robust Accuracy: 44.43%\n",
      "2025-04-23 16:58:36,035 - INFO - \n",
      "==================================================\n",
      "2025-04-23 16:58:36,035 - INFO - Running ablation for: Score-CAM Only\n",
      "2025-04-23 16:58:36,036 - INFO - ==================================================\n",
      "2025-04-23 16:58:36,090 - INFO - Loaded initial weights from ./checkpoint/CIFAR10/ResNet_18/PART_Ensemble/part_ensemble_epoch24.pth\n",
      "2025-04-23 16:58:36,093 - INFO - Epoch 1/5\n",
      "2025-04-23 16:58:39,079 - INFO - CAM shape: torch.Size([512, 1, 32, 32]), Input shape: torch.Size([512, 3, 32, 32])t/s]\n",
      "2025-04-23 16:58:42,095 - INFO - Batch 0/98: Loss=1.3684, Acc=45.70%\n",
      "2025-04-23 17:00:42,060 - INFO - Batch 20/98: Loss=1.3088, Acc=50.07%                  | 20/98 [01:59<07:47,  6.00s/it]\n",
      "2025-04-23 17:02:42,000 - INFO - Batch 40/98: Loss=1.3094, Acc=50.15%                  | 40/98 [03:59<05:48,  6.00s/it]\n",
      "2025-04-23 17:04:41,889 - INFO - Batch 60/98: Loss=1.3044, Acc=50.00%                  | 60/98 [05:59<03:47,  5.99s/it]\n",
      "2025-04-23 17:06:41,763 - INFO - Batch 80/98: Loss=1.2997, Acc=50.16%████▊             | 80/98 [07:59<01:47,  5.99s/it]\n",
      "Training: 100%|████████████████████████████████████████████████████████████████████████| 98/98 [09:45<00:00,  5.98s/it]\n",
      "2025-04-23 17:08:21,658 - INFO - Epoch 1 complete - Loss: 1.3021, Accuracy: 49.99%\n",
      "2025-04-23 17:08:21,658 - INFO - Epoch 2/5\n",
      "2025-04-23 17:08:24,644 - INFO - CAM shape: torch.Size([512, 1, 32, 32]), Input shape: torch.Size([512, 3, 32, 32])t/s]\n",
      "2025-04-23 17:08:27,648 - INFO - Batch 0/98: Loss=1.1938, Acc=53.52%\n",
      "2025-04-23 17:10:27,681 - INFO - Batch 20/98: Loss=1.2838, Acc=49.93%                  | 20/98 [01:59<07:48,  6.00s/it]\n",
      "2025-04-23 17:12:27,617 - INFO - Batch 40/98: Loss=1.2907, Acc=50.20%                  | 40/98 [03:59<05:47,  5.99s/it]\n",
      "2025-04-23 17:14:27,457 - INFO - Batch 60/98: Loss=1.2934, Acc=50.04%                  | 60/98 [05:59<03:47,  5.99s/it]\n",
      "2025-04-23 17:16:27,368 - INFO - Batch 80/98: Loss=1.2888, Acc=50.17%████▊             | 80/98 [07:59<01:47,  5.98s/it]\n",
      "Training: 100%|████████████████████████████████████████████████████████████████████████| 98/98 [09:45<00:00,  5.98s/it]\n",
      "2025-04-23 17:18:07,273 - INFO - Epoch 2 complete - Loss: 1.2904, Accuracy: 50.11%\n",
      "2025-04-23 17:18:07,273 - INFO - Epoch 3/5\n",
      "2025-04-23 17:18:10,257 - INFO - CAM shape: torch.Size([512, 1, 32, 32]), Input shape: torch.Size([512, 3, 32, 32])t/s]\n",
      "2025-04-23 17:18:13,280 - INFO - Batch 0/98: Loss=1.2510, Acc=51.17%\n",
      "2025-04-23 17:20:13,150 - INFO - Batch 20/98: Loss=1.2736, Acc=50.28%                  | 20/98 [01:59<07:47,  5.99s/it]\n",
      "2025-04-23 17:22:13,197 - INFO - Batch 40/98: Loss=1.2775, Acc=50.29%                  | 40/98 [03:59<05:48,  6.01s/it]\n",
      "2025-04-23 17:24:13,074 - INFO - Batch 60/98: Loss=1.2777, Acc=50.37%                  | 60/98 [05:59<03:47,  6.00s/it]\n",
      "2025-04-23 17:26:13,203 - INFO - Batch 80/98: Loss=1.2798, Acc=50.38%████▊             | 80/98 [07:59<01:48,  6.02s/it]\n",
      "Training: 100%|████████████████████████████████████████████████████████████████████████| 98/98 [09:45<00:00,  5.98s/it]\n",
      "2025-04-23 17:27:53,011 - INFO - Epoch 3 complete - Loss: 1.2795, Accuracy: 50.49%\n",
      "2025-04-23 17:27:53,012 - INFO - Epoch 4/5\n",
      "2025-04-23 17:27:56,004 - INFO - CAM shape: torch.Size([512, 1, 32, 32]), Input shape: torch.Size([512, 3, 32, 32])t/s]\n",
      "2025-04-23 17:27:59,011 - INFO - Batch 0/98: Loss=1.2550, Acc=49.41%\n",
      "2025-04-23 17:29:58,961 - INFO - Batch 20/98: Loss=1.2576, Acc=50.59%                  | 20/98 [01:59<07:47,  5.99s/it]\n",
      "2025-04-23 17:31:58,844 - INFO - Batch 40/98: Loss=1.2631, Acc=50.43%                  | 40/98 [03:59<05:47,  6.00s/it]\n",
      "2025-04-23 17:33:58,962 - INFO - Batch 60/98: Loss=1.2678, Acc=50.23%                  | 60/98 [05:59<03:48,  6.01s/it]\n",
      "2025-04-23 17:35:58,897 - INFO - Batch 80/98: Loss=1.2714, Acc=50.21%████▊             | 80/98 [07:59<01:47,  6.00s/it]\n",
      "Training: 100%|████████████████████████████████████████████████████████████████████████| 98/98 [09:45<00:00,  5.98s/it]\n",
      "2025-04-23 17:37:38,844 - INFO - Epoch 4 complete - Loss: 1.2718, Accuracy: 50.11%\n",
      "2025-04-23 17:37:38,847 - INFO - Epoch 5/5\n",
      "2025-04-23 17:37:41,830 - INFO - CAM shape: torch.Size([512, 1, 32, 32]), Input shape: torch.Size([512, 3, 32, 32])t/s]\n",
      "2025-04-23 17:37:44,845 - INFO - Batch 0/98: Loss=1.2999, Acc=50.78%\n",
      "2025-04-23 17:39:44,737 - INFO - Batch 20/98: Loss=1.2862, Acc=50.22%                  | 20/98 [01:59<07:48,  6.00s/it]\n",
      "2025-04-23 17:41:44,700 - INFO - Batch 40/98: Loss=1.2705, Acc=50.90%                  | 40/98 [03:59<05:47,  6.00s/it]\n",
      "2025-04-23 17:43:44,656 - INFO - Batch 60/98: Loss=1.2679, Acc=50.58%                  | 60/98 [05:59<03:47,  5.99s/it]\n",
      "2025-04-23 17:45:44,610 - INFO - Batch 80/98: Loss=1.2667, Acc=50.72%████▊             | 80/98 [07:59<01:47,  6.00s/it]\n",
      "Training: 100%|████████████████████████████████████████████████████████████████████████| 98/98 [09:45<00:00,  5.98s/it]\n",
      "2025-04-23 17:47:24,512 - INFO - Epoch 5 complete - Loss: 1.2679, Accuracy: 50.62%\n",
      "2025-04-23 17:47:26,731 - INFO - Eval batch 0/20: Clean=76.56%, Robust=42.38%                   | 0/20 [00:00<?, ?it/s]\n",
      "Evaluating: 100%|██████████████████████████████████████████████████████████████████████| 20/20 [00:43<00:00,  2.18s/it]\n",
      "2025-04-23 17:48:08,069 - INFO - Ablation for Score-CAM Only completed:\n",
      "2025-04-23 17:48:08,077 - INFO -   Clean Accuracy: 74.62%\n",
      "2025-04-23 17:48:08,077 - INFO -   Robust Accuracy: 44.08%\n",
      "2025-04-23 17:48:08,078 - INFO - \n",
      "==================================================\n",
      "2025-04-23 17:48:08,078 - INFO - Running ablation for: GradCAM Dominant\n",
      "2025-04-23 17:48:08,080 - INFO - ==================================================\n",
      "2025-04-23 17:48:08,119 - INFO - Loaded initial weights from ./checkpoint/CIFAR10/ResNet_18/PART_Ensemble/part_ensemble_epoch24.pth\n",
      "2025-04-23 17:48:08,119 - INFO - Epoch 1/5\n",
      "2025-04-23 17:48:11,113 - INFO - CAM shape: torch.Size([512, 1, 32, 32]), Input shape: torch.Size([512, 3, 32, 32])t/s]\n",
      "2025-04-23 17:48:14,114 - INFO - Batch 0/98: Loss=1.3128, Acc=50.20%\n",
      "2025-04-23 17:50:14,001 - INFO - Batch 20/98: Loss=1.3080, Acc=50.15%                  | 20/98 [01:59<07:47,  5.99s/it]\n",
      "2025-04-23 17:52:13,832 - INFO - Batch 40/98: Loss=1.2985, Acc=50.42%                  | 40/98 [03:59<05:47,  6.00s/it]\n",
      "2025-04-23 17:54:13,785 - INFO - Batch 60/98: Loss=1.2994, Acc=50.20%                  | 60/98 [05:59<03:47,  6.00s/it]\n",
      "2025-04-23 17:56:13,755 - INFO - Batch 80/98: Loss=1.3041, Acc=49.81%████▊             | 80/98 [07:59<01:48,  6.00s/it]\n",
      "Training: 100%|████████████████████████████████████████████████████████████████████████| 98/98 [09:45<00:00,  5.98s/it]\n",
      "2025-04-23 17:57:53,693 - INFO - Epoch 1 complete - Loss: 1.3023, Accuracy: 49.90%\n",
      "2025-04-23 17:57:53,694 - INFO - Epoch 2/5\n",
      "2025-04-23 17:57:56,677 - INFO - CAM shape: torch.Size([512, 1, 32, 32]), Input shape: torch.Size([512, 3, 32, 32])t/s]\n",
      "2025-04-23 17:57:59,700 - INFO - Batch 0/98: Loss=1.2469, Acc=53.71%\n",
      "2025-04-23 17:59:59,581 - INFO - Batch 20/98: Loss=1.2780, Acc=49.89%                  | 20/98 [01:59<07:46,  5.98s/it]\n",
      "2025-04-23 18:01:59,463 - INFO - Batch 40/98: Loss=1.2867, Acc=49.76%                  | 40/98 [03:59<05:47,  6.00s/it]\n",
      "2025-04-23 18:03:59,416 - INFO - Batch 60/98: Loss=1.2869, Acc=49.87%                  | 60/98 [05:59<03:47,  6.00s/it]\n",
      "2025-04-23 18:05:59,402 - INFO - Batch 80/98: Loss=1.2879, Acc=49.90%████▊             | 80/98 [07:59<01:47,  6.00s/it]\n",
      "Training: 100%|████████████████████████████████████████████████████████████████████████| 98/98 [09:45<00:00,  5.98s/it]\n",
      "2025-04-23 18:07:39,295 - INFO - Epoch 2 complete - Loss: 1.2885, Accuracy: 49.95%\n",
      "2025-04-23 18:07:39,297 - INFO - Epoch 3/5\n",
      "2025-04-23 18:07:42,305 - INFO - CAM shape: torch.Size([512, 1, 32, 32]), Input shape: torch.Size([512, 3, 32, 32])t/s]\n",
      "2025-04-23 18:07:45,317 - INFO - Batch 0/98: Loss=1.2088, Acc=54.30%\n",
      "2025-04-23 18:09:45,331 - INFO - Batch 20/98: Loss=1.2978, Acc=50.35%                  | 20/98 [02:00<07:47,  6.00s/it]\n",
      "2025-04-23 18:11:45,318 - INFO - Batch 40/98: Loss=1.2906, Acc=50.60%                  | 40/98 [04:00<05:47,  5.99s/it]\n",
      "2025-04-23 18:13:45,065 - INFO - Batch 60/98: Loss=1.2852, Acc=50.50%                  | 60/98 [05:59<03:47,  6.00s/it]\n",
      "2025-04-23 18:15:44,986 - INFO - Batch 80/98: Loss=1.2808, Acc=50.52%████▊             | 80/98 [07:59<01:47,  6.00s/it]\n",
      "Training: 100%|████████████████████████████████████████████████████████████████████████| 98/98 [09:45<00:00,  5.98s/it]\n",
      "2025-04-23 18:17:24,967 - INFO - Epoch 3 complete - Loss: 1.2819, Accuracy: 50.45%\n",
      "2025-04-23 18:17:24,968 - INFO - Epoch 4/5\n",
      "2025-04-23 18:17:27,948 - INFO - CAM shape: torch.Size([512, 1, 32, 32]), Input shape: torch.Size([512, 3, 32, 32])t/s]\n",
      "2025-04-23 18:17:30,971 - INFO - Batch 0/98: Loss=1.2896, Acc=49.80%\n",
      "2025-04-23 18:19:30,868 - INFO - Batch 20/98: Loss=1.2554, Acc=51.74%                  | 20/98 [01:59<07:47,  6.00s/it]\n",
      "2025-04-23 18:21:30,853 - INFO - Batch 40/98: Loss=1.2675, Acc=50.94%                  | 40/98 [03:59<05:48,  6.00s/it]\n",
      "2025-04-23 18:23:30,745 - INFO - Batch 60/98: Loss=1.2696, Acc=50.77%                  | 60/98 [05:59<03:47,  6.00s/it]\n",
      "2025-04-23 18:25:30,625 - INFO - Batch 80/98: Loss=1.2733, Acc=50.61%████▊             | 80/98 [07:59<01:48,  6.00s/it]\n",
      "Training: 100%|████████████████████████████████████████████████████████████████████████| 98/98 [09:45<00:00,  5.97s/it]\n",
      "2025-04-23 18:27:10,400 - INFO - Epoch 4 complete - Loss: 1.2726, Accuracy: 50.83%\n",
      "2025-04-23 18:27:10,401 - INFO - Epoch 5/5\n",
      "2025-04-23 18:27:13,381 - INFO - CAM shape: torch.Size([512, 1, 32, 32]), Input shape: torch.Size([512, 3, 32, 32])t/s]\n",
      "2025-04-23 18:27:16,403 - INFO - Batch 0/98: Loss=1.2219, Acc=49.80%\n",
      "2025-04-23 18:29:16,369 - INFO - Batch 20/98: Loss=1.2628, Acc=49.84%                  | 20/98 [01:59<07:48,  6.01s/it]\n",
      "2025-04-23 18:31:16,260 - INFO - Batch 40/98: Loss=1.2677, Acc=50.10%                  | 40/98 [03:59<05:47,  6.00s/it]\n",
      "2025-04-23 18:33:16,250 - INFO - Batch 60/98: Loss=1.2645, Acc=50.66%                  | 60/98 [05:59<03:48,  6.00s/it]\n",
      "2025-04-23 18:35:16,332 - INFO - Batch 80/98: Loss=1.2659, Acc=50.60%████▊             | 80/98 [07:59<01:47,  6.00s/it]\n",
      "Training: 100%|████████████████████████████████████████████████████████████████████████| 98/98 [09:45<00:00,  5.98s/it]\n",
      "2025-04-23 18:36:56,227 - INFO - Epoch 5 complete - Loss: 1.2669, Accuracy: 50.53%\n",
      "2025-04-23 18:36:58,447 - INFO - Eval batch 0/20: Clean=77.93%, Robust=42.58%                   | 0/20 [00:00<?, ?it/s]\n",
      "Evaluating: 100%|██████████████████████████████████████████████████████████████████████| 20/20 [00:43<00:00,  2.18s/it]\n",
      "2025-04-23 18:37:39,768 - INFO - Ablation for GradCAM Dominant completed:\n",
      "2025-04-23 18:37:39,776 - INFO -   Clean Accuracy: 76.44%\n",
      "2025-04-23 18:37:39,776 - INFO -   Robust Accuracy: 43.83%\n",
      "2025-04-23 18:37:39,777 - INFO - \n",
      "==================================================\n",
      "2025-04-23 18:37:39,778 - INFO - Running ablation for: GradCAM++ Dominant\n",
      "2025-04-23 18:37:39,779 - INFO - ==================================================\n",
      "2025-04-23 18:37:39,817 - INFO - Loaded initial weights from ./checkpoint/CIFAR10/ResNet_18/PART_Ensemble/part_ensemble_epoch24.pth\n",
      "2025-04-23 18:37:39,817 - INFO - Epoch 1/5\n",
      "2025-04-23 18:37:42,785 - INFO - CAM shape: torch.Size([512, 1, 32, 32]), Input shape: torch.Size([512, 3, 32, 32])t/s]\n",
      "2025-04-23 18:37:45,788 - INFO - Batch 0/98: Loss=1.4222, Acc=41.21%\n",
      "2025-04-23 18:39:47,967 - INFO - Batch 20/98: Loss=1.3097, Acc=49.93%                  | 20/98 [02:02<07:53,  6.07s/it]\n",
      "2025-04-23 18:41:49,028 - INFO - Batch 40/98: Loss=1.3047, Acc=49.94%                  | 40/98 [04:03<05:47,  6.00s/it]\n",
      "2025-04-23 18:43:48,918 - INFO - Batch 60/98: Loss=1.3010, Acc=49.91%                  | 60/98 [06:03<03:47,  5.99s/it]\n",
      "2025-04-23 18:45:48,919 - INFO - Batch 80/98: Loss=1.3042, Acc=49.77%████▊             | 80/98 [08:03<01:48,  6.00s/it]\n",
      "Training: 100%|████████████████████████████████████████████████████████████████████████| 98/98 [09:49<00:00,  6.01s/it]\n",
      "2025-04-23 18:47:28,863 - INFO - Epoch 1 complete - Loss: 1.3053, Accuracy: 49.72%\n",
      "2025-04-23 18:47:28,864 - INFO - Epoch 2/5\n",
      "2025-04-23 18:47:31,852 - INFO - CAM shape: torch.Size([512, 1, 32, 32]), Input shape: torch.Size([512, 3, 32, 32])t/s]\n",
      "2025-04-23 18:47:34,866 - INFO - Batch 0/98: Loss=1.2000, Acc=52.73%\n",
      "2025-04-23 18:49:34,675 - INFO - Batch 20/98: Loss=1.2839, Acc=50.55%                  | 20/98 [01:59<07:47,  6.00s/it]\n",
      "2025-04-23 18:51:34,685 - INFO - Batch 40/98: Loss=1.2888, Acc=50.29%                  | 40/98 [03:59<05:47,  6.00s/it]\n",
      "2025-04-23 18:53:34,678 - INFO - Batch 60/98: Loss=1.2899, Acc=50.14%                  | 60/98 [05:59<03:47,  6.00s/it]\n",
      "2025-04-23 18:55:34,709 - INFO - Batch 80/98: Loss=1.2923, Acc=50.04%████▊             | 80/98 [07:59<01:48,  6.00s/it]\n",
      "Training: 100%|████████████████████████████████████████████████████████████████████████| 98/98 [09:45<00:00,  5.98s/it]\n",
      "2025-04-23 18:57:14,547 - INFO - Epoch 2 complete - Loss: 1.2930, Accuracy: 49.99%\n",
      "2025-04-23 18:57:14,548 - INFO - Epoch 3/5\n",
      "2025-04-23 18:57:17,528 - INFO - CAM shape: torch.Size([512, 1, 32, 32]), Input shape: torch.Size([512, 3, 32, 32])t/s]\n",
      "2025-04-23 18:57:20,549 - INFO - Batch 0/98: Loss=1.2480, Acc=51.56%\n",
      "2025-04-23 18:59:20,610 - INFO - Batch 20/98: Loss=1.2701, Acc=50.33%                  | 20/98 [02:00<07:49,  6.01s/it]\n",
      "2025-04-23 19:01:20,592 - INFO - Batch 40/98: Loss=1.2781, Acc=50.14%                  | 40/98 [04:00<05:48,  6.00s/it]\n",
      "2025-04-23 19:03:20,595 - INFO - Batch 60/98: Loss=1.2796, Acc=50.24%                  | 60/98 [06:00<03:48,  6.00s/it]\n",
      "2025-04-23 19:05:20,481 - INFO - Batch 80/98: Loss=1.2807, Acc=50.27%████▊             | 80/98 [07:59<01:47,  6.00s/it]\n",
      "Training: 100%|████████████████████████████████████████████████████████████████████████| 98/98 [09:45<00:00,  5.98s/it]\n",
      "2025-04-23 19:07:00,441 - INFO - Epoch 3 complete - Loss: 1.2790, Accuracy: 50.29%\n",
      "2025-04-23 19:07:00,441 - INFO - Epoch 4/5\n",
      "2025-04-23 19:07:03,404 - INFO - CAM shape: torch.Size([512, 1, 32, 32]), Input shape: torch.Size([512, 3, 32, 32])t/s]\n",
      "2025-04-23 19:07:06,424 - INFO - Batch 0/98: Loss=1.3141, Acc=48.24%\n",
      "2025-04-23 19:09:06,394 - INFO - Batch 20/98: Loss=1.2742, Acc=50.69%                  | 20/98 [01:59<07:47,  6.00s/it]\n",
      "2025-04-23 19:11:06,399 - INFO - Batch 40/98: Loss=1.2614, Acc=51.17%                  | 40/98 [03:59<05:47,  6.00s/it]\n",
      "2025-04-23 19:13:06,344 - INFO - Batch 60/98: Loss=1.2680, Acc=50.75%                  | 60/98 [05:59<03:48,  6.00s/it]\n",
      "2025-04-23 19:15:06,297 - INFO - Batch 80/98: Loss=1.2699, Acc=50.75%████▊             | 80/98 [07:59<01:47,  5.99s/it]\n",
      "Training: 100%|████████████████████████████████████████████████████████████████████████| 98/98 [09:45<00:00,  5.98s/it]\n",
      "2025-04-23 19:16:46,268 - INFO - Epoch 4 complete - Loss: 1.2724, Accuracy: 50.66%\n",
      "2025-04-23 19:16:46,272 - INFO - Epoch 5/5\n",
      "2025-04-23 19:16:49,252 - INFO - CAM shape: torch.Size([512, 1, 32, 32]), Input shape: torch.Size([512, 3, 32, 32])t/s]\n",
      "2025-04-23 19:16:52,273 - INFO - Batch 0/98: Loss=1.2150, Acc=54.30%\n",
      "2025-04-23 19:18:52,255 - INFO - Batch 20/98: Loss=1.2470, Acc=52.19%                  | 20/98 [01:59<07:48,  6.00s/it]\n",
      "2025-04-23 19:20:52,222 - INFO - Batch 40/98: Loss=1.2546, Acc=51.34%                  | 40/98 [03:59<05:48,  6.00s/it]\n",
      "2025-04-23 19:22:52,202 - INFO - Batch 60/98: Loss=1.2582, Acc=51.17%                  | 60/98 [06:00<03:48,  6.00s/it]\n",
      "2025-04-23 19:24:52,070 - INFO - Batch 80/98: Loss=1.2595, Acc=51.11%████▊             | 80/98 [07:59<01:48,  6.00s/it]\n",
      "Training: 100%|████████████████████████████████████████████████████████████████████████| 98/98 [09:45<00:00,  5.98s/it]\n",
      "2025-04-23 19:26:32,037 - INFO - Epoch 5 complete - Loss: 1.2615, Accuracy: 50.99%\n",
      "2025-04-23 19:26:34,263 - INFO - Eval batch 0/20: Clean=77.15%, Robust=41.60%                   | 0/20 [00:00<?, ?it/s]\n",
      "Evaluating: 100%|██████████████████████████████████████████████████████████████████████| 20/20 [00:43<00:00,  2.18s/it]\n",
      "2025-04-23 19:27:15,601 - INFO - Ablation for GradCAM++ Dominant completed:\n",
      "2025-04-23 19:27:15,603 - INFO -   Clean Accuracy: 75.07%\n",
      "2025-04-23 19:27:15,604 - INFO -   Robust Accuracy: 41.98%\n",
      "2025-04-23 19:27:16,079 - INFO - Results visualization saved to ./ablation_results/ablation_results.png\n",
      "2025-04-23 19:27:17,048 - INFO - Training curves saved to ./ablation_results/ablation_training_curves.png\n",
      "2025-04-23 19:27:17,069 - INFO - Results saved to ./ablation_results\\ablation_results.csv\n"
     ]
    },
    {
     "name": "stdout",
     "output_type": "stream",
     "text": [
      "Ablation study complete.\n",
      "Results:\n",
      "Full Ensemble (Equal): Clean=76.57%, Robust=44.99%\n",
      "Grad-CAM Only: Clean=76.22%, Robust=44.52%\n",
      "Grad-CAM++ Only: Clean=75.84%, Robust=44.43%\n",
      "Score-CAM Only: Clean=74.62%, Robust=44.08%\n",
      "GradCAM Dominant: Clean=76.44%, Robust=43.83%\n",
      "GradCAM++ Dominant: Clean=75.07%, Robust=41.98%\n"
     ]
    }
   ],
   "source": [
    "%run ablation_study.py --initial-weights ./checkpoint/CIFAR10/ResNet_18/PART_Ensemble/part_ensemble_epoch24.pth --batch-size 512 --epochs 2 --data CIFAR10 --model resnet"
   ]
  },
  {
   "cell_type": "code",
   "execution_count": null,
   "id": "bf419499-53b5-43cd-8b3b-6196a33dc906",
   "metadata": {},
   "outputs": [],
   "source": []
  }
 ],
 "metadata": {
  "kernelspec": {
   "display_name": "Python 3 (ipykernel)",
   "language": "python",
   "name": "python3"
  },
  "language_info": {
   "codemirror_mode": {
    "name": "ipython",
    "version": 3
   },
   "file_extension": ".py",
   "mimetype": "text/x-python",
   "name": "python",
   "nbconvert_exporter": "python",
   "pygments_lexer": "ipython3",
   "version": "3.9.21"
  }
 },
 "nbformat": 4,
 "nbformat_minor": 5
}
